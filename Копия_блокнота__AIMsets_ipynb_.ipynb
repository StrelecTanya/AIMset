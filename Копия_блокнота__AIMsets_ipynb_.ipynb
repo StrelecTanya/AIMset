{
  "nbformat": 4,
  "nbformat_minor": 0,
  "metadata": {
    "colab": {
      "provenance": []
    },
    "kernelspec": {
      "name": "python3",
      "display_name": "Python 3"
    },
    "language_info": {
      "name": "python"
    }
  },
  "cells": [
    {
      "cell_type": "code",
      "execution_count": null,
      "metadata": {
        "colab": {
          "base_uri": "https://localhost:8080/"
        },
        "id": "9owH2j-QuHU8",
        "outputId": "c84e1712-4cea-462b-bb38-0cb0ca57fa84"
      },
      "outputs": [
        {
          "output_type": "stream",
          "name": "stdout",
          "text": [
            "--2024-06-08 15:07:23--  https://ftp.1000genomes.ebi.ac.uk/vol1/ftp/release/20130502/integrated_call_samples_v3.20130502.ALL.panel\n",
            "Resolving ftp.1000genomes.ebi.ac.uk (ftp.1000genomes.ebi.ac.uk)... 193.62.193.167\n",
            "Connecting to ftp.1000genomes.ebi.ac.uk (ftp.1000genomes.ebi.ac.uk)|193.62.193.167|:443... connected.\n",
            "HTTP request sent, awaiting response... 200 OK\n",
            "Length: 55156 (54K)\n",
            "Saving to: ‘integrated_call_samples_v3.20130502.ALL.panel’\n",
            "\n",
            "integrated_call_sam 100%[===================>]  53.86K   345KB/s    in 0.2s    \n",
            "\n",
            "2024-06-08 15:07:24 (345 KB/s) - ‘integrated_call_samples_v3.20130502.ALL.panel’ saved [55156/55156]\n",
            "\n"
          ]
        }
      ],
      "source": [
        "!wget https://ftp.1000genomes.ebi.ac.uk/vol1/ftp/release/20130502/integrated_call_samples_v3.20130502.ALL.panel"
      ]
    },
    {
      "cell_type": "code",
      "source": [
        "!wget -nH --cut-dirs=4 -r -p -e robots=off -A 'ALL.*' https://ftp.1000genomes.ebi.ac.uk/vol1/ftp/release/20130502/"
      ],
      "metadata": {
        "colab": {
          "base_uri": "https://localhost:8080/"
        },
        "id": "_KisggDRAaUZ",
        "outputId": "09b1e2c4-4ec9-43ee-fcff-8e48f1e29487"
      },
      "execution_count": null,
      "outputs": [
        {
          "output_type": "stream",
          "name": "stdout",
          "text": [
            "--2024-06-08 12:48:20--  https://ftp.1000genomes.ebi.ac.uk/vol1/ftp/release/20130502/\n",
            "Resolving ftp.1000genomes.ebi.ac.uk (ftp.1000genomes.ebi.ac.uk)... 193.62.193.167\n",
            "Connecting to ftp.1000genomes.ebi.ac.uk (ftp.1000genomes.ebi.ac.uk)|193.62.193.167|:443... connected.\n",
            "HTTP request sent, awaiting response... 200 OK\n",
            "Length: unspecified [text/html]\n",
            "Saving to: ‘index.html.tmp’\n",
            "\n",
            "index.html.tmp          [ <=>                ]  19.90K  --.-KB/s    in 0.08s   \n",
            "\n",
            "2024-06-08 12:48:20 (256 KB/s) - ‘index.html.tmp’ saved [20382]\n",
            "\n",
            "Removing index.html.tmp since it should be rejected.\n",
            "\n",
            "--2024-06-08 12:48:20--  https://ftp.1000genomes.ebi.ac.uk/vol1/ftp/release/20130502/?C=N;O=D\n",
            "Reusing existing connection to ftp.1000genomes.ebi.ac.uk:443.\n",
            "HTTP request sent, awaiting response... 200 OK\n",
            "Length: unspecified [text/html]\n",
            "Saving to: ‘index.html?C=N;O=D.tmp’\n",
            "\n",
            "index.html?C=N;O=D.     [ <=>                ]  19.90K  --.-KB/s    in 0.04s   \n",
            "\n",
            "2024-06-08 12:48:20 (545 KB/s) - ‘index.html?C=N;O=D.tmp’ saved [20382]\n",
            "\n",
            "Removing index.html?C=N;O=D.tmp since it should be rejected.\n",
            "\n",
            "--2024-06-08 12:48:20--  https://ftp.1000genomes.ebi.ac.uk/vol1/ftp/release/20130502/?C=M;O=A\n",
            "Reusing existing connection to ftp.1000genomes.ebi.ac.uk:443.\n",
            "HTTP request sent, awaiting response... 200 OK\n",
            "Length: unspecified [text/html]\n",
            "Saving to: ‘index.html?C=M;O=A.tmp’\n",
            "\n",
            "index.html?C=M;O=A.     [ <=>                ]  19.90K  --.-KB/s    in 0.04s   \n",
            "\n",
            "2024-06-08 12:48:21 (526 KB/s) - ‘index.html?C=M;O=A.tmp’ saved [20382]\n",
            "\n",
            "Removing index.html?C=M;O=A.tmp since it should be rejected.\n",
            "\n",
            "--2024-06-08 12:48:21--  https://ftp.1000genomes.ebi.ac.uk/vol1/ftp/release/20130502/?C=S;O=A\n",
            "Reusing existing connection to ftp.1000genomes.ebi.ac.uk:443.\n",
            "HTTP request sent, awaiting response... 200 OK\n",
            "Length: unspecified [text/html]\n",
            "Saving to: ‘index.html?C=S;O=A.tmp’\n",
            "\n",
            "index.html?C=S;O=A.     [ <=>                ]  19.90K  --.-KB/s    in 0.04s   \n",
            "\n",
            "2024-06-08 12:48:21 (479 KB/s) - ‘index.html?C=S;O=A.tmp’ saved [20382]\n",
            "\n",
            "Removing index.html?C=S;O=A.tmp since it should be rejected.\n",
            "\n",
            "--2024-06-08 12:48:21--  https://ftp.1000genomes.ebi.ac.uk/vol1/ftp/release/20130502/?C=D;O=A\n",
            "Reusing existing connection to ftp.1000genomes.ebi.ac.uk:443.\n",
            "HTTP request sent, awaiting response... 200 OK\n",
            "Length: unspecified [text/html]\n",
            "Saving to: ‘index.html?C=D;O=A.tmp’\n",
            "\n",
            "index.html?C=D;O=A.     [ <=>                ]  19.90K  --.-KB/s    in 0.03s   \n",
            "\n",
            "2024-06-08 12:48:21 (685 KB/s) - ‘index.html?C=D;O=A.tmp’ saved [20382]\n",
            "\n",
            "Removing index.html?C=D;O=A.tmp since it should be rejected.\n",
            "\n",
            "--2024-06-08 12:48:21--  https://ftp.1000genomes.ebi.ac.uk/vol1/ftp/release/\n",
            "Reusing existing connection to ftp.1000genomes.ebi.ac.uk:443.\n",
            "HTTP request sent, awaiting response... 200 OK\n",
            "Length: 2665 (2.6K) [text/html]\n",
            "Saving to: ‘index.html.tmp’\n",
            "\n",
            "index.html.tmp      100%[===================>]   2.60K  --.-KB/s    in 0s      \n",
            "\n",
            "2024-06-08 12:48:21 (819 MB/s) - ‘index.html.tmp’ saved [2665/2665]\n",
            "\n",
            "Removing index.html.tmp since it should be rejected.\n",
            "\n",
            "--2024-06-08 12:48:21--  https://ftp.1000genomes.ebi.ac.uk/vol1/ftp/release/20130502/ALL.chr1.phase3_shapeit2_mvncall_integrated_v5b.20130502.genotypes.vcf.gz\n",
            "Reusing existing connection to ftp.1000genomes.ebi.ac.uk:443.\n",
            "HTTP request sent, awaiting response... 200 OK\n",
            "Length: 1165011543 (1.1G) [application/x-gzip]\n",
            "Saving to: ‘ALL.chr1.phase3_shapeit2_mvncall_integrated_v5b.20130502.genotypes.vcf.gz’\n",
            "\n",
            "ALL.chr1.phase3_sha 100%[===================>]   1.08G  46.7MB/s    in 27s     \n",
            "\n",
            "2024-06-08 12:48:48 (41.7 MB/s) - ‘ALL.chr1.phase3_shapeit2_mvncall_integrated_v5b.20130502.genotypes.vcf.gz’ saved [1165011543/1165011543]\n",
            "\n",
            "--2024-06-08 12:48:48--  https://ftp.1000genomes.ebi.ac.uk/vol1/ftp/release/20130502/ALL.chr1.phase3_shapeit2_mvncall_integrated_v5b.20130502.genotypes.vcf.gz.tbi\n",
            "Reusing existing connection to ftp.1000genomes.ebi.ac.uk:443.\n",
            "HTTP request sent, awaiting response... 200 OK\n",
            "Length: 224369 (219K) [application/x-gzip]\n",
            "Saving to: ‘ALL.chr1.phase3_shapeit2_mvncall_integrated_v5b.20130502.genotypes.vcf.gz.tbi’\n",
            "\n",
            "ALL.chr1.phase3_sha 100%[===================>] 219.11K  --.-KB/s    in 0.001s  \n",
            "\n",
            "2024-06-08 12:48:48 (289 MB/s) - ‘ALL.chr1.phase3_shapeit2_mvncall_integrated_v5b.20130502.genotypes.vcf.gz.tbi’ saved [224369/224369]\n",
            "\n",
            "--2024-06-08 12:48:48--  https://ftp.1000genomes.ebi.ac.uk/vol1/ftp/release/20130502/ALL.chr2.phase3_shapeit2_mvncall_integrated_v5b.20130502.genotypes.vcf.gz\n",
            "Reusing existing connection to ftp.1000genomes.ebi.ac.uk:443.\n",
            "HTTP request sent, awaiting response... 200 OK\n",
            "Length: 1255861869 (1.2G) [application/x-gzip]\n",
            "Saving to: ‘ALL.chr2.phase3_shapeit2_mvncall_integrated_v5b.20130502.genotypes.vcf.gz’\n",
            "\n",
            "t2_mvncall_integrat  30%[=====>              ] 365.93M  49.1MB/s    eta 18s    ^C\n"
          ]
        }
      ]
    },
    {
      "cell_type": "markdown",
      "source": [
        "Практическая работа. Работа с библиотекой."
      ],
      "metadata": {
        "id": "wwmbfDmEJTaY"
      }
    },
    {
      "cell_type": "code",
      "source": [
        "pip install hail"
      ],
      "metadata": {
        "colab": {
          "base_uri": "https://localhost:8080/",
          "height": 1000
        },
        "id": "0MTUkqEhFUW_",
        "outputId": "cc72643f-16f6-41ac-aee2-ba2322798a08"
      },
      "execution_count": null,
      "outputs": [
        {
          "output_type": "stream",
          "name": "stdout",
          "text": [
            "Collecting hail\n",
            "  Downloading hail-0.2.131-py3-none-any.whl (144.7 MB)\n",
            "\u001b[2K     \u001b[90m━━━━━━━━━━━━━━━━━━━━━━━━━━━━━━━━━━━━━━━━\u001b[0m \u001b[32m144.7/144.7 MB\u001b[0m \u001b[31m7.0 MB/s\u001b[0m eta \u001b[36m0:00:00\u001b[0m\n",
            "\u001b[?25hCollecting aiodns<3,>=2.0.0 (from hail)\n",
            "  Downloading aiodns-2.0.0-py2.py3-none-any.whl (4.8 kB)\n",
            "Requirement already satisfied: aiohttp<4,>=3.9 in /usr/local/lib/python3.10/dist-packages (from hail) (3.9.5)\n",
            "Collecting azure-identity<2,>=1.6.0 (from hail)\n",
            "  Downloading azure_identity-1.16.0-py3-none-any.whl (166 kB)\n",
            "\u001b[2K     \u001b[90m━━━━━━━━━━━━━━━━━━━━━━━━━━━━━━━━━━━━━━━━\u001b[0m \u001b[32m166.1/166.1 kB\u001b[0m \u001b[31m18.8 MB/s\u001b[0m eta \u001b[36m0:00:00\u001b[0m\n",
            "\u001b[?25hCollecting azure-mgmt-storage==20.1.0 (from hail)\n",
            "  Downloading azure_mgmt_storage-20.1.0-py3-none-any.whl (2.3 MB)\n",
            "\u001b[2K     \u001b[90m━━━━━━━━━━━━━━━━━━━━━━━━━━━━━━━━━━━━━━━━\u001b[0m \u001b[32m2.3/2.3 MB\u001b[0m \u001b[31m62.0 MB/s\u001b[0m eta \u001b[36m0:00:00\u001b[0m\n",
            "\u001b[?25hCollecting azure-storage-blob<13,>=12.11.0 (from hail)\n",
            "  Downloading azure_storage_blob-12.20.0-py3-none-any.whl (392 kB)\n",
            "\u001b[2K     \u001b[90m━━━━━━━━━━━━━━━━━━━━━━━━━━━━━━━━━━━━━━━━\u001b[0m \u001b[32m392.2/392.2 kB\u001b[0m \u001b[31m31.5 MB/s\u001b[0m eta \u001b[36m0:00:00\u001b[0m\n",
            "\u001b[?25hCollecting boto3<2.0,>=1.17 (from hail)\n",
            "  Downloading boto3-1.34.122-py3-none-any.whl (139 kB)\n",
            "\u001b[2K     \u001b[90m━━━━━━━━━━━━━━━━━━━━━━━━━━━━━━━━━━━━━━━━\u001b[0m \u001b[32m139.3/139.3 kB\u001b[0m \u001b[31m14.4 MB/s\u001b[0m eta \u001b[36m0:00:00\u001b[0m\n",
            "\u001b[?25hCollecting botocore<2.0,>=1.20 (from hail)\n",
            "  Downloading botocore-1.34.122-py3-none-any.whl (12.3 MB)\n",
            "\u001b[2K     \u001b[90m━━━━━━━━━━━━━━━━━━━━━━━━━━━━━━━━━━━━━━━━\u001b[0m \u001b[32m12.3/12.3 MB\u001b[0m \u001b[31m53.4 MB/s\u001b[0m eta \u001b[36m0:00:00\u001b[0m\n",
            "\u001b[?25hCollecting dill<0.4,>=0.3.6 (from hail)\n",
            "  Downloading dill-0.3.8-py3-none-any.whl (116 kB)\n",
            "\u001b[2K     \u001b[90m━━━━━━━━━━━━━━━━━━━━━━━━━━━━━━━━━━━━━━━━\u001b[0m \u001b[32m116.3/116.3 kB\u001b[0m \u001b[31m12.3 MB/s\u001b[0m eta \u001b[36m0:00:00\u001b[0m\n",
            "\u001b[?25hRequirement already satisfied: frozenlist<2,>=1.3.1 in /usr/local/lib/python3.10/dist-packages (from hail) (1.4.1)\n",
            "Requirement already satisfied: google-auth<3,>=2.14.1 in /usr/local/lib/python3.10/dist-packages (from hail) (2.27.0)\n",
            "Collecting google-auth-oauthlib<1,>=0.5.2 (from hail)\n",
            "  Downloading google_auth_oauthlib-0.8.0-py2.py3-none-any.whl (19 kB)\n",
            "Collecting humanize<2,>=1.0.0 (from hail)\n",
            "  Downloading humanize-1.1.0-py3-none-any.whl (52 kB)\n",
            "\u001b[2K     \u001b[90m━━━━━━━━━━━━━━━━━━━━━━━━━━━━━━━━━━━━━━━━\u001b[0m \u001b[32m52.6/52.6 kB\u001b[0m \u001b[31m5.9 MB/s\u001b[0m eta \u001b[36m0:00:00\u001b[0m\n",
            "\u001b[?25hCollecting janus<1.1,>=0.6 (from hail)\n",
            "  Downloading janus-1.0.0-py3-none-any.whl (6.9 kB)\n",
            "Requirement already satisfied: nest-asyncio<2,>=1.5.8 in /usr/local/lib/python3.10/dist-packages (from hail) (1.6.0)\n",
            "Collecting orjson<4,>=3.9.15 (from hail)\n",
            "  Downloading orjson-3.10.3-cp310-cp310-manylinux_2_17_x86_64.manylinux2014_x86_64.whl (142 kB)\n",
            "\u001b[2K     \u001b[90m━━━━━━━━━━━━━━━━━━━━━━━━━━━━━━━━━━━━━━━━\u001b[0m \u001b[32m142.5/142.5 kB\u001b[0m \u001b[31m18.8 MB/s\u001b[0m eta \u001b[36m0:00:00\u001b[0m\n",
            "\u001b[?25hCollecting rich<13,>=12.6.0 (from hail)\n",
            "  Downloading rich-12.6.0-py3-none-any.whl (237 kB)\n",
            "\u001b[2K     \u001b[90m━━━━━━━━━━━━━━━━━━━━━━━━━━━━━━━━━━━━━━━━\u001b[0m \u001b[32m237.5/237.5 kB\u001b[0m \u001b[31m24.2 MB/s\u001b[0m eta \u001b[36m0:00:00\u001b[0m\n",
            "\u001b[?25hRequirement already satisfied: typer<1,>=0.9.0 in /usr/local/lib/python3.10/dist-packages (from hail) (0.9.4)\n",
            "Collecting python-json-logger<3,>=2.0.2 (from hail)\n",
            "  Downloading python_json_logger-2.0.7-py3-none-any.whl (8.1 kB)\n",
            "Requirement already satisfied: pyyaml<7.0,>=6.0 in /usr/local/lib/python3.10/dist-packages (from hail) (6.0.1)\n",
            "Requirement already satisfied: sortedcontainers<3,>=2.4.0 in /usr/local/lib/python3.10/dist-packages (from hail) (2.4.0)\n",
            "Requirement already satisfied: tabulate<1,>=0.8.9 in /usr/local/lib/python3.10/dist-packages (from hail) (0.9.0)\n",
            "Collecting jproperties<3,>=2.1.1 (from hail)\n",
            "  Downloading jproperties-2.1.1-py2.py3-none-any.whl (17 kB)\n",
            "Collecting avro<1.12,>=1.10 (from hail)\n",
            "  Downloading avro-1.11.3.tar.gz (90 kB)\n",
            "\u001b[2K     \u001b[90m━━━━━━━━━━━━━━━━━━━━━━━━━━━━━━━━━━━━━━━━\u001b[0m \u001b[32m90.6/90.6 kB\u001b[0m \u001b[31m11.1 MB/s\u001b[0m eta \u001b[36m0:00:00\u001b[0m\n",
            "\u001b[?25h  Installing build dependencies ... \u001b[?25l\u001b[?25hdone\n",
            "  Getting requirements to build wheel ... \u001b[?25l\u001b[?25hdone\n",
            "  Preparing metadata (pyproject.toml) ... \u001b[?25l\u001b[?25hdone\n",
            "Requirement already satisfied: bokeh<3.4,>=3 in /usr/local/lib/python3.10/dist-packages (from hail) (3.3.4)\n",
            "Requirement already satisfied: decorator<5 in /usr/local/lib/python3.10/dist-packages (from hail) (4.4.2)\n",
            "Collecting Deprecated<1.3,>=1.2.10 (from hail)\n",
            "  Downloading Deprecated-1.2.14-py2.py3-none-any.whl (9.6 kB)\n",
            "Requirement already satisfied: numpy<2 in /usr/local/lib/python3.10/dist-packages (from hail) (1.25.2)\n",
            "Requirement already satisfied: pandas<3,>=2 in /usr/local/lib/python3.10/dist-packages (from hail) (2.0.3)\n",
            "Collecting parsimonious<1 (from hail)\n",
            "  Downloading parsimonious-0.10.0-py3-none-any.whl (48 kB)\n",
            "\u001b[2K     \u001b[90m━━━━━━━━━━━━━━━━━━━━━━━━━━━━━━━━━━━━━━━━\u001b[0m \u001b[32m48.4/48.4 kB\u001b[0m \u001b[31m4.4 MB/s\u001b[0m eta \u001b[36m0:00:00\u001b[0m\n",
            "\u001b[?25hCollecting plotly<6,>=5.18.0 (from hail)\n",
            "  Downloading plotly-5.22.0-py3-none-any.whl (16.4 MB)\n",
            "\u001b[2K     \u001b[90m━━━━━━━━━━━━━━━━━━━━━━━━━━━━━━━━━━━━━━━━\u001b[0m \u001b[32m16.4/16.4 MB\u001b[0m \u001b[31m43.7 MB/s\u001b[0m eta \u001b[36m0:00:00\u001b[0m\n",
            "\u001b[?25hCollecting protobuf==3.20.2 (from hail)\n",
            "  Downloading protobuf-3.20.2-cp310-cp310-manylinux_2_12_x86_64.manylinux2010_x86_64.whl (1.1 MB)\n",
            "\u001b[2K     \u001b[90m━━━━━━━━━━━━━━━━━━━━━━━━━━━━━━━━━━━━━━━━\u001b[0m \u001b[32m1.1/1.1 MB\u001b[0m \u001b[31m63.4 MB/s\u001b[0m eta \u001b[36m0:00:00\u001b[0m\n",
            "\u001b[?25hCollecting pyspark<3.6,>=3.5.0 (from hail)\n",
            "  Downloading pyspark-3.5.1.tar.gz (317.0 MB)\n",
            "\u001b[2K     \u001b[90m━━━━━━━━━━━━━━━━━━━━━━━━━━━━━━━━━━━━━━━━\u001b[0m \u001b[32m317.0/317.0 MB\u001b[0m \u001b[31m2.4 MB/s\u001b[0m eta \u001b[36m0:00:00\u001b[0m\n",
            "\u001b[?25h  Preparing metadata (setup.py) ... \u001b[?25l\u001b[?25hdone\n",
            "Requirement already satisfied: requests<3,>=2.31.0 in /usr/local/lib/python3.10/dist-packages (from hail) (2.31.0)\n",
            "Requirement already satisfied: scipy<1.12,>1.2 in /usr/local/lib/python3.10/dist-packages (from hail) (1.11.4)\n",
            "Collecting uvloop<1,>=0.19.0 (from hail)\n",
            "  Downloading uvloop-0.19.0-cp310-cp310-manylinux_2_17_x86_64.manylinux2014_x86_64.whl (3.4 MB)\n",
            "\u001b[2K     \u001b[90m━━━━━━━━━━━━━━━━━━━━━━━━━━━━━━━━━━━━━━━━\u001b[0m \u001b[32m3.4/3.4 MB\u001b[0m \u001b[31m82.6 MB/s\u001b[0m eta \u001b[36m0:00:00\u001b[0m\n",
            "\u001b[?25hCollecting msrest>=0.6.21 (from azure-mgmt-storage==20.1.0->hail)\n",
            "  Downloading msrest-0.7.1-py3-none-any.whl (85 kB)\n",
            "\u001b[2K     \u001b[90m━━━━━━━━━━━━━━━━━━━━━━━━━━━━━━━━━━━━━━━━\u001b[0m \u001b[32m85.4/85.4 kB\u001b[0m \u001b[31m10.2 MB/s\u001b[0m eta \u001b[36m0:00:00\u001b[0m\n",
            "\u001b[?25hCollecting azure-common~=1.1 (from azure-mgmt-storage==20.1.0->hail)\n",
            "  Downloading azure_common-1.1.28-py2.py3-none-any.whl (14 kB)\n",
            "Collecting azure-mgmt-core<2.0.0,>=1.3.1 (from azure-mgmt-storage==20.1.0->hail)\n",
            "  Downloading azure_mgmt_core-1.4.0-py3-none-any.whl (27 kB)\n",
            "Collecting pycares>=3.0.0 (from aiodns<3,>=2.0.0->hail)\n",
            "  Downloading pycares-4.4.0-cp310-cp310-manylinux_2_17_x86_64.manylinux2014_x86_64.whl (288 kB)\n",
            "\u001b[2K     \u001b[90m━━━━━━━━━━━━━━━━━━━━━━━━━━━━━━━━━━━━━━━━\u001b[0m \u001b[32m288.7/288.7 kB\u001b[0m \u001b[31m29.4 MB/s\u001b[0m eta \u001b[36m0:00:00\u001b[0m\n",
            "\u001b[?25hRequirement already satisfied: aiosignal>=1.1.2 in /usr/local/lib/python3.10/dist-packages (from aiohttp<4,>=3.9->hail) (1.3.1)\n",
            "Requirement already satisfied: attrs>=17.3.0 in /usr/local/lib/python3.10/dist-packages (from aiohttp<4,>=3.9->hail) (23.2.0)\n",
            "Requirement already satisfied: multidict<7.0,>=4.5 in /usr/local/lib/python3.10/dist-packages (from aiohttp<4,>=3.9->hail) (6.0.5)\n",
            "Requirement already satisfied: yarl<2.0,>=1.0 in /usr/local/lib/python3.10/dist-packages (from aiohttp<4,>=3.9->hail) (1.9.4)\n",
            "Requirement already satisfied: async-timeout<5.0,>=4.0 in /usr/local/lib/python3.10/dist-packages (from aiohttp<4,>=3.9->hail) (4.0.3)\n",
            "Collecting azure-core>=1.23.0 (from azure-identity<2,>=1.6.0->hail)\n",
            "  Downloading azure_core-1.30.2-py3-none-any.whl (194 kB)\n",
            "\u001b[2K     \u001b[90m━━━━━━━━━━━━━━━━━━━━━━━━━━━━━━━━━━━━━━━━\u001b[0m \u001b[32m194.3/194.3 kB\u001b[0m \u001b[31m21.2 MB/s\u001b[0m eta \u001b[36m0:00:00\u001b[0m\n",
            "\u001b[?25hRequirement already satisfied: cryptography>=2.5 in /usr/local/lib/python3.10/dist-packages (from azure-identity<2,>=1.6.0->hail) (42.0.7)\n",
            "Collecting msal>=1.24.0 (from azure-identity<2,>=1.6.0->hail)\n",
            "  Downloading msal-1.28.0-py3-none-any.whl (102 kB)\n",
            "\u001b[2K     \u001b[90m━━━━━━━━━━━━━━━━━━━━━━━━━━━━━━━━━━━━━━━━\u001b[0m \u001b[32m102.2/102.2 kB\u001b[0m \u001b[31m13.5 MB/s\u001b[0m eta \u001b[36m0:00:00\u001b[0m\n",
            "\u001b[?25hCollecting msal-extensions>=0.3.0 (from azure-identity<2,>=1.6.0->hail)\n",
            "  Downloading msal_extensions-1.1.0-py3-none-any.whl (19 kB)\n",
            "Requirement already satisfied: typing-extensions>=4.6.0 in /usr/local/lib/python3.10/dist-packages (from azure-storage-blob<13,>=12.11.0->hail) (4.12.1)\n",
            "Collecting isodate>=0.6.1 (from azure-storage-blob<13,>=12.11.0->hail)\n",
            "  Downloading isodate-0.6.1-py2.py3-none-any.whl (41 kB)\n",
            "\u001b[2K     \u001b[90m━━━━━━━━━━━━━━━━━━━━━━━━━━━━━━━━━━━━━━━━\u001b[0m \u001b[32m41.7/41.7 kB\u001b[0m \u001b[31m4.8 MB/s\u001b[0m eta \u001b[36m0:00:00\u001b[0m\n",
            "\u001b[?25hRequirement already satisfied: Jinja2>=2.9 in /usr/local/lib/python3.10/dist-packages (from bokeh<3.4,>=3->hail) (3.1.4)\n",
            "Requirement already satisfied: contourpy>=1 in /usr/local/lib/python3.10/dist-packages (from bokeh<3.4,>=3->hail) (1.2.1)\n",
            "Requirement already satisfied: packaging>=16.8 in /usr/local/lib/python3.10/dist-packages (from bokeh<3.4,>=3->hail) (24.0)\n",
            "Requirement already satisfied: pillow>=7.1.0 in /usr/local/lib/python3.10/dist-packages (from bokeh<3.4,>=3->hail) (9.4.0)\n",
            "Requirement already satisfied: tornado>=5.1 in /usr/local/lib/python3.10/dist-packages (from bokeh<3.4,>=3->hail) (6.3.3)\n",
            "Requirement already satisfied: xyzservices>=2021.09.1 in /usr/local/lib/python3.10/dist-packages (from bokeh<3.4,>=3->hail) (2024.4.0)\n",
            "Collecting jmespath<2.0.0,>=0.7.1 (from boto3<2.0,>=1.17->hail)\n",
            "  Downloading jmespath-1.0.1-py3-none-any.whl (20 kB)\n",
            "Collecting s3transfer<0.11.0,>=0.10.0 (from boto3<2.0,>=1.17->hail)\n",
            "  Downloading s3transfer-0.10.1-py3-none-any.whl (82 kB)\n",
            "\u001b[2K     \u001b[90m━━━━━━━━━━━━━━━━━━━━━━━━━━━━━━━━━━━━━━━━\u001b[0m \u001b[32m82.2/82.2 kB\u001b[0m \u001b[31m9.9 MB/s\u001b[0m eta \u001b[36m0:00:00\u001b[0m\n",
            "\u001b[?25hRequirement already satisfied: python-dateutil<3.0.0,>=2.1 in /usr/local/lib/python3.10/dist-packages (from botocore<2.0,>=1.20->hail) (2.8.2)\n",
            "Requirement already satisfied: urllib3!=2.2.0,<3,>=1.25.4 in /usr/local/lib/python3.10/dist-packages (from botocore<2.0,>=1.20->hail) (2.0.7)\n",
            "Requirement already satisfied: wrapt<2,>=1.10 in /usr/local/lib/python3.10/dist-packages (from Deprecated<1.3,>=1.2.10->hail) (1.14.1)\n",
            "Requirement already satisfied: cachetools<6.0,>=2.0.0 in /usr/local/lib/python3.10/dist-packages (from google-auth<3,>=2.14.1->hail) (5.3.3)\n",
            "Requirement already satisfied: pyasn1-modules>=0.2.1 in /usr/local/lib/python3.10/dist-packages (from google-auth<3,>=2.14.1->hail) (0.4.0)\n",
            "Requirement already satisfied: rsa<5,>=3.1.4 in /usr/local/lib/python3.10/dist-packages (from google-auth<3,>=2.14.1->hail) (4.9)\n",
            "Requirement already satisfied: requests-oauthlib>=0.7.0 in /usr/local/lib/python3.10/dist-packages (from google-auth-oauthlib<1,>=0.5.2->hail) (1.3.1)\n",
            "Requirement already satisfied: six~=1.13 in /usr/local/lib/python3.10/dist-packages (from jproperties<3,>=2.1.1->hail) (1.16.0)\n",
            "Requirement already satisfied: pytz>=2020.1 in /usr/local/lib/python3.10/dist-packages (from pandas<3,>=2->hail) (2023.4)\n",
            "Requirement already satisfied: tzdata>=2022.1 in /usr/local/lib/python3.10/dist-packages (from pandas<3,>=2->hail) (2024.1)\n",
            "Requirement already satisfied: regex>=2022.3.15 in /usr/local/lib/python3.10/dist-packages (from parsimonious<1->hail) (2024.5.15)\n",
            "Requirement already satisfied: tenacity>=6.2.0 in /usr/local/lib/python3.10/dist-packages (from plotly<6,>=5.18.0->hail) (8.3.0)\n",
            "Requirement already satisfied: py4j==0.10.9.7 in /usr/local/lib/python3.10/dist-packages (from pyspark<3.6,>=3.5.0->hail) (0.10.9.7)\n",
            "Requirement already satisfied: charset-normalizer<4,>=2 in /usr/local/lib/python3.10/dist-packages (from requests<3,>=2.31.0->hail) (3.3.2)\n",
            "Requirement already satisfied: idna<4,>=2.5 in /usr/local/lib/python3.10/dist-packages (from requests<3,>=2.31.0->hail) (3.7)\n",
            "Requirement already satisfied: certifi>=2017.4.17 in /usr/local/lib/python3.10/dist-packages (from requests<3,>=2.31.0->hail) (2024.6.2)\n",
            "Collecting commonmark<0.10.0,>=0.9.0 (from rich<13,>=12.6.0->hail)\n",
            "  Downloading commonmark-0.9.1-py2.py3-none-any.whl (51 kB)\n",
            "\u001b[2K     \u001b[90m━━━━━━━━━━━━━━━━━━━━━━━━━━━━━━━━━━━━━━━━\u001b[0m \u001b[32m51.1/51.1 kB\u001b[0m \u001b[31m5.2 MB/s\u001b[0m eta \u001b[36m0:00:00\u001b[0m\n",
            "\u001b[?25hRequirement already satisfied: pygments<3.0.0,>=2.6.0 in /usr/local/lib/python3.10/dist-packages (from rich<13,>=12.6.0->hail) (2.16.1)\n",
            "Requirement already satisfied: click<9.0.0,>=7.1.1 in /usr/local/lib/python3.10/dist-packages (from typer<1,>=0.9.0->hail) (8.1.7)\n",
            "Requirement already satisfied: cffi>=1.12 in /usr/local/lib/python3.10/dist-packages (from cryptography>=2.5->azure-identity<2,>=1.6.0->hail) (1.16.0)\n",
            "Requirement already satisfied: MarkupSafe>=2.0 in /usr/local/lib/python3.10/dist-packages (from Jinja2>=2.9->bokeh<3.4,>=3->hail) (2.1.5)\n",
            "Requirement already satisfied: PyJWT[crypto]<3,>=1.0.0 in /usr/lib/python3/dist-packages (from msal>=1.24.0->azure-identity<2,>=1.6.0->hail) (2.3.0)\n",
            "Collecting portalocker<3,>=1.0 (from msal-extensions>=0.3.0->azure-identity<2,>=1.6.0->hail)\n",
            "  Downloading portalocker-2.8.2-py3-none-any.whl (17 kB)\n",
            "Requirement already satisfied: pyasn1<0.7.0,>=0.4.6 in /usr/local/lib/python3.10/dist-packages (from pyasn1-modules>=0.2.1->google-auth<3,>=2.14.1->hail) (0.6.0)\n",
            "Requirement already satisfied: oauthlib>=3.0.0 in /usr/local/lib/python3.10/dist-packages (from requests-oauthlib>=0.7.0->google-auth-oauthlib<1,>=0.5.2->hail) (3.2.2)\n",
            "Requirement already satisfied: pycparser in /usr/local/lib/python3.10/dist-packages (from cffi>=1.12->cryptography>=2.5->azure-identity<2,>=1.6.0->hail) (2.22)\n",
            "Building wheels for collected packages: avro, pyspark\n",
            "  Building wheel for avro (pyproject.toml) ... \u001b[?25l\u001b[?25hdone\n",
            "  Created wheel for avro: filename=avro-1.11.3-py2.py3-none-any.whl size=123913 sha256=d1bb81b1efab13f3189f2b218c1cf522941ef6aefa67dc979b2b73e57309ad8a\n",
            "  Stored in directory: /root/.cache/pip/wheels/1d/f6/41/0e0399396af07060e64d4e32c8bd259b48b98a4a114df31294\n",
            "  Building wheel for pyspark (setup.py) ... \u001b[?25l\u001b[?25hdone\n",
            "  Created wheel for pyspark: filename=pyspark-3.5.1-py2.py3-none-any.whl size=317488491 sha256=1bc801d8d5ebf4d4a5d8c95d831a1b7a5d59e3af8b1b076cb6993bf4613b63ca\n",
            "  Stored in directory: /root/.cache/pip/wheels/80/1d/60/2c256ed38dddce2fdd93be545214a63e02fbd8d74fb0b7f3a6\n",
            "Successfully built avro pyspark\n",
            "Installing collected packages: commonmark, azure-common, uvloop, rich, python-json-logger, pyspark, protobuf, portalocker, plotly, parsimonious, orjson, jproperties, jmespath, janus, isodate, humanize, dill, Deprecated, avro, pycares, botocore, azure-core, s3transfer, msrest, google-auth-oauthlib, azure-storage-blob, azure-mgmt-core, aiodns, msal, boto3, azure-mgmt-storage, msal-extensions, azure-identity, hail\n",
            "  Attempting uninstall: rich\n",
            "    Found existing installation: rich 13.7.1\n",
            "    Uninstalling rich-13.7.1:\n",
            "      Successfully uninstalled rich-13.7.1\n",
            "  Attempting uninstall: protobuf\n",
            "    Found existing installation: protobuf 3.20.3\n",
            "    Uninstalling protobuf-3.20.3:\n",
            "      Successfully uninstalled protobuf-3.20.3\n",
            "  Attempting uninstall: plotly\n",
            "    Found existing installation: plotly 5.15.0\n",
            "    Uninstalling plotly-5.15.0:\n",
            "      Successfully uninstalled plotly-5.15.0\n",
            "  Attempting uninstall: humanize\n",
            "    Found existing installation: humanize 4.7.0\n",
            "    Uninstalling humanize-4.7.0:\n",
            "      Successfully uninstalled humanize-4.7.0\n",
            "  Attempting uninstall: google-auth-oauthlib\n",
            "    Found existing installation: google-auth-oauthlib 1.2.0\n",
            "    Uninstalling google-auth-oauthlib-1.2.0:\n",
            "      Successfully uninstalled google-auth-oauthlib-1.2.0\n",
            "\u001b[31mERROR: pip's dependency resolver does not currently take into account all the packages that are installed. This behaviour is the source of the following dependency conflicts.\n",
            "bigframes 1.8.0 requires humanize>=4.6.0, but you have humanize 1.1.0 which is incompatible.\n",
            "tensorflow 2.15.0 requires protobuf!=4.21.0,!=4.21.1,!=4.21.2,!=4.21.3,!=4.21.4,!=4.21.5,<5.0.0dev,>=3.20.3, but you have protobuf 3.20.2 which is incompatible.\n",
            "tensorflow-metadata 1.15.0 requires protobuf<4.21,>=3.20.3; python_version < \"3.11\", but you have protobuf 3.20.2 which is incompatible.\u001b[0m\u001b[31m\n",
            "\u001b[0mSuccessfully installed Deprecated-1.2.14 aiodns-2.0.0 avro-1.11.3 azure-common-1.1.28 azure-core-1.30.2 azure-identity-1.16.0 azure-mgmt-core-1.4.0 azure-mgmt-storage-20.1.0 azure-storage-blob-12.20.0 boto3-1.34.122 botocore-1.34.122 commonmark-0.9.1 dill-0.3.8 google-auth-oauthlib-0.8.0 hail-0.2.131 humanize-1.1.0 isodate-0.6.1 janus-1.0.0 jmespath-1.0.1 jproperties-2.1.1 msal-1.28.0 msal-extensions-1.1.0 msrest-0.7.1 orjson-3.10.3 parsimonious-0.10.0 plotly-5.22.0 portalocker-2.8.2 protobuf-3.20.2 pycares-4.4.0 pyspark-3.5.1 python-json-logger-2.0.7 rich-12.6.0 s3transfer-0.10.1 uvloop-0.19.0\n"
          ]
        },
        {
          "output_type": "display_data",
          "data": {
            "application/vnd.colab-display-data+json": {
              "pip_warning": {
                "packages": [
                  "google"
                ]
              },
              "id": "af74c5a6597648ba90c319401819897e"
            }
          },
          "metadata": {}
        }
      ]
    },
    {
      "cell_type": "code",
      "source": [
        "import hail as hl\n",
        "from hail.plot import show\n",
        "from pprint import pprint"
      ],
      "metadata": {
        "id": "xpMZN3V9u5AY"
      },
      "execution_count": null,
      "outputs": []
    },
    {
      "cell_type": "markdown",
      "source": [
        "Prepare - удаляем группу AMR (смешанные американцы) и создаем тестовую и обучающую выборки"
      ],
      "metadata": {
        "id": "iUptTgbT58G0"
      }
    },
    {
      "cell_type": "code",
      "source": [
        "!grep -E 'AFR|EUR|SAS|EAS' annotation.txt > annotation_noAMR.txt"
      ],
      "metadata": {
        "id": "sCsCASnH6j-k"
      },
      "execution_count": null,
      "outputs": []
    },
    {
      "cell_type": "markdown",
      "source": [
        "STEP0 - отбираем только би-аллельные SNP и убирает инделы"
      ],
      "metadata": {
        "id": "9gB7h3gBVaBk"
      }
    },
    {
      "cell_type": "code",
      "source": [
        "chr1 = hl.import_vcf('ALL.chr1.phase3_shapeit2_mvncall_integrated_v5b.20130502.genotypes.vcf.gz', force_bgz=True)"
      ],
      "metadata": {
        "id": "l4zrt36avAvQ"
      },
      "execution_count": null,
      "outputs": []
    },
    {
      "cell_type": "code",
      "source": [
        "#only bi-allelic SNP\n",
        "chr1 = chr1.filter_rows(hl.len(chr1.alleles) == 2)\n",
        "#remove indels\n",
        "chr1 = chr1.filter_rows(hl.is_snp(chr1.alleles[0], chr1.alleles[1]))"
      ],
      "metadata": {
        "id": "GNwD5WLzEBZ_"
      },
      "execution_count": null,
      "outputs": []
    },
    {
      "cell_type": "markdown",
      "source": [
        "STEP1 - считаем частоты SNP"
      ],
      "metadata": {
        "id": "s4MBw12RVne6"
      }
    },
    {
      "cell_type": "code",
      "source": [
        "table = hl.import_table(\"integrated_call_samples_v3.20130502.ALL.panel\").key_by(\"sample\")\n",
        "mt = chr1\n",
        "\n",
        "# объединяем данные из аннотации с данными из vcf файла\n",
        "mt = mt.annotate_cols(pheno=table[mt.s])\n",
        "\n",
        "#Список популяций в файле\n",
        "pops = list(table.aggregate(hl.agg.collect_as_set(table.super_pop)))\n",
        "\n",
        "# Инициализация таблицы первой популяцией\n",
        "mt_pop = mt.filter_cols(mt.pheno.super_pop == pops[0])\n",
        "mt_pop = hl.variant_qc(mt_pop)\n",
        "mt_pop = mt_pop.annotate_rows(alt = mt_pop.variant_qc.AF[1])\n",
        "freq_table = mt_pop.rows().select('alt').rename({\"alt\": f'{pops[0]}'})\n",
        "\n",
        "# Цикл по оставшимся популяциям\n",
        "for pop in pops[1:]:\n",
        "  mt_pop = mt.filter_cols(mt.pheno.super_pop == pop)\n",
        "  mt_pop = hl.variant_qc(mt_pop)\n",
        "  mt_pop = mt_pop.annotate_rows(alt = mt_pop.variant_qc.AF[1])\n",
        "  pop_freq = mt_pop.rows().select('alt').rename({\"alt\": f'{pop}'})\n",
        "\n",
        "  # Объединяем таблицы\n",
        "  freq_table = freq_table.join(pop_freq)"
      ],
      "metadata": {
        "id": "iV5UE7sgNj0S"
      },
      "execution_count": null,
      "outputs": []
    },
    {
      "cell_type": "markdown",
      "source": [
        "STEP2 - фильтрация SNP по информативности"
      ],
      "metadata": {
        "id": "8syXLxsiNocO"
      }
    },
    {
      "cell_type": "code",
      "source": [
        "#Задаем уровень информативности, при котором мы оставляем SNP\n",
        "informativenessBound = 0.9\n",
        "#Вводим дополнительные функции для подсчета информативности\n",
        "def xlogx2(x):\n",
        "    z = xlogx(x) + xlogx(1 - x)\n",
        "    return z\n",
        "\n",
        "def xlogx(x):\n",
        "    z = hl.if_else(x == 0, 0, x * hl.log(x))\n",
        "    return z\n",
        "#Считаем количесвто строк в файле\n",
        "nss = freq_table.count()\n",
        "#Считаем средние\n",
        "freq_table = freq_table.annotate(\n",
        "    mean_row=(freq_table.AFR + freq_table.SAS + freq_table.EUR + freq_table.AMR + freq_table.EAS) / len(pops)\n",
        ")\n",
        "freq_table = freq_table.annotate(\n",
        "    mean_row_log=(xlogx2(freq_table.AFR) + xlogx2(freq_table.SAS) + xlogx2(freq_table.EUR) + xlogx2(freq_table.AMR) + xlogx2(freq_table.EAS)) / len(pops)\n",
        ")\n",
        "#Считаем информативность\n",
        "freq_table = freq_table.annotate(info= -xlogx2(freq_table.mean_row) + freq_table.mean_row_log)\n",
        "#Фильтруем таблицу по информативности (в порядке убывания) и отбираем 10% самых информативных SNP\n",
        "informativenessQuantile = freq_table.order_by(hl.desc(freq_table.info)).head(hl.eval(hl.int32(hl.floor((1 - informativenessBound)* nss))))\n",
        "#Создаем новый vcf-файл с отобранными SNP по информативности\n",
        "informativenessQuantile = informativenessQuantile.key_by(\"locus\")\n",
        "mt = chr1.filter_rows(hl.is_defined(informativenessQuantile[chr1.locus]))\n",
        "#Сохраняем файл\n",
        "hl.export_vcf(mt, 'tmp/filter_chr1.vcf.bgz')"
      ],
      "metadata": {
        "id": "HDuQu4q-Nvk0"
      },
      "execution_count": null,
      "outputs": []
    },
    {
      "cell_type": "markdown",
      "source": [
        "STEP3 - делим имеющийся файл на маленькие"
      ],
      "metadata": {
        "id": "iQjfMknnN1Eu"
      }
    },
    {
      "cell_type": "code",
      "source": [
        "mt = hl.import_vcf('tmp/filter_chr1.vcf.bgz')\n",
        "stepsize = 10000\n",
        "# Вычисляем количество сегментов и преобразуем в список\n",
        "segments = hl.range(0, hl.int32((mt.count_rows() - 1) // stepsize + 1)).collect()\n",
        "# Добавляем столбец с номером строки\n",
        "mt = mt.annotate_rows(row_index=hl.scan.count())\n",
        "\n",
        "# Фильтруем строки по номеру\n",
        "\n",
        "# Цикл по сегментам\n",
        "for j in segments[0]:\n",
        "    start = j * stepsize\n",
        "    end = hl.eval(min((j + 1) * stepsize, mt.count_rows()))\n",
        "    # Фильтруем строки по номеру\n",
        "    segment_mt = mt.filter_rows((mt.row.row_index >= start) & (mt.row.row_index < end))\n",
        "    hl.export_vcf(segment_mt, f\"tmp/chr_segment{j}.vcf.bgz\")"
      ],
      "metadata": {
        "id": "NLECQ8f7N5RJ"
      },
      "execution_count": null,
      "outputs": []
    },
    {
      "cell_type": "markdown",
      "source": [
        "STEP4 - считаем кол-во строк в новом vcf файле"
      ],
      "metadata": {
        "id": "885FjwMKN8qj"
      }
    },
    {
      "cell_type": "code",
      "source": [
        "nss = hl.eval(chr.count()[0])"
      ],
      "metadata": {
        "id": "dBnK-WA7OAGd"
      },
      "execution_count": null,
      "outputs": []
    }
  ]
}