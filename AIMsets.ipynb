{
  "nbformat": 4,
  "nbformat_minor": 0,
  "metadata": {
    "colab": {
      "provenance": []
    },
    "kernelspec": {
      "name": "python3",
      "display_name": "Python 3"
    },
    "language_info": {
      "name": "python"
    }
  },
  "cells": [
    {
      "cell_type": "code",
      "execution_count": null,
      "metadata": {
        "colab": {
          "base_uri": "https://localhost:8080/"
        },
        "id": "9owH2j-QuHU8",
        "outputId": "7a6cf371-87b3-4160-b1a8-c7b95ebb17ad"
      },
      "outputs": [
        {
          "output_type": "stream",
          "name": "stdout",
          "text": [
            "--2024-06-26 05:42:26--  https://ftp.1000genomes.ebi.ac.uk/vol1/ftp/release/20130502/integrated_call_samples_v3.20130502.ALL.panel\n",
            "Resolving ftp.1000genomes.ebi.ac.uk (ftp.1000genomes.ebi.ac.uk)... 193.62.193.167\n",
            "Connecting to ftp.1000genomes.ebi.ac.uk (ftp.1000genomes.ebi.ac.uk)|193.62.193.167|:443... connected.\n",
            "HTTP request sent, awaiting response... 200 OK\n",
            "Length: 55156 (54K)\n",
            "Saving to: ‘integrated_call_samples_v3.20130502.ALL.panel.1’\n",
            "\n",
            "integrated_call_sam 100%[===================>]  53.86K   279KB/s    in 0.2s    \n",
            "\n",
            "2024-06-26 05:42:27 (279 KB/s) - ‘integrated_call_samples_v3.20130502.ALL.panel.1’ saved [55156/55156]\n",
            "\n"
          ]
        }
      ],
      "source": [
        "!wget https://ftp.1000genomes.ebi.ac.uk/vol1/ftp/release/20130502/integrated_call_samples_v3.20130502.ALL.panel"
      ]
    },
    {
      "cell_type": "code",
      "source": [
        "!wget -nH --cut-dirs=4 -r -p -e robots=off -A 'ALL.*' https://ftp.1000genomes.ebi.ac.uk/vol1/ftp/release/20130502/"
      ],
      "metadata": {
        "colab": {
          "base_uri": "https://localhost:8080/"
        },
        "id": "_KisggDRAaUZ",
        "outputId": "43401a47-32dd-4c8e-a025-4e3d1f35e5ed"
      },
      "execution_count": null,
      "outputs": [
        {
          "output_type": "stream",
          "name": "stdout",
          "text": [
            "--2024-06-26 05:39:20--  https://ftp.1000genomes.ebi.ac.uk/vol1/ftp/release/20130502/\n",
            "Resolving ftp.1000genomes.ebi.ac.uk (ftp.1000genomes.ebi.ac.uk)... 193.62.193.167\n",
            "Connecting to ftp.1000genomes.ebi.ac.uk (ftp.1000genomes.ebi.ac.uk)|193.62.193.167|:443... connected.\n",
            "HTTP request sent, awaiting response... 200 OK\n",
            "Length: unspecified [text/html]\n",
            "Saving to: ‘index.html.tmp’\n",
            "\n",
            "index.html.tmp          [ <=>                ]  19.90K  --.-KB/s    in 0.1s    \n",
            "\n",
            "2024-06-26 05:39:21 (208 KB/s) - ‘index.html.tmp’ saved [20382]\n",
            "\n",
            "Removing index.html.tmp since it should be rejected.\n",
            "\n",
            "--2024-06-26 05:39:21--  https://ftp.1000genomes.ebi.ac.uk/vol1/ftp/release/20130502/?C=N;O=D\n",
            "Reusing existing connection to ftp.1000genomes.ebi.ac.uk:443.\n",
            "HTTP request sent, awaiting response... 200 OK\n",
            "Length: unspecified [text/html]\n",
            "Saving to: ‘index.html?C=N;O=D.tmp’\n",
            "\n",
            "index.html?C=N;O=D.     [ <=>                ]  19.90K  --.-KB/s    in 0.03s   \n",
            "\n",
            "2024-06-26 05:39:21 (642 KB/s) - ‘index.html?C=N;O=D.tmp’ saved [20382]\n",
            "\n",
            "Removing index.html?C=N;O=D.tmp since it should be rejected.\n",
            "\n",
            "--2024-06-26 05:39:21--  https://ftp.1000genomes.ebi.ac.uk/vol1/ftp/release/20130502/?C=M;O=A\n",
            "Reusing existing connection to ftp.1000genomes.ebi.ac.uk:443.\n",
            "HTTP request sent, awaiting response... 200 OK\n",
            "Length: unspecified [text/html]\n",
            "Saving to: ‘index.html?C=M;O=A.tmp’\n",
            "\n",
            "index.html?C=M;O=A.     [ <=>                ]  19.90K  --.-KB/s    in 0.02s   \n",
            "\n",
            "2024-06-26 05:39:21 (1010 KB/s) - ‘index.html?C=M;O=A.tmp’ saved [20382]\n",
            "\n",
            "Removing index.html?C=M;O=A.tmp since it should be rejected.\n",
            "\n",
            "--2024-06-26 05:39:21--  https://ftp.1000genomes.ebi.ac.uk/vol1/ftp/release/20130502/?C=S;O=A\n",
            "Reusing existing connection to ftp.1000genomes.ebi.ac.uk:443.\n",
            "HTTP request sent, awaiting response... 200 OK\n",
            "Length: unspecified [text/html]\n",
            "Saving to: ‘index.html?C=S;O=A.tmp’\n",
            "\n",
            "index.html?C=S;O=A.     [ <=>                ]  19.90K  --.-KB/s    in 0.03s   \n",
            "\n",
            "2024-06-26 05:39:21 (761 KB/s) - ‘index.html?C=S;O=A.tmp’ saved [20382]\n",
            "\n",
            "Removing index.html?C=S;O=A.tmp since it should be rejected.\n",
            "\n",
            "--2024-06-26 05:39:21--  https://ftp.1000genomes.ebi.ac.uk/vol1/ftp/release/20130502/?C=D;O=A\n",
            "Reusing existing connection to ftp.1000genomes.ebi.ac.uk:443.\n",
            "HTTP request sent, awaiting response... 200 OK\n",
            "Length: unspecified [text/html]\n",
            "Saving to: ‘index.html?C=D;O=A.tmp’\n",
            "\n",
            "index.html?C=D;O=A.     [ <=>                ]  19.90K  --.-KB/s    in 0.02s   \n",
            "\n",
            "2024-06-26 05:39:21 (1004 KB/s) - ‘index.html?C=D;O=A.tmp’ saved [20382]\n",
            "\n",
            "Removing index.html?C=D;O=A.tmp since it should be rejected.\n",
            "\n",
            "--2024-06-26 05:39:21--  https://ftp.1000genomes.ebi.ac.uk/vol1/ftp/release/\n",
            "Reusing existing connection to ftp.1000genomes.ebi.ac.uk:443.\n",
            "HTTP request sent, awaiting response... 200 OK\n",
            "Length: 2665 (2.6K) [text/html]\n",
            "Saving to: ‘index.html.tmp’\n",
            "\n",
            "index.html.tmp      100%[===================>]   2.60K  --.-KB/s    in 0s      \n",
            "\n",
            "2024-06-26 05:39:21 (697 MB/s) - ‘index.html.tmp’ saved [2665/2665]\n",
            "\n",
            "Removing index.html.tmp since it should be rejected.\n",
            "\n",
            "--2024-06-26 05:39:21--  https://ftp.1000genomes.ebi.ac.uk/vol1/ftp/release/20130502/ALL.chr1.phase3_shapeit2_mvncall_integrated_v5b.20130502.genotypes.vcf.gz\n",
            "Reusing existing connection to ftp.1000genomes.ebi.ac.uk:443.\n",
            "HTTP request sent, awaiting response... 200 OK\n",
            "Length: 1165011543 (1.1G) [application/x-gzip]\n",
            "Saving to: ‘ALL.chr1.phase3_shapeit2_mvncall_integrated_v5b.20130502.genotypes.vcf.gz’\n",
            "\n",
            "ALL.chr1.phase3_sha 100%[===================>]   1.08G  39.7MB/s    in 33s     \n",
            "\n",
            "2024-06-26 05:39:55 (33.8 MB/s) - ‘ALL.chr1.phase3_shapeit2_mvncall_integrated_v5b.20130502.genotypes.vcf.gz’ saved [1165011543/1165011543]\n",
            "\n",
            "--2024-06-26 05:39:55--  https://ftp.1000genomes.ebi.ac.uk/vol1/ftp/release/20130502/ALL.chr1.phase3_shapeit2_mvncall_integrated_v5b.20130502.genotypes.vcf.gz.tbi\n",
            "Reusing existing connection to ftp.1000genomes.ebi.ac.uk:443.\n",
            "HTTP request sent, awaiting response... 200 OK\n",
            "Length: 224369 (219K) [application/x-gzip]\n",
            "Saving to: ‘ALL.chr1.phase3_shapeit2_mvncall_integrated_v5b.20130502.genotypes.vcf.gz.tbi’\n",
            "\n",
            "ALL.chr1.phase3_sha 100%[===================>] 219.11K  --.-KB/s    in 0.001s  \n",
            "\n",
            "2024-06-26 05:39:55 (181 MB/s) - ‘ALL.chr1.phase3_shapeit2_mvncall_integrated_v5b.20130502.genotypes.vcf.gz.tbi’ saved [224369/224369]\n",
            "\n",
            "--2024-06-26 05:39:55--  https://ftp.1000genomes.ebi.ac.uk/vol1/ftp/release/20130502/ALL.chr2.phase3_shapeit2_mvncall_integrated_v5b.20130502.genotypes.vcf.gz\n",
            "Reusing existing connection to ftp.1000genomes.ebi.ac.uk:443.\n",
            "HTTP request sent, awaiting response... 200 OK\n",
            "Length: 1255861869 (1.2G) [application/x-gzip]\n",
            "Saving to: ‘ALL.chr2.phase3_shapeit2_mvncall_integrated_v5b.20130502.genotypes.vcf.gz’\n",
            "\n",
            "es.vcf.gz            50%[=========>          ] 607.10M  38.2MB/s    eta 16s    ^C\n"
          ]
        }
      ]
    },
    {
      "cell_type": "markdown",
      "source": [
        "Практическая работа. Работа с библиотекой."
      ],
      "metadata": {
        "id": "wwmbfDmEJTaY"
      }
    },
    {
      "cell_type": "code",
      "source": [
        "pip install hail"
      ],
      "metadata": {
        "colab": {
          "base_uri": "https://localhost:8080/"
        },
        "id": "0MTUkqEhFUW_",
        "outputId": "123e4cdb-f73c-4efb-83fd-b2032cd73f5f"
      },
      "execution_count": null,
      "outputs": [
        {
          "output_type": "stream",
          "name": "stdout",
          "text": [
            "Requirement already satisfied: hail in /usr/local/lib/python3.10/dist-packages (0.2.131)\n",
            "Requirement already satisfied: aiodns<3,>=2.0.0 in /usr/local/lib/python3.10/dist-packages (from hail) (2.0.0)\n",
            "Requirement already satisfied: aiohttp<4,>=3.9 in /usr/local/lib/python3.10/dist-packages (from hail) (3.9.5)\n",
            "Requirement already satisfied: azure-identity<2,>=1.6.0 in /usr/local/lib/python3.10/dist-packages (from hail) (1.17.1)\n",
            "Requirement already satisfied: azure-mgmt-storage==20.1.0 in /usr/local/lib/python3.10/dist-packages (from hail) (20.1.0)\n",
            "Requirement already satisfied: azure-storage-blob<13,>=12.11.0 in /usr/local/lib/python3.10/dist-packages (from hail) (12.20.0)\n",
            "Requirement already satisfied: boto3<2.0,>=1.17 in /usr/local/lib/python3.10/dist-packages (from hail) (1.34.133)\n",
            "Requirement already satisfied: botocore<2.0,>=1.20 in /usr/local/lib/python3.10/dist-packages (from hail) (1.34.133)\n",
            "Requirement already satisfied: dill<0.4,>=0.3.6 in /usr/local/lib/python3.10/dist-packages (from hail) (0.3.8)\n",
            "Requirement already satisfied: frozenlist<2,>=1.3.1 in /usr/local/lib/python3.10/dist-packages (from hail) (1.4.1)\n",
            "Requirement already satisfied: google-auth<3,>=2.14.1 in /usr/local/lib/python3.10/dist-packages (from hail) (2.27.0)\n",
            "Requirement already satisfied: google-auth-oauthlib<1,>=0.5.2 in /usr/local/lib/python3.10/dist-packages (from hail) (0.8.0)\n",
            "Requirement already satisfied: humanize<2,>=1.0.0 in /usr/local/lib/python3.10/dist-packages (from hail) (1.1.0)\n",
            "Requirement already satisfied: janus<1.1,>=0.6 in /usr/local/lib/python3.10/dist-packages (from hail) (1.0.0)\n",
            "Requirement already satisfied: nest-asyncio<2,>=1.5.8 in /usr/local/lib/python3.10/dist-packages (from hail) (1.6.0)\n",
            "Requirement already satisfied: orjson<4,>=3.9.15 in /usr/local/lib/python3.10/dist-packages (from hail) (3.10.5)\n",
            "Requirement already satisfied: rich<13,>=12.6.0 in /usr/local/lib/python3.10/dist-packages (from hail) (12.6.0)\n",
            "Requirement already satisfied: typer<1,>=0.9.0 in /usr/local/lib/python3.10/dist-packages (from hail) (0.12.3)\n",
            "Requirement already satisfied: python-json-logger<3,>=2.0.2 in /usr/local/lib/python3.10/dist-packages (from hail) (2.0.7)\n",
            "Requirement already satisfied: pyyaml<7.0,>=6.0 in /usr/local/lib/python3.10/dist-packages (from hail) (6.0.1)\n",
            "Requirement already satisfied: sortedcontainers<3,>=2.4.0 in /usr/local/lib/python3.10/dist-packages (from hail) (2.4.0)\n",
            "Requirement already satisfied: tabulate<1,>=0.8.9 in /usr/local/lib/python3.10/dist-packages (from hail) (0.9.0)\n",
            "Requirement already satisfied: jproperties<3,>=2.1.1 in /usr/local/lib/python3.10/dist-packages (from hail) (2.1.1)\n",
            "Requirement already satisfied: avro<1.12,>=1.10 in /usr/local/lib/python3.10/dist-packages (from hail) (1.11.3)\n",
            "Requirement already satisfied: bokeh<3.4,>=3 in /usr/local/lib/python3.10/dist-packages (from hail) (3.3.4)\n",
            "Requirement already satisfied: decorator<5 in /usr/local/lib/python3.10/dist-packages (from hail) (4.4.2)\n",
            "Requirement already satisfied: Deprecated<1.3,>=1.2.10 in /usr/local/lib/python3.10/dist-packages (from hail) (1.2.14)\n",
            "Requirement already satisfied: numpy<2 in /usr/local/lib/python3.10/dist-packages (from hail) (1.25.2)\n",
            "Requirement already satisfied: pandas<3,>=2 in /usr/local/lib/python3.10/dist-packages (from hail) (2.0.3)\n",
            "Requirement already satisfied: parsimonious<1 in /usr/local/lib/python3.10/dist-packages (from hail) (0.10.0)\n",
            "Requirement already satisfied: plotly<6,>=5.18.0 in /usr/local/lib/python3.10/dist-packages (from hail) (5.22.0)\n",
            "Requirement already satisfied: protobuf==3.20.2 in /usr/local/lib/python3.10/dist-packages (from hail) (3.20.2)\n",
            "Requirement already satisfied: pyspark<3.6,>=3.5.0 in /usr/local/lib/python3.10/dist-packages (from hail) (3.5.1)\n",
            "Requirement already satisfied: requests<3,>=2.31.0 in /usr/local/lib/python3.10/dist-packages (from hail) (2.31.0)\n",
            "Requirement already satisfied: scipy<1.12,>1.2 in /usr/local/lib/python3.10/dist-packages (from hail) (1.11.4)\n",
            "Requirement already satisfied: uvloop<1,>=0.19.0 in /usr/local/lib/python3.10/dist-packages (from hail) (0.19.0)\n",
            "Requirement already satisfied: msrest>=0.6.21 in /usr/local/lib/python3.10/dist-packages (from azure-mgmt-storage==20.1.0->hail) (0.7.1)\n",
            "Requirement already satisfied: azure-common~=1.1 in /usr/local/lib/python3.10/dist-packages (from azure-mgmt-storage==20.1.0->hail) (1.1.28)\n",
            "Requirement already satisfied: azure-mgmt-core<2.0.0,>=1.3.1 in /usr/local/lib/python3.10/dist-packages (from azure-mgmt-storage==20.1.0->hail) (1.4.0)\n",
            "Requirement already satisfied: pycares>=3.0.0 in /usr/local/lib/python3.10/dist-packages (from aiodns<3,>=2.0.0->hail) (4.4.0)\n",
            "Requirement already satisfied: aiosignal>=1.1.2 in /usr/local/lib/python3.10/dist-packages (from aiohttp<4,>=3.9->hail) (1.3.1)\n",
            "Requirement already satisfied: attrs>=17.3.0 in /usr/local/lib/python3.10/dist-packages (from aiohttp<4,>=3.9->hail) (23.2.0)\n",
            "Requirement already satisfied: multidict<7.0,>=4.5 in /usr/local/lib/python3.10/dist-packages (from aiohttp<4,>=3.9->hail) (6.0.5)\n",
            "Requirement already satisfied: yarl<2.0,>=1.0 in /usr/local/lib/python3.10/dist-packages (from aiohttp<4,>=3.9->hail) (1.9.4)\n",
            "Requirement already satisfied: async-timeout<5.0,>=4.0 in /usr/local/lib/python3.10/dist-packages (from aiohttp<4,>=3.9->hail) (4.0.3)\n",
            "Requirement already satisfied: azure-core>=1.23.0 in /usr/local/lib/python3.10/dist-packages (from azure-identity<2,>=1.6.0->hail) (1.30.2)\n",
            "Requirement already satisfied: cryptography>=2.5 in /usr/local/lib/python3.10/dist-packages (from azure-identity<2,>=1.6.0->hail) (42.0.8)\n",
            "Requirement already satisfied: msal>=1.24.0 in /usr/local/lib/python3.10/dist-packages (from azure-identity<2,>=1.6.0->hail) (1.29.0)\n",
            "Requirement already satisfied: msal-extensions>=0.3.0 in /usr/local/lib/python3.10/dist-packages (from azure-identity<2,>=1.6.0->hail) (1.2.0)\n",
            "Requirement already satisfied: typing-extensions>=4.0.0 in /usr/local/lib/python3.10/dist-packages (from azure-identity<2,>=1.6.0->hail) (4.12.2)\n",
            "Requirement already satisfied: isodate>=0.6.1 in /usr/local/lib/python3.10/dist-packages (from azure-storage-blob<13,>=12.11.0->hail) (0.6.1)\n",
            "Requirement already satisfied: Jinja2>=2.9 in /usr/local/lib/python3.10/dist-packages (from bokeh<3.4,>=3->hail) (3.1.4)\n",
            "Requirement already satisfied: contourpy>=1 in /usr/local/lib/python3.10/dist-packages (from bokeh<3.4,>=3->hail) (1.2.1)\n",
            "Requirement already satisfied: packaging>=16.8 in /usr/local/lib/python3.10/dist-packages (from bokeh<3.4,>=3->hail) (24.1)\n",
            "Requirement already satisfied: pillow>=7.1.0 in /usr/local/lib/python3.10/dist-packages (from bokeh<3.4,>=3->hail) (9.4.0)\n",
            "Requirement already satisfied: tornado>=5.1 in /usr/local/lib/python3.10/dist-packages (from bokeh<3.4,>=3->hail) (6.3.3)\n",
            "Requirement already satisfied: xyzservices>=2021.09.1 in /usr/local/lib/python3.10/dist-packages (from bokeh<3.4,>=3->hail) (2024.6.0)\n",
            "Requirement already satisfied: jmespath<2.0.0,>=0.7.1 in /usr/local/lib/python3.10/dist-packages (from boto3<2.0,>=1.17->hail) (1.0.1)\n",
            "Requirement already satisfied: s3transfer<0.11.0,>=0.10.0 in /usr/local/lib/python3.10/dist-packages (from boto3<2.0,>=1.17->hail) (0.10.2)\n",
            "Requirement already satisfied: python-dateutil<3.0.0,>=2.1 in /usr/local/lib/python3.10/dist-packages (from botocore<2.0,>=1.20->hail) (2.8.2)\n",
            "Requirement already satisfied: urllib3!=2.2.0,<3,>=1.25.4 in /usr/local/lib/python3.10/dist-packages (from botocore<2.0,>=1.20->hail) (2.0.7)\n",
            "Requirement already satisfied: wrapt<2,>=1.10 in /usr/local/lib/python3.10/dist-packages (from Deprecated<1.3,>=1.2.10->hail) (1.14.1)\n",
            "Requirement already satisfied: cachetools<6.0,>=2.0.0 in /usr/local/lib/python3.10/dist-packages (from google-auth<3,>=2.14.1->hail) (5.3.3)\n",
            "Requirement already satisfied: pyasn1-modules>=0.2.1 in /usr/local/lib/python3.10/dist-packages (from google-auth<3,>=2.14.1->hail) (0.4.0)\n",
            "Requirement already satisfied: rsa<5,>=3.1.4 in /usr/local/lib/python3.10/dist-packages (from google-auth<3,>=2.14.1->hail) (4.9)\n",
            "Requirement already satisfied: requests-oauthlib>=0.7.0 in /usr/local/lib/python3.10/dist-packages (from google-auth-oauthlib<1,>=0.5.2->hail) (1.3.1)\n",
            "Requirement already satisfied: six~=1.13 in /usr/local/lib/python3.10/dist-packages (from jproperties<3,>=2.1.1->hail) (1.16.0)\n",
            "Requirement already satisfied: pytz>=2020.1 in /usr/local/lib/python3.10/dist-packages (from pandas<3,>=2->hail) (2023.4)\n",
            "Requirement already satisfied: tzdata>=2022.1 in /usr/local/lib/python3.10/dist-packages (from pandas<3,>=2->hail) (2024.1)\n",
            "Requirement already satisfied: regex>=2022.3.15 in /usr/local/lib/python3.10/dist-packages (from parsimonious<1->hail) (2024.5.15)\n",
            "Requirement already satisfied: tenacity>=6.2.0 in /usr/local/lib/python3.10/dist-packages (from plotly<6,>=5.18.0->hail) (8.4.1)\n",
            "Requirement already satisfied: py4j==0.10.9.7 in /usr/local/lib/python3.10/dist-packages (from pyspark<3.6,>=3.5.0->hail) (0.10.9.7)\n",
            "Requirement already satisfied: charset-normalizer<4,>=2 in /usr/local/lib/python3.10/dist-packages (from requests<3,>=2.31.0->hail) (3.3.2)\n",
            "Requirement already satisfied: idna<4,>=2.5 in /usr/local/lib/python3.10/dist-packages (from requests<3,>=2.31.0->hail) (3.7)\n",
            "Requirement already satisfied: certifi>=2017.4.17 in /usr/local/lib/python3.10/dist-packages (from requests<3,>=2.31.0->hail) (2024.6.2)\n",
            "Requirement already satisfied: commonmark<0.10.0,>=0.9.0 in /usr/local/lib/python3.10/dist-packages (from rich<13,>=12.6.0->hail) (0.9.1)\n",
            "Requirement already satisfied: pygments<3.0.0,>=2.6.0 in /usr/local/lib/python3.10/dist-packages (from rich<13,>=12.6.0->hail) (2.16.1)\n",
            "Requirement already satisfied: click>=8.0.0 in /usr/local/lib/python3.10/dist-packages (from typer<1,>=0.9.0->hail) (8.1.7)\n",
            "Requirement already satisfied: shellingham>=1.3.0 in /usr/local/lib/python3.10/dist-packages (from typer<1,>=0.9.0->hail) (1.5.4)\n",
            "Requirement already satisfied: cffi>=1.12 in /usr/local/lib/python3.10/dist-packages (from cryptography>=2.5->azure-identity<2,>=1.6.0->hail) (1.16.0)\n",
            "Requirement already satisfied: MarkupSafe>=2.0 in /usr/local/lib/python3.10/dist-packages (from Jinja2>=2.9->bokeh<3.4,>=3->hail) (2.1.5)\n",
            "Requirement already satisfied: PyJWT[crypto]<3,>=1.0.0 in /usr/lib/python3/dist-packages (from msal>=1.24.0->azure-identity<2,>=1.6.0->hail) (2.3.0)\n",
            "Requirement already satisfied: portalocker<3,>=1.4 in /usr/local/lib/python3.10/dist-packages (from msal-extensions>=0.3.0->azure-identity<2,>=1.6.0->hail) (2.10.0)\n",
            "Requirement already satisfied: pyasn1<0.7.0,>=0.4.6 in /usr/local/lib/python3.10/dist-packages (from pyasn1-modules>=0.2.1->google-auth<3,>=2.14.1->hail) (0.6.0)\n",
            "Requirement already satisfied: oauthlib>=3.0.0 in /usr/local/lib/python3.10/dist-packages (from requests-oauthlib>=0.7.0->google-auth-oauthlib<1,>=0.5.2->hail) (3.2.2)\n",
            "Requirement already satisfied: pycparser in /usr/local/lib/python3.10/dist-packages (from cffi>=1.12->cryptography>=2.5->azure-identity<2,>=1.6.0->hail) (2.22)\n"
          ]
        }
      ]
    },
    {
      "cell_type": "code",
      "source": [
        "import hail as hl\n",
        "from hail.plot import show\n",
        "from pprint import pprint"
      ],
      "metadata": {
        "id": "xpMZN3V9u5AY"
      },
      "execution_count": null,
      "outputs": []
    },
    {
      "cell_type": "markdown",
      "source": [
        "Prepare - удаляем группу AMR (смешанные американцы) и создаем тестовую и обучающую выборки"
      ],
      "metadata": {
        "id": "iUptTgbT58G0"
      }
    },
    {
      "cell_type": "code",
      "source": [
        "!grep -E 'AFR|EUR|SAS|EAS' annotation.txt > annotation_noAMR.txt"
      ],
      "metadata": {
        "id": "sCsCASnH6j-k",
        "colab": {
          "base_uri": "https://localhost:8080/"
        },
        "outputId": "ec20d014-a075-4dab-9475-27d4e877f833"
      },
      "execution_count": null,
      "outputs": [
        {
          "output_type": "stream",
          "name": "stdout",
          "text": [
            "grep: annotation.txt: No such file or directory\n"
          ]
        }
      ]
    },
    {
      "cell_type": "markdown",
      "source": [
        "STEP0 - отбираем только би-аллельные SNP и убирает инделы"
      ],
      "metadata": {
        "id": "9gB7h3gBVaBk"
      }
    },
    {
      "cell_type": "code",
      "source": [
        "chr1 = hl.import_vcf('ALL.chr1.phase3_shapeit2_mvncall_integrated_v5b.20130502.genotypes.vcf.gz', force_bgz=True)"
      ],
      "metadata": {
        "id": "l4zrt36avAvQ",
        "colab": {
          "base_uri": "https://localhost:8080/"
        },
        "outputId": "9b6af5f8-dd40-448e-c588-a5e7824800ca"
      },
      "execution_count": null,
      "outputs": [
        {
          "output_type": "stream",
          "name": "stderr",
          "text": [
            "Initializing Hail with default parameters...\n",
            "Running on Apache Spark version 3.5.1\n",
            "SparkUI available at http://d41f68cc0b17:4040\n",
            "Welcome to\n",
            "     __  __     <>__\n",
            "    / /_/ /__  __/ /\n",
            "   / __  / _ `/ / /\n",
            "  /_/ /_/\\_,_/_/_/   version 0.2.131-11d9b2ff89da\n",
            "LOGGING: writing to /content/hail-20240626-0543-0.2.131-11d9b2ff89da.log\n"
          ]
        }
      ]
    },
    {
      "cell_type": "code",
      "source": [
        "#only bi-allelic SNP\n",
        "chr1 = chr1.filter_rows(hl.len(chr1.alleles) == 2)\n",
        "#remove indels\n",
        "chr1 = chr1.filter_rows(hl.is_snp(chr1.alleles[0], chr1.alleles[1]))"
      ],
      "metadata": {
        "id": "GNwD5WLzEBZ_"
      },
      "execution_count": null,
      "outputs": []
    },
    {
      "cell_type": "code",
      "source": [
        "#Получаем тестовую и обучающую выборку\n",
        "import pandas as pd\n",
        "import numpy as np\n",
        "import os\n",
        "#Обозначение переменных\n",
        "testindsperdeme = 100\n",
        "demes = 5\n",
        "filenameInds = \"integrated_call_samples_v3.20130502.ALL.panel\"\n",
        "filenameIndsTest = \"annotationTest.txt\"\n",
        "filenameIndsTraining = \"annotationTraining.txt\"\n",
        "\n",
        "\n",
        "size = [testindsperdeme for i in range(demes)]\n",
        "a = pd.read_csv(filenameInds, sep='\\t' )\n",
        "pops = np.sort(np.unique(a.iloc[:, 2]))\n",
        "inds = a.iloc[:, [0, 2]]\n",
        "noinds = np.zeros(len(pops), dtype=int)\n",
        "testset, trainingset = [], []\n",
        "\n",
        "for i in range(len(pops)):\n",
        "    indslocal = inds[inds.iloc[:, 1] == pops[i]].iloc[:, 0]\n",
        "    noinds[i] = np.sum(inds.iloc[:, 1] == pops[i])\n",
        "    s = np.random.choice(noinds[i], size[i], replace=False)\n",
        "    testset.extend(indslocal.iloc[s])\n",
        "    trainingset.extend(indslocal.iloc[np.setdiff1d(np.arange(noinds[i]), s)])\n",
        "\n",
        "#Создаем пустые файлы с заголовком\n",
        "os.system(f\" head -n 1 {filenameInds} > {filenameIndsTest}\")\n",
        "os.system(f\" head -n 1 {filenameInds} > {filenameIndsTraining}\")\n",
        "\n",
        "#Создаем файлы с аннотацией образцов для обучающего и тестового образца по отобранным именам\n",
        "for test_id in testset:\n",
        "    os.system(f\"grep -w {test_id} {filenameInds} >> {filenameIndsTest}\")\n",
        "\n",
        "for train_id in trainingset:\n",
        "    os.system(f\"grep -w {train_id} {filenameInds} >> {filenameIndsTraining}\")"
      ],
      "metadata": {
        "id": "yuAAy-D7Dao3"
      },
      "execution_count": null,
      "outputs": []
    },
    {
      "cell_type": "markdown",
      "source": [
        "STEP1 - считаем частоты SNP"
      ],
      "metadata": {
        "id": "s4MBw12RVne6"
      }
    },
    {
      "cell_type": "code",
      "source": [
        "table = hl.import_table(\"integrated_call_samples_v3.20130502.ALL.panel\").key_by(\"sample\")\n",
        "mt = chr1\n",
        "\n",
        "# объединяем данные из аннотации с данными из vcf файла\n",
        "mt = mt.annotate_cols(pheno=table[mt.s])\n",
        "\n",
        "#Список популяций в файле\n",
        "pops = list(table.aggregate(hl.agg.collect_as_set(table.super_pop)))\n",
        "\n",
        "# Инициализация таблицы первой популяцией\n",
        "mt_pop = mt.filter_cols(mt.pheno.super_pop == pops[0])\n",
        "mt_pop = hl.variant_qc(mt_pop)\n",
        "mt_pop = mt_pop.annotate_rows(alt = mt_pop.variant_qc.AF[1])\n",
        "freq_table = mt_pop.rows().select('alt').rename({\"alt\": f'{pops[0]}'})\n",
        "\n",
        "# Цикл по оставшимся популяциям\n",
        "for pop in pops[1:]:\n",
        "  mt_pop = mt.filter_cols(mt.pheno.super_pop == pop)\n",
        "  mt_pop = hl.variant_qc(mt_pop)\n",
        "  mt_pop = mt_pop.annotate_rows(alt = mt_pop.variant_qc.AF[1])\n",
        "  pop_freq = mt_pop.rows().select('alt').rename({\"alt\": f'{pop}'})\n",
        "\n",
        "  # Объединяем таблицы\n",
        "  freq_table = freq_table.join(pop_freq)"
      ],
      "metadata": {
        "id": "iV5UE7sgNj0S"
      },
      "execution_count": null,
      "outputs": []
    },
    {
      "cell_type": "markdown",
      "source": [
        "STEP2 - фильтрация SNP по информативности"
      ],
      "metadata": {
        "id": "8syXLxsiNocO"
      }
    },
    {
      "cell_type": "code",
      "source": [
        "#Задаем уровень информативности, при котором мы оставляем SNP\n",
        "informativenessBound = 0.9\n",
        "#Вводим дополнительные функции для подсчета информативности\n",
        "def xlogx2(x):\n",
        "    z = xlogx(x) + xlogx(1 - x)\n",
        "    return z\n",
        "\n",
        "def xlogx(x):\n",
        "    z = hl.if_else(x == 0, 0, x * hl.log(x))\n",
        "    return z\n",
        "#Считаем количесвто строк в файле\n",
        "nss = freq_table.count()\n",
        "#Считаем средние\n",
        "freq_table = freq_table.annotate(\n",
        "    mean_row=(freq_table.AFR + freq_table.SAS + freq_table.EUR + freq_table.AMR + freq_table.EAS) / len(pops)\n",
        ")\n",
        "freq_table = freq_table.annotate(\n",
        "    mean_row_log=(xlogx2(freq_table.AFR) + xlogx2(freq_table.SAS) + xlogx2(freq_table.EUR) + xlogx2(freq_table.AMR) + xlogx2(freq_table.EAS)) / len(pops)\n",
        ")\n",
        "#Считаем информативность\n",
        "freq_table = freq_table.annotate(info= -xlogx2(freq_table.mean_row) + freq_table.mean_row_log)\n",
        "#Фильтруем таблицу по информативности (в порядке убывания) и отбираем 10% самых информативных SNP\n",
        "informativenessQuantile = freq_table.order_by(hl.desc(freq_table.info)).head(hl.eval(hl.int32(hl.floor((1 - informativenessBound)* nss))))\n",
        "#Создаем новый vcf-файл с отобранными SNP по информативности\n",
        "informativenessQuantile = informativenessQuantile.key_by(\"locus\")\n",
        "mt = chr1.filter_rows(hl.is_defined(informativenessQuantile[chr1.locus]))\n",
        "#Сохраняем файл\n",
        "hl.export_vcf(mt, 'tmp/filter_chr1.vcf.bgz')"
      ],
      "metadata": {
        "id": "HDuQu4q-Nvk0"
      },
      "execution_count": null,
      "outputs": []
    },
    {
      "cell_type": "markdown",
      "source": [
        "STEP3 - делим имеющийся файл на маленькие"
      ],
      "metadata": {
        "id": "iQjfMknnN1Eu"
      }
    },
    {
      "cell_type": "code",
      "source": [
        "mt = hl.import_vcf('tmp/filter_chr1.vcf.bgz')\n",
        "stepsize = 10000\n",
        "# Вычисляем количество сегментов и преобразуем в список\n",
        "segments = hl.range(0, hl.int32((mt.count_rows() - 1) // stepsize + 1)).collect()\n",
        "# Добавляем столбец с номером строки\n",
        "mt = mt.annotate_rows(row_index=hl.scan.count())\n",
        "\n",
        "# Фильтруем строки по номеру\n",
        "\n",
        "# Цикл по сегментам\n",
        "for j in segments[0]:\n",
        "    start = j * stepsize\n",
        "    end = hl.eval(min((j + 1) * stepsize, mt.count_rows()))\n",
        "    # Фильтруем строки по номеру\n",
        "    segment_mt = mt.filter_rows((mt.row.row_index >= start) & (mt.row.row_index < end))\n",
        "    hl.export_vcf(segment_mt, f\"tmp/chr_segment{j}.vcf.bgz\")"
      ],
      "metadata": {
        "id": "NLECQ8f7N5RJ"
      },
      "execution_count": null,
      "outputs": []
    },
    {
      "cell_type": "markdown",
      "source": [
        "STEP4 - считаем кол-во строк в новом vcf файле"
      ],
      "metadata": {
        "id": "885FjwMKN8qj"
      }
    },
    {
      "cell_type": "code",
      "source": [
        "nss = hl.eval(chr.count()[0])"
      ],
      "metadata": {
        "id": "dBnK-WA7OAGd"
      },
      "execution_count": null,
      "outputs": []
    },
    {
      "cell_type": "code",
      "source": [
        "#STEP5\n",
        "def genotype_to_number(gt):\n",
        "    z = hl.case().when(gt.is_het(), 1).when(gt.is_hom_ref(), 0).when(gt.is_hom_var(), 2).or_missing()\n",
        "    return z\n",
        "for j in segments[0]:\n",
        "    mt = hl.import_vcf(f\"tmp/chr_segment{j}.vcf.bgz\")\n",
        "    mt = mt.annotate_entries(GT=genotype_to_number(mt.GT))\n",
        "    mt.write(f'tmp/chr_segment{j}.mt', overwrite=True)"
      ],
      "metadata": {
        "id": "-VZbPGHLDGg7"
      },
      "execution_count": null,
      "outputs": []
    },
    {
      "cell_type": "code",
      "source": [
        "chr = chr1.head(200)"
      ],
      "metadata": {
        "id": "LlqmzOawJK_A"
      },
      "execution_count": null,
      "outputs": []
    },
    {
      "cell_type": "code",
      "source": [
        "def genotype_to_number(gt):\n",
        "    z = hl.case().when(gt.is_het(), 1).when(gt.is_hom_ref(), 0).when(gt.is_hom_var(), 2).or_missing()\n",
        "    return z"
      ],
      "metadata": {
        "id": "AK-KJM-IJQ2y"
      },
      "execution_count": null,
      "outputs": []
    },
    {
      "cell_type": "code",
      "source": [
        "mt = chr.annotate_entries(GT=genotype_to_number(chr.GT))\n",
        "mt.write('chr.mt', overwrite=True)"
      ],
      "metadata": {
        "colab": {
          "base_uri": "https://localhost:8080/"
        },
        "id": "At5qQoxhJTE0",
        "outputId": "0da517d2-120c-4a07-e867-580eb3272868"
      },
      "execution_count": null,
      "outputs": [
        {
          "output_type": "stream",
          "name": "stderr",
          "text": [
            "2024-06-26 05:44:34.832 Hail: INFO: scanning VCF for sortedness...\n",
            "2024-06-26 05:47:21.919 Hail: INFO: Coerced prefix-sorted VCF, requiring additional sorting within data partitions on each query.\n",
            "2024-06-26 05:47:30.830 Hail: INFO: wrote matrix table with 200 rows and 2504 columns in 1 partition to chr.mt\n"
          ]
        }
      ]
    },
    {
      "cell_type": "code",
      "source": [
        "#STEP6\n",
        "a = hl.import_table(\"annotationTraining.txt\").select(\"sample\",\"super_pop\")\n",
        "#Создаем список с именами все анализируемых vcf файлов\n",
        "#findAIMs\n",
        "method = \"naiveBayes\"\n",
        "error_type=\"misclassification\"\n",
        "diploid = True\n",
        "outfile = \"AIMs\"\n",
        "#Количесвто AIM, которое мы хотим получить в итоге\n",
        "numAIM = 10\n",
        "#Частота встречаемости популяций\n",
        "samples_in_deme = a.aggregate(hl.agg.counter(a.super_pop))\n",
        "#Создаем пустую таблицу для хоанения информативных маркеров\n",
        "sampleAIMs = hl.Table.parallelize([])\n",
        "#Считаем количесвто столбцов в таблице sampleAIMs\n",
        "no = hl.if_else(len(sampleAIMs.row) == 0, 0, len(sampleAIMs.row))\n",
        "min_error = 1000"
      ],
      "metadata": {
        "id": "-SPxaqv4DQiS",
        "colab": {
          "base_uri": "https://localhost:8080/"
        },
        "outputId": "7d8f6b5f-1b31-414e-e5c3-73be343148cb"
      },
      "execution_count": null,
      "outputs": [
        {
          "output_type": "stream",
          "name": "stderr",
          "text": [
            "2024-06-26 05:47:42.930 Hail: WARN: Name collision: field 'sample' already in object dict. \n",
            "  This field must be referenced with __getitem__ syntax: obj['sample']\n",
            "2024-06-26 05:47:42.941 Hail: INFO: Reading table without type imputation\n",
            "  Loading field 'sample' as type str (not specified)\n",
            "  Loading field 'pop' as type str (not specified)\n",
            "  Loading field 'super_pop' as type str (not specified)\n",
            "  Loading field 'gender' as type str (not specified)\n"
          ]
        }
      ]
    },
    {
      "cell_type": "code",
      "source": [
        "#Внутреннее содержимое функции getfreqs\n",
        "#Создаем список всех локусов\n",
        "locus_list = mt.locus.collect()\n",
        "#Импортируем необходимые файлы\n",
        "table_annotation = hl.import_table(\"annotationTraining.txt\").key_by(\"sample\")\n",
        "mt = chr\n",
        "\n",
        "#объединяем данные из аннотации с данными из vcf файла\n",
        "mt = mt.annotate_cols(pheno=table_annotation[mt.s])\n",
        "\n",
        "#Список популяций в файле\n",
        "pops = list(table_annotation.aggregate(hl.agg.collect_as_set(table_annotation.super_pop)))\n",
        "\n",
        "# Инициализация таблицы первой популяцией\n",
        "mt_pop = mt.filter_cols(mt.pheno.super_pop == pops[0])\n",
        "mt_pop = hl.variant_qc(mt_pop)\n",
        "mt_pop = mt_pop.annotate_rows(alt = mt_pop.variant_qc.AC[1]).key_rows_by(\"locus\")\n",
        "freq_list = mt_pop.alt.collect()\n",
        "locus_freq_table = hl.Table.parallelize(\n",
        "    [{\"locus\": locus, \"frequency\": freq} for locus, freq in zip(locus_list, freq_list)],\n",
        "    hl.tstruct(locus=hl.tlocus(\"GRCh37\"), frequency=hl.tint32),\n",
        ").rename({\"frequency\": f'{pops[0]}'})\n",
        "table = locus_freq_table.key_by(\"locus\")\n",
        "# Цикл по оставшимся популяциям\n",
        "for pop in pops[1:]:\n",
        "  mt_pop = mt.filter_cols(mt.pheno.super_pop == pop)\n",
        "  mt_pop = hl.variant_qc(mt_pop)\n",
        "  mt_pop = mt_pop.annotate_rows(alt = mt_pop.variant_qc.AC[1]).key_rows_by(\"locus\")\n",
        "  freq_list = mt_pop.alt.collect()\n",
        "  locus_freq_table = hl.Table.parallelize(\n",
        "    [{\"locus\": locus, \"frequency\": freq} for locus, freq in zip(locus_list, freq_list)],\n",
        "    hl.tstruct(locus=hl.tlocus(\"GRCh37\"), frequency=hl.tint32)).rename({\"frequency\": f'{pop}'}).key_by(\"locus\")\n",
        "  table = table.join(locus_freq_table, how=\"left\")"
      ],
      "metadata": {
        "colab": {
          "base_uri": "https://localhost:8080/"
        },
        "id": "FzkFscPCiNIF",
        "outputId": "7b538e8a-5cf7-4bee-a0ba-2aaf56d26766"
      },
      "execution_count": null,
      "outputs": [
        {
          "output_type": "stream",
          "name": "stderr",
          "text": [
            "2024-06-26 05:48:51.475 Hail: INFO: Reading table without type imputation\n",
            "  Loading field 'sample' as type str (not specified)\n",
            "  Loading field 'pop' as type str (not specified)\n",
            "  Loading field 'super_pop' as type str (not specified)\n",
            "  Loading field 'gender' as type str (not specified)\n"
          ]
        }
      ]
    },
    {
      "cell_type": "code",
      "source": [
        "#Считаем количесвто групп\n",
        "demes = len(table.row) - 1"
      ],
      "metadata": {
        "id": "dYXTjuGEUw_i"
      },
      "execution_count": null,
      "outputs": []
    },
    {
      "cell_type": "code",
      "source": [
        "#Реализуем функцию find.next.AIM"
      ],
      "metadata": {
        "id": "3iJQ3o_dsd5C"
      },
      "execution_count": null,
      "outputs": []
    },
    {
      "cell_type": "code",
      "source": [
        "import re"
      ],
      "metadata": {
        "id": "eq0OmUBMAOll"
      },
      "execution_count": null,
      "outputs": []
    },
    {
      "cell_type": "code",
      "source": [
        "sample_test = hl.read_matrix_table('chr.mt').head(20)\n",
        "sample_names = [(re.search(r\"Struct\\(sample='(.*?)'\\)\", str(i)).group(1)) for i in table_annotation.key_by().select(\"sample\").collect()]"
      ],
      "metadata": {
        "id": "NCY0dZB631pX"
      },
      "execution_count": null,
      "outputs": []
    },
    {
      "cell_type": "code",
      "source": [
        "sample_test.count_rows()"
      ],
      "metadata": {
        "colab": {
          "base_uri": "https://localhost:8080/"
        },
        "id": "DhkH1FpJfdM4",
        "outputId": "547b483e-59d5-4aef-c640-03d237733ab2"
      },
      "execution_count": null,
      "outputs": [
        {
          "output_type": "execute_result",
          "data": {
            "text/plain": [
              "20"
            ]
          },
          "metadata": {},
          "execution_count": 214
        }
      ]
    },
    {
      "cell_type": "code",
      "source": [
        "#нормальный log.prediction naive bayes\n",
        "def log_prediction_naiveBayes(sample_test, table_with_freq, sample_names, number_of_snp):\n",
        "  res = np.zeros((len(sample_names), 5))\n",
        "  for j in range(len(sample_names)):\n",
        "    selected_mt = sample_test.filter_cols(sample_test.s == f'{sample_names[j]}').GT.collect()[number_of_snp]\n",
        "    for k in range(5):\n",
        "      counts = [int(re.search(r'\\d+(\\.\\d+)?', str(i)).group(0)) for i in table_with_freq.select(f\"{pops[k]}\").collect()][number_of_snp]\n",
        "      res[j, :][k] += np.log(1 + counts) * selected_mt + np.log((1 + diploid) * samples_in_deme[pops[k]] - counts + 1) * (1 + diploid - selected_mt)\n",
        "  else:\n",
        "    return res"
      ],
      "metadata": {
        "id": "ImXHEjx4m8My"
      },
      "execution_count": null,
      "outputs": []
    },
    {
      "cell_type": "code",
      "source": [
        "def prediction_naive_bayes(sample_test, counts, sample_names, number_of_snp):\n",
        "  res = log_prediction_naiveBayes(sample_test, counts, sample_names, number_of_snp)\n",
        "  # Вычисляем экспоненту для каждого значения в res, вычитая максимальное значение\n",
        "  res = np.exp(res - np.max(res))\n",
        "  # Нормализуем каждую строку так, чтобы сумма элементов в строке была равна 1\n",
        "  res = res / res.sum(axis=1, keepdims=True)\n",
        "  return res"
      ],
      "metadata": {
        "id": "zAO_S938ohnC"
      },
      "execution_count": null,
      "outputs": []
    },
    {
      "cell_type": "code",
      "source": [
        "def logloss_error(prediction_table):\n",
        "  \"\"\"\n",
        "  Вычисляет logloss error для Hail Table с вероятностями.\n",
        "\n",
        "  Args:\n",
        "      prediction_table (Hail Table): Таблица, содержащая столбцы с вероятностями\n",
        "          принадлежности к популяциям и столбец 'super_pop' с истинными классами.\n",
        "\n",
        "  Returns:\n",
        "      float: Значение logloss error.\n",
        "  \"\"\"\n",
        "\n",
        "  # Получаем список названий популяций из колонок\n",
        "  populations = ['EAS', 'SAS', 'AFR', 'EUR', 'AMR']\n",
        "\n",
        "  # Создаем список выражений для получения вероятности для истинного класса\n",
        "  probs_for_correct_classes_expr = [\n",
        "    hl.if_else(prediction_table.super_pop == population,\n",
        "               prediction_table[population],\n",
        "               hl.literal(0))\n",
        "    for population in populations\n",
        "  ]\n",
        "\n",
        "  # Вычисляем среднее логарифма вероятности для истинного класса\n",
        "  logloss = - prediction_table.aggregate(hl.agg.mean(hl.log(hl.sum(probs_for_correct_classes_expr))))\n",
        "\n",
        "  return logloss"
      ],
      "metadata": {
        "id": "YGImikdM3vPl"
      },
      "execution_count": null,
      "outputs": []
    },
    {
      "cell_type": "code",
      "source": [
        "def App_test_error(sample_test, counts, sample_names, number_of_snp, table):\n",
        "    \"\"\"\n",
        "  Вычисляет ошибку для каждого SNP\n",
        "\n",
        "  Args:\n",
        "     sample_test - matrix table по типу vcf.gz только генотипы 0, 1, 2 - получен на 5м шаге\n",
        "     counts - hail table с частотами каждого SNP в популяциях\n",
        "     sample_names - имя образцов для обучающей выборки\n",
        "     number_of_snp - для какого SNP считаем вероятности\n",
        "     table - hail table = annotationTraining.txt\n",
        "\n",
        "  Returns:\n",
        "    Значение logloss error для каждого SNP в файле.\n",
        "  \"\"\"\n",
        "    #Считаем матрицу вероятностей\n",
        "    res = prediction_naive_bayes(sample_test, counts, sample_names, number_of_snp)\n",
        "    # Преобразуем numpy массив в pandas DataFrame\n",
        "    df = pd.DataFrame(res, columns=pops)\n",
        "    #Добавляем колонку с именами образцов\n",
        "    df[\"sample\"] = sample_names\n",
        "    #Добавляем колонку с именами популяций\n",
        "    population = table.super_pop.collect()\n",
        "    df[\"super_pop\"] = population\n",
        "    ht = hl.Table.from_pandas(df)\n",
        "    error = logloss_error(ht)\n",
        "    return error"
      ],
      "metadata": {
        "id": "CiPC3GIvpGMS"
      },
      "execution_count": null,
      "outputs": []
    },
    {
      "cell_type": "code",
      "source": [
        "#продолжение find next AIMs - мы получаем список error для каждого SNP\n",
        "min_error = min(error)\n",
        "best_snp = error.index(min_error) #находим образец с минимальной ошибкой\n",
        "sample_next_AIM = sample_test.filter_cols(sample_test.s == f'{sample_names[best_snp]}').GT\n",
        "#return sample_next_AIM, min_error"
      ],
      "metadata": {
        "id": "Mbnn253PG8mM"
      },
      "execution_count": null,
      "outputs": []
    },
    {
      "cell_type": "code",
      "source": [
        "#Собираем функцию find AIM\n",
        "for i in range(numAIM):\n",
        "  best, error = find_next_AIM()\n"
      ],
      "metadata": {
        "id": "WdRBgAKvNzep"
      },
      "execution_count": null,
      "outputs": []
    },
    {
      "cell_type": "markdown",
      "source": [
        "Отбросы кода"
      ],
      "metadata": {
        "id": "R4zW1j5Hsacl"
      }
    },
    {
      "cell_type": "code",
      "source": [
        "#log.prediction.naive.bayes\n",
        "t = hl.import_table(\"annotationTraining.txt\")\n",
        "sample_test = hl.read_matrix_table('chr.mt')\n",
        "table_with_freq = table.key_by()\n",
        "sample_names = [(re.search(r\"Struct\\(sample='(.*?)'\\)\", str(i)).group(1)) for i in t.select(\"sample\").collect()]\n",
        "res = np.zeros((len(sample_names), demes))\n",
        "for j in range(len(sample_names)):\n",
        "  selected_mt = sample_test.filter_cols(sample_test.s == f'{sample_names[j]}').GT.collect()\n",
        "  for k in range(5):\n",
        "    counts = [int(re.search(r'\\d+(\\.\\d+)?', str(i)).group(0)) for i in table_with_freq.select(f\"{pops[k]}\").collect()]\n",
        "    for i in range(1):\n",
        "      res[j, :][k] += np.log(1 + counts[i]) * selected_mt[i] + np.log((1 + diploid) * samples_in_deme[pops[k]] - counts[i] + 1) * (1 + diploid - selected_mt[i])"
      ],
      "metadata": {
        "colab": {
          "base_uri": "https://localhost:8080/",
          "height": 1000
        },
        "id": "Ri6bg77Iucn9",
        "outputId": "39aebe16-d204-431b-b76f-6b6e920b8cad"
      },
      "execution_count": null,
      "outputs": [
        {
          "output_type": "stream",
          "name": "stderr",
          "text": [
            "2024-06-25 13:19:14.878 Hail: INFO: Reading table without type imputation\n",
            "  Loading field 'sample' as type str (not specified)\n",
            "  Loading field 'pop' as type str (not specified)\n",
            "  Loading field 'super_pop' as type str (not specified)\n",
            "  Loading field 'gender' as type str (not specified)\n",
            "2024-06-25 13:19:16.530 Hail: INFO: Coerced sorted dataset\n",
            "2024-06-25 13:19:17.088 Hail: INFO: Coerced sorted dataset\n",
            "2024-06-25 13:19:17.599 Hail: INFO: Coerced sorted dataset\n",
            "2024-06-25 13:19:18.088 Hail: INFO: Coerced sorted dataset\n",
            "2024-06-25 13:19:18.662 Hail: INFO: Coerced sorted dataset\n",
            "2024-06-25 13:19:20.652 Hail: INFO: Coerced sorted dataset\n",
            "2024-06-25 13:19:20.919 Hail: INFO: Coerced sorted dataset\n",
            "2024-06-25 13:19:21.185 Hail: INFO: Coerced sorted dataset\n",
            "2024-06-25 13:19:21.444 Hail: INFO: Coerced sorted dataset\n",
            "2024-06-25 13:19:21.709 Hail: INFO: Coerced sorted dataset\n",
            "2024-06-25 13:19:23.005 Hail: INFO: Coerced sorted dataset\n",
            "2024-06-25 13:19:23.247 Hail: INFO: Coerced sorted dataset\n",
            "2024-06-25 13:19:23.483 Hail: INFO: Coerced sorted dataset\n",
            "2024-06-25 13:19:23.726 Hail: INFO: Coerced sorted dataset\n",
            "2024-06-25 13:19:24.030 Hail: INFO: Coerced sorted dataset\n",
            "2024-06-25 13:19:24.901 Hail: INFO: Coerced sorted dataset\n",
            "2024-06-25 13:19:25.144 Hail: INFO: Coerced sorted dataset\n",
            "2024-06-25 13:19:25.802 Hail: INFO: Coerced sorted dataset\n",
            "2024-06-25 13:19:26.062 Hail: INFO: Coerced sorted dataset\n",
            "2024-06-25 13:19:26.305 Hail: INFO: Coerced sorted dataset\n",
            "2024-06-25 13:19:27.267 Hail: INFO: Coerced sorted dataset\n",
            "2024-06-25 13:19:27.502 Hail: INFO: Coerced sorted dataset\n",
            "2024-06-25 13:19:27.764 Hail: INFO: Coerced sorted dataset\n",
            "2024-06-25 13:19:28.022 Hail: INFO: Coerced sorted dataset\n",
            "2024-06-25 13:19:28.632 Hail: INFO: Coerced sorted dataset\n",
            "2024-06-25 13:19:30.156 Hail: INFO: Coerced sorted dataset\n",
            "2024-06-25 13:19:30.666 Hail: INFO: Coerced sorted dataset\n",
            "2024-06-25 13:19:31.024 Hail: INFO: Coerced sorted dataset\n",
            "2024-06-25 13:19:31.428 Hail: INFO: Coerced sorted dataset\n",
            "2024-06-25 13:19:32.476 Hail: INFO: Coerced sorted dataset\n",
            "2024-06-25 13:19:34.405 Hail: INFO: Coerced sorted dataset\n",
            "2024-06-25 13:19:34.894 Hail: INFO: Coerced sorted dataset\n",
            "2024-06-25 13:19:35.586 Hail: INFO: Coerced sorted dataset\n",
            "2024-06-25 13:19:36.120 Hail: INFO: Coerced sorted dataset\n",
            "2024-06-25 13:19:37.211 Hail: INFO: Coerced sorted dataset\n",
            "2024-06-25 13:19:39.152 Hail: INFO: Coerced sorted dataset\n",
            "2024-06-25 13:19:39.618 Hail: INFO: Coerced sorted dataset\n",
            "2024-06-25 13:19:40.093 Hail: INFO: Coerced sorted dataset\n",
            "2024-06-25 13:19:40.513 Hail: INFO: Coerced sorted dataset\n",
            "2024-06-25 13:19:40.984 Hail: INFO: Coerced sorted dataset\n",
            "2024-06-25 13:19:43.481 Hail: INFO: Coerced sorted dataset\n",
            "2024-06-25 13:19:43.792 Hail: INFO: Coerced sorted dataset\n",
            "2024-06-25 13:19:44.154 Hail: INFO: Coerced sorted dataset\n",
            "2024-06-25 13:19:44.420 Hail: INFO: Coerced sorted dataset\n",
            "2024-06-25 13:19:44.667 Hail: INFO: Coerced sorted dataset\n",
            "2024-06-25 13:19:45.568 Hail: INFO: Coerced sorted dataset\n",
            "2024-06-25 13:19:46.204 Hail: INFO: Coerced sorted dataset\n",
            "2024-06-25 13:19:46.521 Hail: INFO: Coerced sorted dataset\n",
            "2024-06-25 13:19:46.762 Hail: INFO: Coerced sorted dataset\n",
            "2024-06-25 13:19:47.076 Hail: INFO: Coerced sorted dataset\n",
            "2024-06-25 13:19:49.372 Hail: INFO: Coerced sorted dataset\n",
            "2024-06-25 13:19:49.593 Hail: INFO: Coerced sorted dataset\n",
            "2024-06-25 13:19:49.934 Hail: INFO: Coerced sorted dataset\n",
            "2024-06-25 13:19:50.172 Hail: INFO: Coerced sorted dataset\n",
            "2024-06-25 13:19:50.417 Hail: INFO: Coerced sorted dataset\n",
            "2024-06-25 13:19:51.413 Hail: INFO: Coerced sorted dataset\n"
          ]
        },
        {
          "output_type": "error",
          "ename": "KeyboardInterrupt",
          "evalue": "",
          "traceback": [
            "\u001b[0;31m---------------------------------------------------------------------------\u001b[0m",
            "\u001b[0;31mKeyboardInterrupt\u001b[0m                         Traceback (most recent call last)",
            "\u001b[0;32m<ipython-input-123-ac37e8e6bd2a>\u001b[0m in \u001b[0;36m<cell line: 7>\u001b[0;34m()\u001b[0m\n\u001b[1;32m      8\u001b[0m   \u001b[0mselected_mt\u001b[0m \u001b[0;34m=\u001b[0m \u001b[0msample_test\u001b[0m\u001b[0;34m.\u001b[0m\u001b[0mfilter_cols\u001b[0m\u001b[0;34m(\u001b[0m\u001b[0msample_test\u001b[0m\u001b[0;34m.\u001b[0m\u001b[0ms\u001b[0m \u001b[0;34m==\u001b[0m \u001b[0;34mf'{sample_names[j]}'\u001b[0m\u001b[0;34m)\u001b[0m\u001b[0;34m.\u001b[0m\u001b[0mGT\u001b[0m\u001b[0;34m.\u001b[0m\u001b[0mcollect\u001b[0m\u001b[0;34m(\u001b[0m\u001b[0;34m)\u001b[0m\u001b[0;34m\u001b[0m\u001b[0;34m\u001b[0m\u001b[0m\n\u001b[1;32m      9\u001b[0m   \u001b[0;32mfor\u001b[0m \u001b[0mk\u001b[0m \u001b[0;32min\u001b[0m \u001b[0mrange\u001b[0m\u001b[0;34m(\u001b[0m\u001b[0;36m5\u001b[0m\u001b[0;34m)\u001b[0m\u001b[0;34m:\u001b[0m\u001b[0;34m\u001b[0m\u001b[0;34m\u001b[0m\u001b[0m\n\u001b[0;32m---> 10\u001b[0;31m     \u001b[0mcounts\u001b[0m \u001b[0;34m=\u001b[0m \u001b[0;34m[\u001b[0m\u001b[0mint\u001b[0m\u001b[0;34m(\u001b[0m\u001b[0mre\u001b[0m\u001b[0;34m.\u001b[0m\u001b[0msearch\u001b[0m\u001b[0;34m(\u001b[0m\u001b[0;34mr'\\d+(\\.\\d+)?'\u001b[0m\u001b[0;34m,\u001b[0m \u001b[0mstr\u001b[0m\u001b[0;34m(\u001b[0m\u001b[0mi\u001b[0m\u001b[0;34m)\u001b[0m\u001b[0;34m)\u001b[0m\u001b[0;34m.\u001b[0m\u001b[0mgroup\u001b[0m\u001b[0;34m(\u001b[0m\u001b[0;36m0\u001b[0m\u001b[0;34m)\u001b[0m\u001b[0;34m)\u001b[0m \u001b[0;32mfor\u001b[0m \u001b[0mi\u001b[0m \u001b[0;32min\u001b[0m \u001b[0mtable_with_freq\u001b[0m\u001b[0;34m.\u001b[0m\u001b[0mselect\u001b[0m\u001b[0;34m(\u001b[0m\u001b[0;34mf\"{pops[k]}\"\u001b[0m\u001b[0;34m)\u001b[0m\u001b[0;34m.\u001b[0m\u001b[0mcollect\u001b[0m\u001b[0;34m(\u001b[0m\u001b[0;34m)\u001b[0m\u001b[0;34m]\u001b[0m\u001b[0;34m\u001b[0m\u001b[0;34m\u001b[0m\u001b[0m\n\u001b[0m\u001b[1;32m     11\u001b[0m     \u001b[0;32mfor\u001b[0m \u001b[0mi\u001b[0m \u001b[0;32min\u001b[0m \u001b[0mrange\u001b[0m\u001b[0;34m(\u001b[0m\u001b[0;36m1\u001b[0m\u001b[0;34m)\u001b[0m\u001b[0;34m:\u001b[0m\u001b[0;34m\u001b[0m\u001b[0;34m\u001b[0m\u001b[0m\n\u001b[1;32m     12\u001b[0m       \u001b[0mres\u001b[0m\u001b[0;34m[\u001b[0m\u001b[0mj\u001b[0m\u001b[0;34m,\u001b[0m \u001b[0;34m:\u001b[0m\u001b[0;34m]\u001b[0m\u001b[0;34m[\u001b[0m\u001b[0mk\u001b[0m\u001b[0;34m]\u001b[0m \u001b[0;34m+=\u001b[0m \u001b[0mnp\u001b[0m\u001b[0;34m.\u001b[0m\u001b[0mlog\u001b[0m\u001b[0;34m(\u001b[0m\u001b[0;36m1\u001b[0m \u001b[0;34m+\u001b[0m \u001b[0mcounts\u001b[0m\u001b[0;34m[\u001b[0m\u001b[0mi\u001b[0m\u001b[0;34m]\u001b[0m\u001b[0;34m)\u001b[0m \u001b[0;34m*\u001b[0m \u001b[0mselected_mt\u001b[0m\u001b[0;34m[\u001b[0m\u001b[0mi\u001b[0m\u001b[0;34m]\u001b[0m \u001b[0;34m+\u001b[0m \u001b[0mnp\u001b[0m\u001b[0;34m.\u001b[0m\u001b[0mlog\u001b[0m\u001b[0;34m(\u001b[0m\u001b[0;34m(\u001b[0m\u001b[0;36m1\u001b[0m \u001b[0;34m+\u001b[0m \u001b[0mdiploid\u001b[0m\u001b[0;34m)\u001b[0m \u001b[0;34m*\u001b[0m \u001b[0msamples_in_deme\u001b[0m\u001b[0;34m[\u001b[0m\u001b[0mpops\u001b[0m\u001b[0;34m[\u001b[0m\u001b[0mk\u001b[0m\u001b[0;34m]\u001b[0m\u001b[0;34m]\u001b[0m \u001b[0;34m-\u001b[0m \u001b[0mcounts\u001b[0m\u001b[0;34m[\u001b[0m\u001b[0mi\u001b[0m\u001b[0;34m]\u001b[0m \u001b[0;34m+\u001b[0m \u001b[0;36m1\u001b[0m\u001b[0;34m)\u001b[0m \u001b[0;34m*\u001b[0m \u001b[0;34m(\u001b[0m\u001b[0;36m1\u001b[0m \u001b[0;34m+\u001b[0m \u001b[0mdiploid\u001b[0m \u001b[0;34m-\u001b[0m \u001b[0mselected_mt\u001b[0m\u001b[0;34m[\u001b[0m\u001b[0mi\u001b[0m\u001b[0;34m]\u001b[0m\u001b[0;34m)\u001b[0m\u001b[0;34m\u001b[0m\u001b[0;34m\u001b[0m\u001b[0m\n",
            "\u001b[0;32m<decorator-gen-1343>\u001b[0m in \u001b[0;36mcollect\u001b[0;34m(self, _localize, _timed)\u001b[0m\n",
            "\u001b[0;32m/usr/local/lib/python3.10/dist-packages/hail/typecheck/check.py\u001b[0m in \u001b[0;36mwrapper\u001b[0;34m(__original_func, *args, **kwargs)\u001b[0m\n\u001b[1;32m    583\u001b[0m     \u001b[0;32mdef\u001b[0m \u001b[0mwrapper\u001b[0m\u001b[0;34m(\u001b[0m\u001b[0m__original_func\u001b[0m\u001b[0;34m:\u001b[0m \u001b[0mCallable\u001b[0m\u001b[0;34m[\u001b[0m\u001b[0;34m...\u001b[0m\u001b[0;34m,\u001b[0m \u001b[0mT\u001b[0m\u001b[0;34m]\u001b[0m\u001b[0;34m,\u001b[0m \u001b[0;34m*\u001b[0m\u001b[0margs\u001b[0m\u001b[0;34m,\u001b[0m \u001b[0;34m**\u001b[0m\u001b[0mkwargs\u001b[0m\u001b[0;34m)\u001b[0m \u001b[0;34m->\u001b[0m \u001b[0mT\u001b[0m\u001b[0;34m:\u001b[0m\u001b[0;34m\u001b[0m\u001b[0;34m\u001b[0m\u001b[0m\n\u001b[1;32m    584\u001b[0m         \u001b[0margs_\u001b[0m\u001b[0;34m,\u001b[0m \u001b[0mkwargs_\u001b[0m \u001b[0;34m=\u001b[0m \u001b[0mcheck_all\u001b[0m\u001b[0;34m(\u001b[0m\u001b[0m__original_func\u001b[0m\u001b[0;34m,\u001b[0m \u001b[0margs\u001b[0m\u001b[0;34m,\u001b[0m \u001b[0mkwargs\u001b[0m\u001b[0;34m,\u001b[0m \u001b[0mcheckers\u001b[0m\u001b[0;34m,\u001b[0m \u001b[0mis_method\u001b[0m\u001b[0;34m=\u001b[0m\u001b[0mis_method\u001b[0m\u001b[0;34m)\u001b[0m\u001b[0;34m\u001b[0m\u001b[0;34m\u001b[0m\u001b[0m\n\u001b[0;32m--> 585\u001b[0;31m         \u001b[0;32mreturn\u001b[0m \u001b[0m__original_func\u001b[0m\u001b[0;34m(\u001b[0m\u001b[0;34m*\u001b[0m\u001b[0margs_\u001b[0m\u001b[0;34m,\u001b[0m \u001b[0;34m**\u001b[0m\u001b[0mkwargs_\u001b[0m\u001b[0;34m)\u001b[0m\u001b[0;34m\u001b[0m\u001b[0;34m\u001b[0m\u001b[0m\n\u001b[0m\u001b[1;32m    586\u001b[0m \u001b[0;34m\u001b[0m\u001b[0m\n\u001b[1;32m    587\u001b[0m     \u001b[0;32mreturn\u001b[0m \u001b[0mwrapper\u001b[0m\u001b[0;34m\u001b[0m\u001b[0;34m\u001b[0m\u001b[0m\n",
            "\u001b[0;32m/usr/local/lib/python3.10/dist-packages/hail/table.py\u001b[0m in \u001b[0;36mcollect\u001b[0;34m(self, _localize, _timed)\u001b[0m\n\u001b[1;32m   2815\u001b[0m         \u001b[0me\u001b[0m \u001b[0;34m=\u001b[0m \u001b[0mconstruct_expr\u001b[0m\u001b[0;34m(\u001b[0m\u001b[0mrows_ir\u001b[0m\u001b[0;34m,\u001b[0m \u001b[0mhl\u001b[0m\u001b[0;34m.\u001b[0m\u001b[0mtarray\u001b[0m\u001b[0;34m(\u001b[0m\u001b[0mt\u001b[0m\u001b[0;34m.\u001b[0m\u001b[0mrow\u001b[0m\u001b[0;34m.\u001b[0m\u001b[0mdtype\u001b[0m\u001b[0;34m)\u001b[0m\u001b[0;34m)\u001b[0m\u001b[0;34m\u001b[0m\u001b[0;34m\u001b[0m\u001b[0m\n\u001b[1;32m   2816\u001b[0m         \u001b[0;32mif\u001b[0m \u001b[0m_localize\u001b[0m\u001b[0;34m:\u001b[0m\u001b[0;34m\u001b[0m\u001b[0;34m\u001b[0m\u001b[0m\n\u001b[0;32m-> 2817\u001b[0;31m             \u001b[0;32mreturn\u001b[0m \u001b[0mEnv\u001b[0m\u001b[0;34m.\u001b[0m\u001b[0mbackend\u001b[0m\u001b[0;34m(\u001b[0m\u001b[0;34m)\u001b[0m\u001b[0;34m.\u001b[0m\u001b[0mexecute\u001b[0m\u001b[0;34m(\u001b[0m\u001b[0me\u001b[0m\u001b[0;34m.\u001b[0m\u001b[0m_ir\u001b[0m\u001b[0;34m,\u001b[0m \u001b[0mtimed\u001b[0m\u001b[0;34m=\u001b[0m\u001b[0m_timed\u001b[0m\u001b[0;34m)\u001b[0m\u001b[0;34m\u001b[0m\u001b[0;34m\u001b[0m\u001b[0m\n\u001b[0m\u001b[1;32m   2818\u001b[0m         \u001b[0;32melse\u001b[0m\u001b[0;34m:\u001b[0m\u001b[0;34m\u001b[0m\u001b[0;34m\u001b[0m\u001b[0m\n\u001b[1;32m   2819\u001b[0m             \u001b[0;32mreturn\u001b[0m \u001b[0me\u001b[0m\u001b[0;34m\u001b[0m\u001b[0;34m\u001b[0m\u001b[0m\n",
            "\u001b[0;32m/usr/local/lib/python3.10/dist-packages/hail/backend/spark_backend.py\u001b[0m in \u001b[0;36mexecute\u001b[0;34m(self, ir, timed)\u001b[0m\n\u001b[1;32m    216\u001b[0m     \u001b[0;32mdef\u001b[0m \u001b[0mexecute\u001b[0m\u001b[0;34m(\u001b[0m\u001b[0mself\u001b[0m\u001b[0;34m,\u001b[0m \u001b[0mir\u001b[0m\u001b[0;34m:\u001b[0m \u001b[0mBaseIR\u001b[0m\u001b[0;34m,\u001b[0m \u001b[0mtimed\u001b[0m\u001b[0;34m:\u001b[0m \u001b[0mbool\u001b[0m \u001b[0;34m=\u001b[0m \u001b[0;32mFalse\u001b[0m\u001b[0;34m)\u001b[0m \u001b[0;34m->\u001b[0m \u001b[0mAny\u001b[0m\u001b[0;34m:\u001b[0m\u001b[0;34m\u001b[0m\u001b[0;34m\u001b[0m\u001b[0m\n\u001b[1;32m    217\u001b[0m         \u001b[0;32mtry\u001b[0m\u001b[0;34m:\u001b[0m\u001b[0;34m\u001b[0m\u001b[0;34m\u001b[0m\u001b[0m\n\u001b[0;32m--> 218\u001b[0;31m             \u001b[0;32mreturn\u001b[0m \u001b[0msuper\u001b[0m\u001b[0;34m(\u001b[0m\u001b[0;34m)\u001b[0m\u001b[0;34m.\u001b[0m\u001b[0mexecute\u001b[0m\u001b[0;34m(\u001b[0m\u001b[0mir\u001b[0m\u001b[0;34m,\u001b[0m \u001b[0mtimed\u001b[0m\u001b[0;34m)\u001b[0m\u001b[0;34m\u001b[0m\u001b[0;34m\u001b[0m\u001b[0m\n\u001b[0m\u001b[1;32m    219\u001b[0m         \u001b[0;32mexcept\u001b[0m \u001b[0mException\u001b[0m \u001b[0;32mas\u001b[0m \u001b[0merr\u001b[0m\u001b[0;34m:\u001b[0m\u001b[0;34m\u001b[0m\u001b[0;34m\u001b[0m\u001b[0m\n\u001b[1;32m    220\u001b[0m             \u001b[0;32mif\u001b[0m \u001b[0mself\u001b[0m\u001b[0;34m.\u001b[0m\u001b[0m_copy_log_on_error\u001b[0m\u001b[0;34m:\u001b[0m\u001b[0;34m\u001b[0m\u001b[0;34m\u001b[0m\u001b[0m\n",
            "\u001b[0;32m/usr/local/lib/python3.10/dist-packages/hail/backend/backend.py\u001b[0m in \u001b[0;36mexecute\u001b[0;34m(self, ir, timed)\u001b[0m\n\u001b[1;32m    176\u001b[0m         \u001b[0mpayload\u001b[0m \u001b[0;34m=\u001b[0m \u001b[0mExecutePayload\u001b[0m\u001b[0;34m(\u001b[0m\u001b[0mself\u001b[0m\u001b[0;34m.\u001b[0m\u001b[0m_render_ir\u001b[0m\u001b[0;34m(\u001b[0m\u001b[0mir\u001b[0m\u001b[0;34m)\u001b[0m\u001b[0;34m,\u001b[0m \u001b[0;34m'{\"name\":\"StreamBufferSpec\"}'\u001b[0m\u001b[0;34m,\u001b[0m \u001b[0mtimed\u001b[0m\u001b[0;34m)\u001b[0m\u001b[0;34m\u001b[0m\u001b[0;34m\u001b[0m\u001b[0m\n\u001b[1;32m    177\u001b[0m         \u001b[0;32mtry\u001b[0m\u001b[0;34m:\u001b[0m\u001b[0;34m\u001b[0m\u001b[0;34m\u001b[0m\u001b[0m\n\u001b[0;32m--> 178\u001b[0;31m             \u001b[0mresult\u001b[0m\u001b[0;34m,\u001b[0m \u001b[0mtimings\u001b[0m \u001b[0;34m=\u001b[0m \u001b[0mself\u001b[0m\u001b[0;34m.\u001b[0m\u001b[0m_rpc\u001b[0m\u001b[0;34m(\u001b[0m\u001b[0mActionTag\u001b[0m\u001b[0;34m.\u001b[0m\u001b[0mEXECUTE\u001b[0m\u001b[0;34m,\u001b[0m \u001b[0mpayload\u001b[0m\u001b[0;34m)\u001b[0m\u001b[0;34m\u001b[0m\u001b[0;34m\u001b[0m\u001b[0m\n\u001b[0m\u001b[1;32m    179\u001b[0m         \u001b[0;32mexcept\u001b[0m \u001b[0mFatalError\u001b[0m \u001b[0;32mas\u001b[0m \u001b[0me\u001b[0m\u001b[0;34m:\u001b[0m\u001b[0;34m\u001b[0m\u001b[0;34m\u001b[0m\u001b[0m\n\u001b[1;32m    180\u001b[0m             \u001b[0;32mraise\u001b[0m \u001b[0me\u001b[0m\u001b[0;34m.\u001b[0m\u001b[0mmaybe_user_error\u001b[0m\u001b[0;34m(\u001b[0m\u001b[0mir\u001b[0m\u001b[0;34m)\u001b[0m \u001b[0;32mfrom\u001b[0m \u001b[0;32mNone\u001b[0m\u001b[0;34m\u001b[0m\u001b[0;34m\u001b[0m\u001b[0m\n",
            "\u001b[0;32m/usr/local/lib/python3.10/dist-packages/hail/backend/py4j_backend.py\u001b[0m in \u001b[0;36m_rpc\u001b[0;34m(self, action, payload)\u001b[0m\n\u001b[1;32m    216\u001b[0m         \u001b[0mpath\u001b[0m \u001b[0;34m=\u001b[0m \u001b[0maction_routes\u001b[0m\u001b[0;34m[\u001b[0m\u001b[0maction\u001b[0m\u001b[0;34m]\u001b[0m\u001b[0;34m\u001b[0m\u001b[0;34m\u001b[0m\u001b[0m\n\u001b[1;32m    217\u001b[0m         \u001b[0mport\u001b[0m \u001b[0;34m=\u001b[0m \u001b[0mself\u001b[0m\u001b[0;34m.\u001b[0m\u001b[0m_backend_server_port\u001b[0m\u001b[0;34m\u001b[0m\u001b[0;34m\u001b[0m\u001b[0m\n\u001b[0;32m--> 218\u001b[0;31m         \u001b[0mresp\u001b[0m \u001b[0;34m=\u001b[0m \u001b[0mself\u001b[0m\u001b[0;34m.\u001b[0m\u001b[0m_requests_session\u001b[0m\u001b[0;34m.\u001b[0m\u001b[0mpost\u001b[0m\u001b[0;34m(\u001b[0m\u001b[0;34mf'http://localhost:{port}{path}'\u001b[0m\u001b[0;34m,\u001b[0m \u001b[0mdata\u001b[0m\u001b[0;34m=\u001b[0m\u001b[0mdata\u001b[0m\u001b[0;34m)\u001b[0m\u001b[0;34m\u001b[0m\u001b[0;34m\u001b[0m\u001b[0m\n\u001b[0m\u001b[1;32m    219\u001b[0m         \u001b[0;32mif\u001b[0m \u001b[0mresp\u001b[0m\u001b[0;34m.\u001b[0m\u001b[0mstatus_code\u001b[0m \u001b[0;34m>=\u001b[0m \u001b[0;36m400\u001b[0m\u001b[0;34m:\u001b[0m\u001b[0;34m\u001b[0m\u001b[0;34m\u001b[0m\u001b[0m\n\u001b[1;32m    220\u001b[0m             \u001b[0merror_json\u001b[0m \u001b[0;34m=\u001b[0m \u001b[0morjson\u001b[0m\u001b[0;34m.\u001b[0m\u001b[0mloads\u001b[0m\u001b[0;34m(\u001b[0m\u001b[0mresp\u001b[0m\u001b[0;34m.\u001b[0m\u001b[0mcontent\u001b[0m\u001b[0;34m)\u001b[0m\u001b[0;34m\u001b[0m\u001b[0;34m\u001b[0m\u001b[0m\n",
            "\u001b[0;32m/usr/local/lib/python3.10/dist-packages/requests/sessions.py\u001b[0m in \u001b[0;36mpost\u001b[0;34m(self, url, data, json, **kwargs)\u001b[0m\n\u001b[1;32m    635\u001b[0m         \"\"\"\n\u001b[1;32m    636\u001b[0m \u001b[0;34m\u001b[0m\u001b[0m\n\u001b[0;32m--> 637\u001b[0;31m         \u001b[0;32mreturn\u001b[0m \u001b[0mself\u001b[0m\u001b[0;34m.\u001b[0m\u001b[0mrequest\u001b[0m\u001b[0;34m(\u001b[0m\u001b[0;34m\"POST\"\u001b[0m\u001b[0;34m,\u001b[0m \u001b[0murl\u001b[0m\u001b[0;34m,\u001b[0m \u001b[0mdata\u001b[0m\u001b[0;34m=\u001b[0m\u001b[0mdata\u001b[0m\u001b[0;34m,\u001b[0m \u001b[0mjson\u001b[0m\u001b[0;34m=\u001b[0m\u001b[0mjson\u001b[0m\u001b[0;34m,\u001b[0m \u001b[0;34m**\u001b[0m\u001b[0mkwargs\u001b[0m\u001b[0;34m)\u001b[0m\u001b[0;34m\u001b[0m\u001b[0;34m\u001b[0m\u001b[0m\n\u001b[0m\u001b[1;32m    638\u001b[0m \u001b[0;34m\u001b[0m\u001b[0m\n\u001b[1;32m    639\u001b[0m     \u001b[0;32mdef\u001b[0m \u001b[0mput\u001b[0m\u001b[0;34m(\u001b[0m\u001b[0mself\u001b[0m\u001b[0;34m,\u001b[0m \u001b[0murl\u001b[0m\u001b[0;34m,\u001b[0m \u001b[0mdata\u001b[0m\u001b[0;34m=\u001b[0m\u001b[0;32mNone\u001b[0m\u001b[0;34m,\u001b[0m \u001b[0;34m**\u001b[0m\u001b[0mkwargs\u001b[0m\u001b[0;34m)\u001b[0m\u001b[0;34m:\u001b[0m\u001b[0;34m\u001b[0m\u001b[0;34m\u001b[0m\u001b[0m\n",
            "\u001b[0;32m/usr/local/lib/python3.10/dist-packages/requests/sessions.py\u001b[0m in \u001b[0;36mrequest\u001b[0;34m(self, method, url, params, data, headers, cookies, files, auth, timeout, allow_redirects, proxies, hooks, stream, verify, cert, json)\u001b[0m\n\u001b[1;32m    587\u001b[0m         }\n\u001b[1;32m    588\u001b[0m         \u001b[0msend_kwargs\u001b[0m\u001b[0;34m.\u001b[0m\u001b[0mupdate\u001b[0m\u001b[0;34m(\u001b[0m\u001b[0msettings\u001b[0m\u001b[0;34m)\u001b[0m\u001b[0;34m\u001b[0m\u001b[0;34m\u001b[0m\u001b[0m\n\u001b[0;32m--> 589\u001b[0;31m         \u001b[0mresp\u001b[0m \u001b[0;34m=\u001b[0m \u001b[0mself\u001b[0m\u001b[0;34m.\u001b[0m\u001b[0msend\u001b[0m\u001b[0;34m(\u001b[0m\u001b[0mprep\u001b[0m\u001b[0;34m,\u001b[0m \u001b[0;34m**\u001b[0m\u001b[0msend_kwargs\u001b[0m\u001b[0;34m)\u001b[0m\u001b[0;34m\u001b[0m\u001b[0;34m\u001b[0m\u001b[0m\n\u001b[0m\u001b[1;32m    590\u001b[0m \u001b[0;34m\u001b[0m\u001b[0m\n\u001b[1;32m    591\u001b[0m         \u001b[0;32mreturn\u001b[0m \u001b[0mresp\u001b[0m\u001b[0;34m\u001b[0m\u001b[0;34m\u001b[0m\u001b[0m\n",
            "\u001b[0;32m/usr/local/lib/python3.10/dist-packages/requests/sessions.py\u001b[0m in \u001b[0;36msend\u001b[0;34m(self, request, **kwargs)\u001b[0m\n\u001b[1;32m    701\u001b[0m \u001b[0;34m\u001b[0m\u001b[0m\n\u001b[1;32m    702\u001b[0m         \u001b[0;31m# Send the request\u001b[0m\u001b[0;34m\u001b[0m\u001b[0;34m\u001b[0m\u001b[0m\n\u001b[0;32m--> 703\u001b[0;31m         \u001b[0mr\u001b[0m \u001b[0;34m=\u001b[0m \u001b[0madapter\u001b[0m\u001b[0;34m.\u001b[0m\u001b[0msend\u001b[0m\u001b[0;34m(\u001b[0m\u001b[0mrequest\u001b[0m\u001b[0;34m,\u001b[0m \u001b[0;34m**\u001b[0m\u001b[0mkwargs\u001b[0m\u001b[0;34m)\u001b[0m\u001b[0;34m\u001b[0m\u001b[0;34m\u001b[0m\u001b[0m\n\u001b[0m\u001b[1;32m    704\u001b[0m \u001b[0;34m\u001b[0m\u001b[0m\n\u001b[1;32m    705\u001b[0m         \u001b[0;31m# Total elapsed time of the request (approximately)\u001b[0m\u001b[0;34m\u001b[0m\u001b[0;34m\u001b[0m\u001b[0m\n",
            "\u001b[0;32m/usr/local/lib/python3.10/dist-packages/requests/adapters.py\u001b[0m in \u001b[0;36msend\u001b[0;34m(self, request, stream, timeout, verify, cert, proxies)\u001b[0m\n\u001b[1;32m    484\u001b[0m \u001b[0;34m\u001b[0m\u001b[0m\n\u001b[1;32m    485\u001b[0m         \u001b[0;32mtry\u001b[0m\u001b[0;34m:\u001b[0m\u001b[0;34m\u001b[0m\u001b[0;34m\u001b[0m\u001b[0m\n\u001b[0;32m--> 486\u001b[0;31m             resp = conn.urlopen(\n\u001b[0m\u001b[1;32m    487\u001b[0m                 \u001b[0mmethod\u001b[0m\u001b[0;34m=\u001b[0m\u001b[0mrequest\u001b[0m\u001b[0;34m.\u001b[0m\u001b[0mmethod\u001b[0m\u001b[0;34m,\u001b[0m\u001b[0;34m\u001b[0m\u001b[0;34m\u001b[0m\u001b[0m\n\u001b[1;32m    488\u001b[0m                 \u001b[0murl\u001b[0m\u001b[0;34m=\u001b[0m\u001b[0murl\u001b[0m\u001b[0;34m,\u001b[0m\u001b[0;34m\u001b[0m\u001b[0;34m\u001b[0m\u001b[0m\n",
            "\u001b[0;32m/usr/local/lib/python3.10/dist-packages/urllib3/connectionpool.py\u001b[0m in \u001b[0;36murlopen\u001b[0;34m(self, method, url, body, headers, retries, redirect, assert_same_host, timeout, pool_timeout, release_conn, chunked, body_pos, preload_content, decode_content, **response_kw)\u001b[0m\n\u001b[1;32m    789\u001b[0m \u001b[0;34m\u001b[0m\u001b[0m\n\u001b[1;32m    790\u001b[0m             \u001b[0;31m# Make the request on the HTTPConnection object\u001b[0m\u001b[0;34m\u001b[0m\u001b[0;34m\u001b[0m\u001b[0m\n\u001b[0;32m--> 791\u001b[0;31m             response = self._make_request(\n\u001b[0m\u001b[1;32m    792\u001b[0m                 \u001b[0mconn\u001b[0m\u001b[0;34m,\u001b[0m\u001b[0;34m\u001b[0m\u001b[0;34m\u001b[0m\u001b[0m\n\u001b[1;32m    793\u001b[0m                 \u001b[0mmethod\u001b[0m\u001b[0;34m,\u001b[0m\u001b[0;34m\u001b[0m\u001b[0;34m\u001b[0m\u001b[0m\n",
            "\u001b[0;32m/usr/local/lib/python3.10/dist-packages/urllib3/connectionpool.py\u001b[0m in \u001b[0;36m_make_request\u001b[0;34m(self, conn, method, url, body, headers, retries, timeout, chunked, response_conn, preload_content, decode_content, enforce_content_length)\u001b[0m\n\u001b[1;32m    535\u001b[0m         \u001b[0;31m# Receive the response from the server\u001b[0m\u001b[0;34m\u001b[0m\u001b[0;34m\u001b[0m\u001b[0m\n\u001b[1;32m    536\u001b[0m         \u001b[0;32mtry\u001b[0m\u001b[0;34m:\u001b[0m\u001b[0;34m\u001b[0m\u001b[0;34m\u001b[0m\u001b[0m\n\u001b[0;32m--> 537\u001b[0;31m             \u001b[0mresponse\u001b[0m \u001b[0;34m=\u001b[0m \u001b[0mconn\u001b[0m\u001b[0;34m.\u001b[0m\u001b[0mgetresponse\u001b[0m\u001b[0;34m(\u001b[0m\u001b[0;34m)\u001b[0m\u001b[0;34m\u001b[0m\u001b[0;34m\u001b[0m\u001b[0m\n\u001b[0m\u001b[1;32m    538\u001b[0m         \u001b[0;32mexcept\u001b[0m \u001b[0;34m(\u001b[0m\u001b[0mBaseSSLError\u001b[0m\u001b[0;34m,\u001b[0m \u001b[0mOSError\u001b[0m\u001b[0;34m)\u001b[0m \u001b[0;32mas\u001b[0m \u001b[0me\u001b[0m\u001b[0;34m:\u001b[0m\u001b[0;34m\u001b[0m\u001b[0;34m\u001b[0m\u001b[0m\n\u001b[1;32m    539\u001b[0m             \u001b[0mself\u001b[0m\u001b[0;34m.\u001b[0m\u001b[0m_raise_timeout\u001b[0m\u001b[0;34m(\u001b[0m\u001b[0merr\u001b[0m\u001b[0;34m=\u001b[0m\u001b[0me\u001b[0m\u001b[0;34m,\u001b[0m \u001b[0murl\u001b[0m\u001b[0;34m=\u001b[0m\u001b[0murl\u001b[0m\u001b[0;34m,\u001b[0m \u001b[0mtimeout_value\u001b[0m\u001b[0;34m=\u001b[0m\u001b[0mread_timeout\u001b[0m\u001b[0;34m)\u001b[0m\u001b[0;34m\u001b[0m\u001b[0;34m\u001b[0m\u001b[0m\n",
            "\u001b[0;32m/usr/local/lib/python3.10/dist-packages/urllib3/connection.py\u001b[0m in \u001b[0;36mgetresponse\u001b[0;34m(self)\u001b[0m\n\u001b[1;32m    459\u001b[0m \u001b[0;34m\u001b[0m\u001b[0m\n\u001b[1;32m    460\u001b[0m         \u001b[0;31m# Get the response from http.client.HTTPConnection\u001b[0m\u001b[0;34m\u001b[0m\u001b[0;34m\u001b[0m\u001b[0m\n\u001b[0;32m--> 461\u001b[0;31m         \u001b[0mhttplib_response\u001b[0m \u001b[0;34m=\u001b[0m \u001b[0msuper\u001b[0m\u001b[0;34m(\u001b[0m\u001b[0;34m)\u001b[0m\u001b[0;34m.\u001b[0m\u001b[0mgetresponse\u001b[0m\u001b[0;34m(\u001b[0m\u001b[0;34m)\u001b[0m\u001b[0;34m\u001b[0m\u001b[0;34m\u001b[0m\u001b[0m\n\u001b[0m\u001b[1;32m    462\u001b[0m \u001b[0;34m\u001b[0m\u001b[0m\n\u001b[1;32m    463\u001b[0m         \u001b[0;32mtry\u001b[0m\u001b[0;34m:\u001b[0m\u001b[0;34m\u001b[0m\u001b[0;34m\u001b[0m\u001b[0m\n",
            "\u001b[0;32m/usr/lib/python3.10/http/client.py\u001b[0m in \u001b[0;36mgetresponse\u001b[0;34m(self)\u001b[0m\n\u001b[1;32m   1373\u001b[0m         \u001b[0;32mtry\u001b[0m\u001b[0;34m:\u001b[0m\u001b[0;34m\u001b[0m\u001b[0;34m\u001b[0m\u001b[0m\n\u001b[1;32m   1374\u001b[0m             \u001b[0;32mtry\u001b[0m\u001b[0;34m:\u001b[0m\u001b[0;34m\u001b[0m\u001b[0;34m\u001b[0m\u001b[0m\n\u001b[0;32m-> 1375\u001b[0;31m                 \u001b[0mresponse\u001b[0m\u001b[0;34m.\u001b[0m\u001b[0mbegin\u001b[0m\u001b[0;34m(\u001b[0m\u001b[0;34m)\u001b[0m\u001b[0;34m\u001b[0m\u001b[0;34m\u001b[0m\u001b[0m\n\u001b[0m\u001b[1;32m   1376\u001b[0m             \u001b[0;32mexcept\u001b[0m \u001b[0mConnectionError\u001b[0m\u001b[0;34m:\u001b[0m\u001b[0;34m\u001b[0m\u001b[0;34m\u001b[0m\u001b[0m\n\u001b[1;32m   1377\u001b[0m                 \u001b[0mself\u001b[0m\u001b[0;34m.\u001b[0m\u001b[0mclose\u001b[0m\u001b[0;34m(\u001b[0m\u001b[0;34m)\u001b[0m\u001b[0;34m\u001b[0m\u001b[0;34m\u001b[0m\u001b[0m\n",
            "\u001b[0;32m/usr/lib/python3.10/http/client.py\u001b[0m in \u001b[0;36mbegin\u001b[0;34m(self)\u001b[0m\n\u001b[1;32m    316\u001b[0m         \u001b[0;31m# read until we get a non-100 response\u001b[0m\u001b[0;34m\u001b[0m\u001b[0;34m\u001b[0m\u001b[0m\n\u001b[1;32m    317\u001b[0m         \u001b[0;32mwhile\u001b[0m \u001b[0;32mTrue\u001b[0m\u001b[0;34m:\u001b[0m\u001b[0;34m\u001b[0m\u001b[0;34m\u001b[0m\u001b[0m\n\u001b[0;32m--> 318\u001b[0;31m             \u001b[0mversion\u001b[0m\u001b[0;34m,\u001b[0m \u001b[0mstatus\u001b[0m\u001b[0;34m,\u001b[0m \u001b[0mreason\u001b[0m \u001b[0;34m=\u001b[0m \u001b[0mself\u001b[0m\u001b[0;34m.\u001b[0m\u001b[0m_read_status\u001b[0m\u001b[0;34m(\u001b[0m\u001b[0;34m)\u001b[0m\u001b[0;34m\u001b[0m\u001b[0;34m\u001b[0m\u001b[0m\n\u001b[0m\u001b[1;32m    319\u001b[0m             \u001b[0;32mif\u001b[0m \u001b[0mstatus\u001b[0m \u001b[0;34m!=\u001b[0m \u001b[0mCONTINUE\u001b[0m\u001b[0;34m:\u001b[0m\u001b[0;34m\u001b[0m\u001b[0;34m\u001b[0m\u001b[0m\n\u001b[1;32m    320\u001b[0m                 \u001b[0;32mbreak\u001b[0m\u001b[0;34m\u001b[0m\u001b[0;34m\u001b[0m\u001b[0m\n",
            "\u001b[0;32m/usr/lib/python3.10/http/client.py\u001b[0m in \u001b[0;36m_read_status\u001b[0;34m(self)\u001b[0m\n\u001b[1;32m    277\u001b[0m \u001b[0;34m\u001b[0m\u001b[0m\n\u001b[1;32m    278\u001b[0m     \u001b[0;32mdef\u001b[0m \u001b[0m_read_status\u001b[0m\u001b[0;34m(\u001b[0m\u001b[0mself\u001b[0m\u001b[0;34m)\u001b[0m\u001b[0;34m:\u001b[0m\u001b[0;34m\u001b[0m\u001b[0;34m\u001b[0m\u001b[0m\n\u001b[0;32m--> 279\u001b[0;31m         \u001b[0mline\u001b[0m \u001b[0;34m=\u001b[0m \u001b[0mstr\u001b[0m\u001b[0;34m(\u001b[0m\u001b[0mself\u001b[0m\u001b[0;34m.\u001b[0m\u001b[0mfp\u001b[0m\u001b[0;34m.\u001b[0m\u001b[0mreadline\u001b[0m\u001b[0;34m(\u001b[0m\u001b[0m_MAXLINE\u001b[0m \u001b[0;34m+\u001b[0m \u001b[0;36m1\u001b[0m\u001b[0;34m)\u001b[0m\u001b[0;34m,\u001b[0m \u001b[0;34m\"iso-8859-1\"\u001b[0m\u001b[0;34m)\u001b[0m\u001b[0;34m\u001b[0m\u001b[0;34m\u001b[0m\u001b[0m\n\u001b[0m\u001b[1;32m    280\u001b[0m         \u001b[0;32mif\u001b[0m \u001b[0mlen\u001b[0m\u001b[0;34m(\u001b[0m\u001b[0mline\u001b[0m\u001b[0;34m)\u001b[0m \u001b[0;34m>\u001b[0m \u001b[0m_MAXLINE\u001b[0m\u001b[0;34m:\u001b[0m\u001b[0;34m\u001b[0m\u001b[0;34m\u001b[0m\u001b[0m\n\u001b[1;32m    281\u001b[0m             \u001b[0;32mraise\u001b[0m \u001b[0mLineTooLong\u001b[0m\u001b[0;34m(\u001b[0m\u001b[0;34m\"status line\"\u001b[0m\u001b[0;34m)\u001b[0m\u001b[0;34m\u001b[0m\u001b[0;34m\u001b[0m\u001b[0m\n",
            "\u001b[0;32m/usr/lib/python3.10/socket.py\u001b[0m in \u001b[0;36mreadinto\u001b[0;34m(self, b)\u001b[0m\n\u001b[1;32m    703\u001b[0m         \u001b[0;32mwhile\u001b[0m \u001b[0;32mTrue\u001b[0m\u001b[0;34m:\u001b[0m\u001b[0;34m\u001b[0m\u001b[0;34m\u001b[0m\u001b[0m\n\u001b[1;32m    704\u001b[0m             \u001b[0;32mtry\u001b[0m\u001b[0;34m:\u001b[0m\u001b[0;34m\u001b[0m\u001b[0;34m\u001b[0m\u001b[0m\n\u001b[0;32m--> 705\u001b[0;31m                 \u001b[0;32mreturn\u001b[0m \u001b[0mself\u001b[0m\u001b[0;34m.\u001b[0m\u001b[0m_sock\u001b[0m\u001b[0;34m.\u001b[0m\u001b[0mrecv_into\u001b[0m\u001b[0;34m(\u001b[0m\u001b[0mb\u001b[0m\u001b[0;34m)\u001b[0m\u001b[0;34m\u001b[0m\u001b[0;34m\u001b[0m\u001b[0m\n\u001b[0m\u001b[1;32m    706\u001b[0m             \u001b[0;32mexcept\u001b[0m \u001b[0mtimeout\u001b[0m\u001b[0;34m:\u001b[0m\u001b[0;34m\u001b[0m\u001b[0;34m\u001b[0m\u001b[0m\n\u001b[1;32m    707\u001b[0m                 \u001b[0mself\u001b[0m\u001b[0;34m.\u001b[0m\u001b[0m_timeout_occurred\u001b[0m \u001b[0;34m=\u001b[0m \u001b[0;32mTrue\u001b[0m\u001b[0;34m\u001b[0m\u001b[0;34m\u001b[0m\u001b[0m\n",
            "\u001b[0;31mKeyboardInterrupt\u001b[0m: "
          ]
        }
      ]
    },
    {
      "cell_type": "code",
      "source": [
        "#нормальный log.prediction naive bayes\n",
        "t = hl.import_table(\"annotationTraining.txt\")\n",
        "sample_test = hl.read_matrix_table('chr.mt')\n",
        "table_with_freq = table.key_by()\n",
        "sample_names = [(re.search(r\"Struct\\(sample='(.*?)'\\)\", str(i)).group(1)) for i in t.select(\"sample\").collect()]\n",
        "res = np.zeros((len(sample_names), demes))\n",
        "#Отдельно вводим число, до этой функции\n",
        "number_of_snp = 3\n",
        "for j in range(len(sample_names)):\n",
        "  selected_mt = sample_test.filter_cols(sample_test.s == f'{sample_names[j]}').GT.collect()[number_of_snp]\n",
        "  for k in range(5):\n",
        "    counts = [int(re.search(r'\\d+(\\.\\d+)?', str(i)).group(0)) for i in table_with_freq.select(f\"{pops[k]}\").collect()][number_of_snp]\n",
        "    res[j, :][k] += np.log(1 + counts) * selected_mt + np.log((1 + diploid) * samples_in_deme[pops[k]] - counts + 1) * (1 + diploid - selected_mt)"
      ],
      "metadata": {
        "colab": {
          "base_uri": "https://localhost:8080/",
          "height": 1000
        },
        "id": "cGL33wkHjsrC",
        "outputId": "ffb59a11-c656-4c72-a5d4-1b1a6938ded6"
      },
      "execution_count": null,
      "outputs": [
        {
          "output_type": "stream",
          "name": "stderr",
          "text": [
            "2024-06-25 13:26:36.059 Hail: INFO: Reading table without type imputation\n",
            "  Loading field 'sample' as type str (not specified)\n",
            "  Loading field 'pop' as type str (not specified)\n",
            "  Loading field 'super_pop' as type str (not specified)\n",
            "  Loading field 'gender' as type str (not specified)\n",
            "2024-06-25 13:26:38.358 Hail: INFO: Coerced sorted dataset\n",
            "2024-06-25 13:26:38.916 Hail: INFO: Coerced sorted dataset\n",
            "2024-06-25 13:26:39.391 Hail: INFO: Coerced sorted dataset\n",
            "2024-06-25 13:26:39.726 Hail: INFO: Coerced sorted dataset\n",
            "2024-06-25 13:26:40.026 Hail: INFO: Coerced sorted dataset\n",
            "2024-06-25 13:26:41.180 Hail: INFO: Coerced sorted dataset\n",
            "2024-06-25 13:26:41.880 Hail: INFO: Coerced sorted dataset\n",
            "2024-06-25 13:26:42.542 Hail: INFO: Coerced sorted dataset\n",
            "2024-06-25 13:26:43.208 Hail: INFO: Coerced sorted dataset\n",
            "2024-06-25 13:26:43.974 Hail: INFO: Coerced sorted dataset\n",
            "2024-06-25 13:26:46.601 Hail: INFO: Coerced sorted dataset\n",
            "2024-06-25 13:26:47.051 Hail: INFO: Coerced sorted dataset\n",
            "2024-06-25 13:26:47.592 Hail: INFO: Coerced sorted dataset\n",
            "2024-06-25 13:26:48.028 Hail: INFO: Coerced sorted dataset\n",
            "2024-06-25 13:26:48.346 Hail: INFO: Coerced sorted dataset\n",
            "2024-06-25 13:26:49.548 Hail: INFO: Coerced sorted dataset\n",
            "2024-06-25 13:26:50.024 Hail: INFO: Coerced sorted dataset\n",
            "2024-06-25 13:26:50.476 Hail: INFO: Coerced sorted dataset\n",
            "2024-06-25 13:26:50.728 Hail: INFO: Coerced sorted dataset\n",
            "2024-06-25 13:26:50.987 Hail: INFO: Coerced sorted dataset\n",
            "2024-06-25 13:26:51.598 Hail: INFO: Coerced sorted dataset\n",
            "2024-06-25 13:26:51.863 Hail: INFO: Coerced sorted dataset\n",
            "2024-06-25 13:26:52.124 Hail: INFO: Coerced sorted dataset\n",
            "2024-06-25 13:26:52.383 Hail: INFO: Coerced sorted dataset\n",
            "2024-06-25 13:26:52.648 Hail: INFO: Coerced sorted dataset\n",
            "2024-06-25 13:26:54.534 Hail: INFO: Coerced sorted dataset\n",
            "2024-06-25 13:26:54.706 Hail: INFO: Coerced sorted dataset\n",
            "2024-06-25 13:26:54.855 Hail: INFO: Coerced sorted dataset\n",
            "2024-06-25 13:26:55.004 Hail: INFO: Coerced sorted dataset\n",
            "2024-06-25 13:26:55.165 Hail: INFO: Coerced sorted dataset\n",
            "2024-06-25 13:26:55.826 Hail: INFO: Coerced sorted dataset\n",
            "2024-06-25 13:26:56.068 Hail: INFO: Coerced sorted dataset\n",
            "2024-06-25 13:26:56.344 Hail: INFO: Coerced sorted dataset\n",
            "2024-06-25 13:26:56.591 Hail: INFO: Coerced sorted dataset\n",
            "2024-06-25 13:26:56.834 Hail: INFO: Coerced sorted dataset\n",
            "2024-06-25 13:26:58.128 Hail: INFO: Coerced sorted dataset\n",
            "2024-06-25 13:26:58.428 Hail: INFO: Coerced sorted dataset\n",
            "2024-06-25 13:26:58.616 Hail: INFO: Coerced sorted dataset\n",
            "2024-06-25 13:26:58.858 Hail: INFO: Coerced sorted dataset\n",
            "2024-06-25 13:26:59.101 Hail: INFO: Coerced sorted dataset\n",
            "2024-06-25 13:27:00.019 Hail: INFO: Coerced sorted dataset\n",
            "2024-06-25 13:27:00.657 Hail: INFO: Coerced sorted dataset\n",
            "2024-06-25 13:27:00.882 Hail: INFO: Coerced sorted dataset\n",
            "2024-06-25 13:27:01.151 Hail: INFO: Coerced sorted dataset\n",
            "2024-06-25 13:27:01.485 Hail: INFO: Coerced sorted dataset\n",
            "2024-06-25 13:27:02.918 Hail: INFO: Coerced sorted dataset\n",
            "2024-06-25 13:27:03.290 Hail: INFO: Coerced sorted dataset\n",
            "2024-06-25 13:27:03.653 Hail: INFO: Coerced sorted dataset\n",
            "2024-06-25 13:27:04.122 Hail: INFO: Coerced sorted dataset\n",
            "2024-06-25 13:27:05.244 Hail: INFO: Coerced sorted dataset\n",
            "2024-06-25 13:27:08.229 Hail: INFO: Coerced sorted dataset\n",
            "2024-06-25 13:27:08.695 Hail: INFO: Coerced sorted dataset\n",
            "2024-06-25 13:27:09.169 Hail: INFO: Coerced sorted dataset\n",
            "2024-06-25 13:27:09.656 Hail: INFO: Coerced sorted dataset\n",
            "2024-06-25 13:27:10.858 Hail: INFO: Coerced sorted dataset\n",
            "2024-06-25 13:27:12.687 Hail: INFO: Coerced sorted dataset\n",
            "2024-06-25 13:27:13.245 Hail: INFO: Coerced sorted dataset\n",
            "2024-06-25 13:27:14.241 Hail: INFO: Coerced sorted dataset\n",
            "2024-06-25 13:27:14.908 Hail: INFO: Coerced sorted dataset\n",
            "2024-06-25 13:27:15.260 Hail: INFO: Coerced sorted dataset\n"
          ]
        },
        {
          "output_type": "error",
          "ename": "KeyboardInterrupt",
          "evalue": "",
          "traceback": [
            "\u001b[0;31m---------------------------------------------------------------------------\u001b[0m",
            "\u001b[0;31mKeyboardInterrupt\u001b[0m                         Traceback (most recent call last)",
            "\u001b[0;32m<ipython-input-130-32639618f29a>\u001b[0m in \u001b[0;36m<cell line: 9>\u001b[0;34m()\u001b[0m\n\u001b[1;32m     10\u001b[0m   \u001b[0mselected_mt\u001b[0m \u001b[0;34m=\u001b[0m \u001b[0msample_test\u001b[0m\u001b[0;34m.\u001b[0m\u001b[0mfilter_cols\u001b[0m\u001b[0;34m(\u001b[0m\u001b[0msample_test\u001b[0m\u001b[0;34m.\u001b[0m\u001b[0ms\u001b[0m \u001b[0;34m==\u001b[0m \u001b[0;34mf'{sample_names[j]}'\u001b[0m\u001b[0;34m)\u001b[0m\u001b[0;34m.\u001b[0m\u001b[0mGT\u001b[0m\u001b[0;34m.\u001b[0m\u001b[0mcollect\u001b[0m\u001b[0;34m(\u001b[0m\u001b[0;34m)\u001b[0m\u001b[0;34m[\u001b[0m\u001b[0mnumber_of_snp\u001b[0m\u001b[0;34m]\u001b[0m\u001b[0;34m\u001b[0m\u001b[0;34m\u001b[0m\u001b[0m\n\u001b[1;32m     11\u001b[0m   \u001b[0;32mfor\u001b[0m \u001b[0mk\u001b[0m \u001b[0;32min\u001b[0m \u001b[0mrange\u001b[0m\u001b[0;34m(\u001b[0m\u001b[0;36m5\u001b[0m\u001b[0;34m)\u001b[0m\u001b[0;34m:\u001b[0m\u001b[0;34m\u001b[0m\u001b[0;34m\u001b[0m\u001b[0m\n\u001b[0;32m---> 12\u001b[0;31m     \u001b[0mcounts\u001b[0m \u001b[0;34m=\u001b[0m \u001b[0;34m[\u001b[0m\u001b[0mint\u001b[0m\u001b[0;34m(\u001b[0m\u001b[0mre\u001b[0m\u001b[0;34m.\u001b[0m\u001b[0msearch\u001b[0m\u001b[0;34m(\u001b[0m\u001b[0;34mr'\\d+(\\.\\d+)?'\u001b[0m\u001b[0;34m,\u001b[0m \u001b[0mstr\u001b[0m\u001b[0;34m(\u001b[0m\u001b[0mi\u001b[0m\u001b[0;34m)\u001b[0m\u001b[0;34m)\u001b[0m\u001b[0;34m.\u001b[0m\u001b[0mgroup\u001b[0m\u001b[0;34m(\u001b[0m\u001b[0;36m0\u001b[0m\u001b[0;34m)\u001b[0m\u001b[0;34m)\u001b[0m \u001b[0;32mfor\u001b[0m \u001b[0mi\u001b[0m \u001b[0;32min\u001b[0m \u001b[0mtable_with_freq\u001b[0m\u001b[0;34m.\u001b[0m\u001b[0mselect\u001b[0m\u001b[0;34m(\u001b[0m\u001b[0;34mf\"{pops[k]}\"\u001b[0m\u001b[0;34m)\u001b[0m\u001b[0;34m.\u001b[0m\u001b[0mcollect\u001b[0m\u001b[0;34m(\u001b[0m\u001b[0;34m)\u001b[0m\u001b[0;34m]\u001b[0m\u001b[0;34m[\u001b[0m\u001b[0mnumber_of_snp\u001b[0m\u001b[0;34m]\u001b[0m\u001b[0;34m\u001b[0m\u001b[0;34m\u001b[0m\u001b[0m\n\u001b[0m\u001b[1;32m     13\u001b[0m     \u001b[0mres\u001b[0m\u001b[0;34m[\u001b[0m\u001b[0mj\u001b[0m\u001b[0;34m,\u001b[0m \u001b[0;34m:\u001b[0m\u001b[0;34m]\u001b[0m\u001b[0;34m[\u001b[0m\u001b[0mk\u001b[0m\u001b[0;34m]\u001b[0m \u001b[0;34m+=\u001b[0m \u001b[0mnp\u001b[0m\u001b[0;34m.\u001b[0m\u001b[0mlog\u001b[0m\u001b[0;34m(\u001b[0m\u001b[0;36m1\u001b[0m \u001b[0;34m+\u001b[0m \u001b[0mcounts\u001b[0m\u001b[0;34m)\u001b[0m \u001b[0;34m*\u001b[0m \u001b[0mselected_mt\u001b[0m \u001b[0;34m+\u001b[0m \u001b[0mnp\u001b[0m\u001b[0;34m.\u001b[0m\u001b[0mlog\u001b[0m\u001b[0;34m(\u001b[0m\u001b[0;34m(\u001b[0m\u001b[0;36m1\u001b[0m \u001b[0;34m+\u001b[0m \u001b[0mdiploid\u001b[0m\u001b[0;34m)\u001b[0m \u001b[0;34m*\u001b[0m \u001b[0msamples_in_deme\u001b[0m\u001b[0;34m[\u001b[0m\u001b[0mpops\u001b[0m\u001b[0;34m[\u001b[0m\u001b[0mk\u001b[0m\u001b[0;34m]\u001b[0m\u001b[0;34m]\u001b[0m \u001b[0;34m-\u001b[0m \u001b[0mcounts\u001b[0m \u001b[0;34m+\u001b[0m \u001b[0;36m1\u001b[0m\u001b[0;34m)\u001b[0m \u001b[0;34m*\u001b[0m \u001b[0;34m(\u001b[0m\u001b[0;36m1\u001b[0m \u001b[0;34m+\u001b[0m \u001b[0mdiploid\u001b[0m \u001b[0;34m-\u001b[0m \u001b[0mselected_mt\u001b[0m\u001b[0;34m)\u001b[0m\u001b[0;34m\u001b[0m\u001b[0;34m\u001b[0m\u001b[0m\n",
            "\u001b[0;32m<decorator-gen-1343>\u001b[0m in \u001b[0;36mcollect\u001b[0;34m(self, _localize, _timed)\u001b[0m\n",
            "\u001b[0;32m/usr/local/lib/python3.10/dist-packages/hail/typecheck/check.py\u001b[0m in \u001b[0;36mwrapper\u001b[0;34m(__original_func, *args, **kwargs)\u001b[0m\n\u001b[1;32m    583\u001b[0m     \u001b[0;32mdef\u001b[0m \u001b[0mwrapper\u001b[0m\u001b[0;34m(\u001b[0m\u001b[0m__original_func\u001b[0m\u001b[0;34m:\u001b[0m \u001b[0mCallable\u001b[0m\u001b[0;34m[\u001b[0m\u001b[0;34m...\u001b[0m\u001b[0;34m,\u001b[0m \u001b[0mT\u001b[0m\u001b[0;34m]\u001b[0m\u001b[0;34m,\u001b[0m \u001b[0;34m*\u001b[0m\u001b[0margs\u001b[0m\u001b[0;34m,\u001b[0m \u001b[0;34m**\u001b[0m\u001b[0mkwargs\u001b[0m\u001b[0;34m)\u001b[0m \u001b[0;34m->\u001b[0m \u001b[0mT\u001b[0m\u001b[0;34m:\u001b[0m\u001b[0;34m\u001b[0m\u001b[0;34m\u001b[0m\u001b[0m\n\u001b[1;32m    584\u001b[0m         \u001b[0margs_\u001b[0m\u001b[0;34m,\u001b[0m \u001b[0mkwargs_\u001b[0m \u001b[0;34m=\u001b[0m \u001b[0mcheck_all\u001b[0m\u001b[0;34m(\u001b[0m\u001b[0m__original_func\u001b[0m\u001b[0;34m,\u001b[0m \u001b[0margs\u001b[0m\u001b[0;34m,\u001b[0m \u001b[0mkwargs\u001b[0m\u001b[0;34m,\u001b[0m \u001b[0mcheckers\u001b[0m\u001b[0;34m,\u001b[0m \u001b[0mis_method\u001b[0m\u001b[0;34m=\u001b[0m\u001b[0mis_method\u001b[0m\u001b[0;34m)\u001b[0m\u001b[0;34m\u001b[0m\u001b[0;34m\u001b[0m\u001b[0m\n\u001b[0;32m--> 585\u001b[0;31m         \u001b[0;32mreturn\u001b[0m \u001b[0m__original_func\u001b[0m\u001b[0;34m(\u001b[0m\u001b[0;34m*\u001b[0m\u001b[0margs_\u001b[0m\u001b[0;34m,\u001b[0m \u001b[0;34m**\u001b[0m\u001b[0mkwargs_\u001b[0m\u001b[0;34m)\u001b[0m\u001b[0;34m\u001b[0m\u001b[0;34m\u001b[0m\u001b[0m\n\u001b[0m\u001b[1;32m    586\u001b[0m \u001b[0;34m\u001b[0m\u001b[0m\n\u001b[1;32m    587\u001b[0m     \u001b[0;32mreturn\u001b[0m \u001b[0mwrapper\u001b[0m\u001b[0;34m\u001b[0m\u001b[0;34m\u001b[0m\u001b[0m\n",
            "\u001b[0;32m/usr/local/lib/python3.10/dist-packages/hail/table.py\u001b[0m in \u001b[0;36mcollect\u001b[0;34m(self, _localize, _timed)\u001b[0m\n\u001b[1;32m   2815\u001b[0m         \u001b[0me\u001b[0m \u001b[0;34m=\u001b[0m \u001b[0mconstruct_expr\u001b[0m\u001b[0;34m(\u001b[0m\u001b[0mrows_ir\u001b[0m\u001b[0;34m,\u001b[0m \u001b[0mhl\u001b[0m\u001b[0;34m.\u001b[0m\u001b[0mtarray\u001b[0m\u001b[0;34m(\u001b[0m\u001b[0mt\u001b[0m\u001b[0;34m.\u001b[0m\u001b[0mrow\u001b[0m\u001b[0;34m.\u001b[0m\u001b[0mdtype\u001b[0m\u001b[0;34m)\u001b[0m\u001b[0;34m)\u001b[0m\u001b[0;34m\u001b[0m\u001b[0;34m\u001b[0m\u001b[0m\n\u001b[1;32m   2816\u001b[0m         \u001b[0;32mif\u001b[0m \u001b[0m_localize\u001b[0m\u001b[0;34m:\u001b[0m\u001b[0;34m\u001b[0m\u001b[0;34m\u001b[0m\u001b[0m\n\u001b[0;32m-> 2817\u001b[0;31m             \u001b[0;32mreturn\u001b[0m \u001b[0mEnv\u001b[0m\u001b[0;34m.\u001b[0m\u001b[0mbackend\u001b[0m\u001b[0;34m(\u001b[0m\u001b[0;34m)\u001b[0m\u001b[0;34m.\u001b[0m\u001b[0mexecute\u001b[0m\u001b[0;34m(\u001b[0m\u001b[0me\u001b[0m\u001b[0;34m.\u001b[0m\u001b[0m_ir\u001b[0m\u001b[0;34m,\u001b[0m \u001b[0mtimed\u001b[0m\u001b[0;34m=\u001b[0m\u001b[0m_timed\u001b[0m\u001b[0;34m)\u001b[0m\u001b[0;34m\u001b[0m\u001b[0;34m\u001b[0m\u001b[0m\n\u001b[0m\u001b[1;32m   2818\u001b[0m         \u001b[0;32melse\u001b[0m\u001b[0;34m:\u001b[0m\u001b[0;34m\u001b[0m\u001b[0;34m\u001b[0m\u001b[0m\n\u001b[1;32m   2819\u001b[0m             \u001b[0;32mreturn\u001b[0m \u001b[0me\u001b[0m\u001b[0;34m\u001b[0m\u001b[0;34m\u001b[0m\u001b[0m\n",
            "\u001b[0;32m/usr/local/lib/python3.10/dist-packages/hail/backend/spark_backend.py\u001b[0m in \u001b[0;36mexecute\u001b[0;34m(self, ir, timed)\u001b[0m\n\u001b[1;32m    216\u001b[0m     \u001b[0;32mdef\u001b[0m \u001b[0mexecute\u001b[0m\u001b[0;34m(\u001b[0m\u001b[0mself\u001b[0m\u001b[0;34m,\u001b[0m \u001b[0mir\u001b[0m\u001b[0;34m:\u001b[0m \u001b[0mBaseIR\u001b[0m\u001b[0;34m,\u001b[0m \u001b[0mtimed\u001b[0m\u001b[0;34m:\u001b[0m \u001b[0mbool\u001b[0m \u001b[0;34m=\u001b[0m \u001b[0;32mFalse\u001b[0m\u001b[0;34m)\u001b[0m \u001b[0;34m->\u001b[0m \u001b[0mAny\u001b[0m\u001b[0;34m:\u001b[0m\u001b[0;34m\u001b[0m\u001b[0;34m\u001b[0m\u001b[0m\n\u001b[1;32m    217\u001b[0m         \u001b[0;32mtry\u001b[0m\u001b[0;34m:\u001b[0m\u001b[0;34m\u001b[0m\u001b[0;34m\u001b[0m\u001b[0m\n\u001b[0;32m--> 218\u001b[0;31m             \u001b[0;32mreturn\u001b[0m \u001b[0msuper\u001b[0m\u001b[0;34m(\u001b[0m\u001b[0;34m)\u001b[0m\u001b[0;34m.\u001b[0m\u001b[0mexecute\u001b[0m\u001b[0;34m(\u001b[0m\u001b[0mir\u001b[0m\u001b[0;34m,\u001b[0m \u001b[0mtimed\u001b[0m\u001b[0;34m)\u001b[0m\u001b[0;34m\u001b[0m\u001b[0;34m\u001b[0m\u001b[0m\n\u001b[0m\u001b[1;32m    219\u001b[0m         \u001b[0;32mexcept\u001b[0m \u001b[0mException\u001b[0m \u001b[0;32mas\u001b[0m \u001b[0merr\u001b[0m\u001b[0;34m:\u001b[0m\u001b[0;34m\u001b[0m\u001b[0;34m\u001b[0m\u001b[0m\n\u001b[1;32m    220\u001b[0m             \u001b[0;32mif\u001b[0m \u001b[0mself\u001b[0m\u001b[0;34m.\u001b[0m\u001b[0m_copy_log_on_error\u001b[0m\u001b[0;34m:\u001b[0m\u001b[0;34m\u001b[0m\u001b[0;34m\u001b[0m\u001b[0m\n",
            "\u001b[0;32m/usr/local/lib/python3.10/dist-packages/hail/backend/backend.py\u001b[0m in \u001b[0;36mexecute\u001b[0;34m(self, ir, timed)\u001b[0m\n\u001b[1;32m    176\u001b[0m         \u001b[0mpayload\u001b[0m \u001b[0;34m=\u001b[0m \u001b[0mExecutePayload\u001b[0m\u001b[0;34m(\u001b[0m\u001b[0mself\u001b[0m\u001b[0;34m.\u001b[0m\u001b[0m_render_ir\u001b[0m\u001b[0;34m(\u001b[0m\u001b[0mir\u001b[0m\u001b[0;34m)\u001b[0m\u001b[0;34m,\u001b[0m \u001b[0;34m'{\"name\":\"StreamBufferSpec\"}'\u001b[0m\u001b[0;34m,\u001b[0m \u001b[0mtimed\u001b[0m\u001b[0;34m)\u001b[0m\u001b[0;34m\u001b[0m\u001b[0;34m\u001b[0m\u001b[0m\n\u001b[1;32m    177\u001b[0m         \u001b[0;32mtry\u001b[0m\u001b[0;34m:\u001b[0m\u001b[0;34m\u001b[0m\u001b[0;34m\u001b[0m\u001b[0m\n\u001b[0;32m--> 178\u001b[0;31m             \u001b[0mresult\u001b[0m\u001b[0;34m,\u001b[0m \u001b[0mtimings\u001b[0m \u001b[0;34m=\u001b[0m \u001b[0mself\u001b[0m\u001b[0;34m.\u001b[0m\u001b[0m_rpc\u001b[0m\u001b[0;34m(\u001b[0m\u001b[0mActionTag\u001b[0m\u001b[0;34m.\u001b[0m\u001b[0mEXECUTE\u001b[0m\u001b[0;34m,\u001b[0m \u001b[0mpayload\u001b[0m\u001b[0;34m)\u001b[0m\u001b[0;34m\u001b[0m\u001b[0;34m\u001b[0m\u001b[0m\n\u001b[0m\u001b[1;32m    179\u001b[0m         \u001b[0;32mexcept\u001b[0m \u001b[0mFatalError\u001b[0m \u001b[0;32mas\u001b[0m \u001b[0me\u001b[0m\u001b[0;34m:\u001b[0m\u001b[0;34m\u001b[0m\u001b[0;34m\u001b[0m\u001b[0m\n\u001b[1;32m    180\u001b[0m             \u001b[0;32mraise\u001b[0m \u001b[0me\u001b[0m\u001b[0;34m.\u001b[0m\u001b[0mmaybe_user_error\u001b[0m\u001b[0;34m(\u001b[0m\u001b[0mir\u001b[0m\u001b[0;34m)\u001b[0m \u001b[0;32mfrom\u001b[0m \u001b[0;32mNone\u001b[0m\u001b[0;34m\u001b[0m\u001b[0;34m\u001b[0m\u001b[0m\n",
            "\u001b[0;32m/usr/local/lib/python3.10/dist-packages/hail/backend/py4j_backend.py\u001b[0m in \u001b[0;36m_rpc\u001b[0;34m(self, action, payload)\u001b[0m\n\u001b[1;32m    216\u001b[0m         \u001b[0mpath\u001b[0m \u001b[0;34m=\u001b[0m \u001b[0maction_routes\u001b[0m\u001b[0;34m[\u001b[0m\u001b[0maction\u001b[0m\u001b[0;34m]\u001b[0m\u001b[0;34m\u001b[0m\u001b[0;34m\u001b[0m\u001b[0m\n\u001b[1;32m    217\u001b[0m         \u001b[0mport\u001b[0m \u001b[0;34m=\u001b[0m \u001b[0mself\u001b[0m\u001b[0;34m.\u001b[0m\u001b[0m_backend_server_port\u001b[0m\u001b[0;34m\u001b[0m\u001b[0;34m\u001b[0m\u001b[0m\n\u001b[0;32m--> 218\u001b[0;31m         \u001b[0mresp\u001b[0m \u001b[0;34m=\u001b[0m \u001b[0mself\u001b[0m\u001b[0;34m.\u001b[0m\u001b[0m_requests_session\u001b[0m\u001b[0;34m.\u001b[0m\u001b[0mpost\u001b[0m\u001b[0;34m(\u001b[0m\u001b[0;34mf'http://localhost:{port}{path}'\u001b[0m\u001b[0;34m,\u001b[0m \u001b[0mdata\u001b[0m\u001b[0;34m=\u001b[0m\u001b[0mdata\u001b[0m\u001b[0;34m)\u001b[0m\u001b[0;34m\u001b[0m\u001b[0;34m\u001b[0m\u001b[0m\n\u001b[0m\u001b[1;32m    219\u001b[0m         \u001b[0;32mif\u001b[0m \u001b[0mresp\u001b[0m\u001b[0;34m.\u001b[0m\u001b[0mstatus_code\u001b[0m \u001b[0;34m>=\u001b[0m \u001b[0;36m400\u001b[0m\u001b[0;34m:\u001b[0m\u001b[0;34m\u001b[0m\u001b[0;34m\u001b[0m\u001b[0m\n\u001b[1;32m    220\u001b[0m             \u001b[0merror_json\u001b[0m \u001b[0;34m=\u001b[0m \u001b[0morjson\u001b[0m\u001b[0;34m.\u001b[0m\u001b[0mloads\u001b[0m\u001b[0;34m(\u001b[0m\u001b[0mresp\u001b[0m\u001b[0;34m.\u001b[0m\u001b[0mcontent\u001b[0m\u001b[0;34m)\u001b[0m\u001b[0;34m\u001b[0m\u001b[0;34m\u001b[0m\u001b[0m\n",
            "\u001b[0;32m/usr/local/lib/python3.10/dist-packages/requests/sessions.py\u001b[0m in \u001b[0;36mpost\u001b[0;34m(self, url, data, json, **kwargs)\u001b[0m\n\u001b[1;32m    635\u001b[0m         \"\"\"\n\u001b[1;32m    636\u001b[0m \u001b[0;34m\u001b[0m\u001b[0m\n\u001b[0;32m--> 637\u001b[0;31m         \u001b[0;32mreturn\u001b[0m \u001b[0mself\u001b[0m\u001b[0;34m.\u001b[0m\u001b[0mrequest\u001b[0m\u001b[0;34m(\u001b[0m\u001b[0;34m\"POST\"\u001b[0m\u001b[0;34m,\u001b[0m \u001b[0murl\u001b[0m\u001b[0;34m,\u001b[0m \u001b[0mdata\u001b[0m\u001b[0;34m=\u001b[0m\u001b[0mdata\u001b[0m\u001b[0;34m,\u001b[0m \u001b[0mjson\u001b[0m\u001b[0;34m=\u001b[0m\u001b[0mjson\u001b[0m\u001b[0;34m,\u001b[0m \u001b[0;34m**\u001b[0m\u001b[0mkwargs\u001b[0m\u001b[0;34m)\u001b[0m\u001b[0;34m\u001b[0m\u001b[0;34m\u001b[0m\u001b[0m\n\u001b[0m\u001b[1;32m    638\u001b[0m \u001b[0;34m\u001b[0m\u001b[0m\n\u001b[1;32m    639\u001b[0m     \u001b[0;32mdef\u001b[0m \u001b[0mput\u001b[0m\u001b[0;34m(\u001b[0m\u001b[0mself\u001b[0m\u001b[0;34m,\u001b[0m \u001b[0murl\u001b[0m\u001b[0;34m,\u001b[0m \u001b[0mdata\u001b[0m\u001b[0;34m=\u001b[0m\u001b[0;32mNone\u001b[0m\u001b[0;34m,\u001b[0m \u001b[0;34m**\u001b[0m\u001b[0mkwargs\u001b[0m\u001b[0;34m)\u001b[0m\u001b[0;34m:\u001b[0m\u001b[0;34m\u001b[0m\u001b[0;34m\u001b[0m\u001b[0m\n",
            "\u001b[0;32m/usr/local/lib/python3.10/dist-packages/requests/sessions.py\u001b[0m in \u001b[0;36mrequest\u001b[0;34m(self, method, url, params, data, headers, cookies, files, auth, timeout, allow_redirects, proxies, hooks, stream, verify, cert, json)\u001b[0m\n\u001b[1;32m    587\u001b[0m         }\n\u001b[1;32m    588\u001b[0m         \u001b[0msend_kwargs\u001b[0m\u001b[0;34m.\u001b[0m\u001b[0mupdate\u001b[0m\u001b[0;34m(\u001b[0m\u001b[0msettings\u001b[0m\u001b[0;34m)\u001b[0m\u001b[0;34m\u001b[0m\u001b[0;34m\u001b[0m\u001b[0m\n\u001b[0;32m--> 589\u001b[0;31m         \u001b[0mresp\u001b[0m \u001b[0;34m=\u001b[0m \u001b[0mself\u001b[0m\u001b[0;34m.\u001b[0m\u001b[0msend\u001b[0m\u001b[0;34m(\u001b[0m\u001b[0mprep\u001b[0m\u001b[0;34m,\u001b[0m \u001b[0;34m**\u001b[0m\u001b[0msend_kwargs\u001b[0m\u001b[0;34m)\u001b[0m\u001b[0;34m\u001b[0m\u001b[0;34m\u001b[0m\u001b[0m\n\u001b[0m\u001b[1;32m    590\u001b[0m \u001b[0;34m\u001b[0m\u001b[0m\n\u001b[1;32m    591\u001b[0m         \u001b[0;32mreturn\u001b[0m \u001b[0mresp\u001b[0m\u001b[0;34m\u001b[0m\u001b[0;34m\u001b[0m\u001b[0m\n",
            "\u001b[0;32m/usr/local/lib/python3.10/dist-packages/requests/sessions.py\u001b[0m in \u001b[0;36msend\u001b[0;34m(self, request, **kwargs)\u001b[0m\n\u001b[1;32m    701\u001b[0m \u001b[0;34m\u001b[0m\u001b[0m\n\u001b[1;32m    702\u001b[0m         \u001b[0;31m# Send the request\u001b[0m\u001b[0;34m\u001b[0m\u001b[0;34m\u001b[0m\u001b[0m\n\u001b[0;32m--> 703\u001b[0;31m         \u001b[0mr\u001b[0m \u001b[0;34m=\u001b[0m \u001b[0madapter\u001b[0m\u001b[0;34m.\u001b[0m\u001b[0msend\u001b[0m\u001b[0;34m(\u001b[0m\u001b[0mrequest\u001b[0m\u001b[0;34m,\u001b[0m \u001b[0;34m**\u001b[0m\u001b[0mkwargs\u001b[0m\u001b[0;34m)\u001b[0m\u001b[0;34m\u001b[0m\u001b[0;34m\u001b[0m\u001b[0m\n\u001b[0m\u001b[1;32m    704\u001b[0m \u001b[0;34m\u001b[0m\u001b[0m\n\u001b[1;32m    705\u001b[0m         \u001b[0;31m# Total elapsed time of the request (approximately)\u001b[0m\u001b[0;34m\u001b[0m\u001b[0;34m\u001b[0m\u001b[0m\n",
            "\u001b[0;32m/usr/local/lib/python3.10/dist-packages/requests/adapters.py\u001b[0m in \u001b[0;36msend\u001b[0;34m(self, request, stream, timeout, verify, cert, proxies)\u001b[0m\n\u001b[1;32m    484\u001b[0m \u001b[0;34m\u001b[0m\u001b[0m\n\u001b[1;32m    485\u001b[0m         \u001b[0;32mtry\u001b[0m\u001b[0;34m:\u001b[0m\u001b[0;34m\u001b[0m\u001b[0;34m\u001b[0m\u001b[0m\n\u001b[0;32m--> 486\u001b[0;31m             resp = conn.urlopen(\n\u001b[0m\u001b[1;32m    487\u001b[0m                 \u001b[0mmethod\u001b[0m\u001b[0;34m=\u001b[0m\u001b[0mrequest\u001b[0m\u001b[0;34m.\u001b[0m\u001b[0mmethod\u001b[0m\u001b[0;34m,\u001b[0m\u001b[0;34m\u001b[0m\u001b[0;34m\u001b[0m\u001b[0m\n\u001b[1;32m    488\u001b[0m                 \u001b[0murl\u001b[0m\u001b[0;34m=\u001b[0m\u001b[0murl\u001b[0m\u001b[0;34m,\u001b[0m\u001b[0;34m\u001b[0m\u001b[0;34m\u001b[0m\u001b[0m\n",
            "\u001b[0;32m/usr/local/lib/python3.10/dist-packages/urllib3/connectionpool.py\u001b[0m in \u001b[0;36murlopen\u001b[0;34m(self, method, url, body, headers, retries, redirect, assert_same_host, timeout, pool_timeout, release_conn, chunked, body_pos, preload_content, decode_content, **response_kw)\u001b[0m\n\u001b[1;32m    789\u001b[0m \u001b[0;34m\u001b[0m\u001b[0m\n\u001b[1;32m    790\u001b[0m             \u001b[0;31m# Make the request on the HTTPConnection object\u001b[0m\u001b[0;34m\u001b[0m\u001b[0;34m\u001b[0m\u001b[0m\n\u001b[0;32m--> 791\u001b[0;31m             response = self._make_request(\n\u001b[0m\u001b[1;32m    792\u001b[0m                 \u001b[0mconn\u001b[0m\u001b[0;34m,\u001b[0m\u001b[0;34m\u001b[0m\u001b[0;34m\u001b[0m\u001b[0m\n\u001b[1;32m    793\u001b[0m                 \u001b[0mmethod\u001b[0m\u001b[0;34m,\u001b[0m\u001b[0;34m\u001b[0m\u001b[0;34m\u001b[0m\u001b[0m\n",
            "\u001b[0;32m/usr/local/lib/python3.10/dist-packages/urllib3/connectionpool.py\u001b[0m in \u001b[0;36m_make_request\u001b[0;34m(self, conn, method, url, body, headers, retries, timeout, chunked, response_conn, preload_content, decode_content, enforce_content_length)\u001b[0m\n\u001b[1;32m    535\u001b[0m         \u001b[0;31m# Receive the response from the server\u001b[0m\u001b[0;34m\u001b[0m\u001b[0;34m\u001b[0m\u001b[0m\n\u001b[1;32m    536\u001b[0m         \u001b[0;32mtry\u001b[0m\u001b[0;34m:\u001b[0m\u001b[0;34m\u001b[0m\u001b[0;34m\u001b[0m\u001b[0m\n\u001b[0;32m--> 537\u001b[0;31m             \u001b[0mresponse\u001b[0m \u001b[0;34m=\u001b[0m \u001b[0mconn\u001b[0m\u001b[0;34m.\u001b[0m\u001b[0mgetresponse\u001b[0m\u001b[0;34m(\u001b[0m\u001b[0;34m)\u001b[0m\u001b[0;34m\u001b[0m\u001b[0;34m\u001b[0m\u001b[0m\n\u001b[0m\u001b[1;32m    538\u001b[0m         \u001b[0;32mexcept\u001b[0m \u001b[0;34m(\u001b[0m\u001b[0mBaseSSLError\u001b[0m\u001b[0;34m,\u001b[0m \u001b[0mOSError\u001b[0m\u001b[0;34m)\u001b[0m \u001b[0;32mas\u001b[0m \u001b[0me\u001b[0m\u001b[0;34m:\u001b[0m\u001b[0;34m\u001b[0m\u001b[0;34m\u001b[0m\u001b[0m\n\u001b[1;32m    539\u001b[0m             \u001b[0mself\u001b[0m\u001b[0;34m.\u001b[0m\u001b[0m_raise_timeout\u001b[0m\u001b[0;34m(\u001b[0m\u001b[0merr\u001b[0m\u001b[0;34m=\u001b[0m\u001b[0me\u001b[0m\u001b[0;34m,\u001b[0m \u001b[0murl\u001b[0m\u001b[0;34m=\u001b[0m\u001b[0murl\u001b[0m\u001b[0;34m,\u001b[0m \u001b[0mtimeout_value\u001b[0m\u001b[0;34m=\u001b[0m\u001b[0mread_timeout\u001b[0m\u001b[0;34m)\u001b[0m\u001b[0;34m\u001b[0m\u001b[0;34m\u001b[0m\u001b[0m\n",
            "\u001b[0;32m/usr/local/lib/python3.10/dist-packages/urllib3/connection.py\u001b[0m in \u001b[0;36mgetresponse\u001b[0;34m(self)\u001b[0m\n\u001b[1;32m    459\u001b[0m \u001b[0;34m\u001b[0m\u001b[0m\n\u001b[1;32m    460\u001b[0m         \u001b[0;31m# Get the response from http.client.HTTPConnection\u001b[0m\u001b[0;34m\u001b[0m\u001b[0;34m\u001b[0m\u001b[0m\n\u001b[0;32m--> 461\u001b[0;31m         \u001b[0mhttplib_response\u001b[0m \u001b[0;34m=\u001b[0m \u001b[0msuper\u001b[0m\u001b[0;34m(\u001b[0m\u001b[0;34m)\u001b[0m\u001b[0;34m.\u001b[0m\u001b[0mgetresponse\u001b[0m\u001b[0;34m(\u001b[0m\u001b[0;34m)\u001b[0m\u001b[0;34m\u001b[0m\u001b[0;34m\u001b[0m\u001b[0m\n\u001b[0m\u001b[1;32m    462\u001b[0m \u001b[0;34m\u001b[0m\u001b[0m\n\u001b[1;32m    463\u001b[0m         \u001b[0;32mtry\u001b[0m\u001b[0;34m:\u001b[0m\u001b[0;34m\u001b[0m\u001b[0;34m\u001b[0m\u001b[0m\n",
            "\u001b[0;32m/usr/lib/python3.10/http/client.py\u001b[0m in \u001b[0;36mgetresponse\u001b[0;34m(self)\u001b[0m\n\u001b[1;32m   1373\u001b[0m         \u001b[0;32mtry\u001b[0m\u001b[0;34m:\u001b[0m\u001b[0;34m\u001b[0m\u001b[0;34m\u001b[0m\u001b[0m\n\u001b[1;32m   1374\u001b[0m             \u001b[0;32mtry\u001b[0m\u001b[0;34m:\u001b[0m\u001b[0;34m\u001b[0m\u001b[0;34m\u001b[0m\u001b[0m\n\u001b[0;32m-> 1375\u001b[0;31m                 \u001b[0mresponse\u001b[0m\u001b[0;34m.\u001b[0m\u001b[0mbegin\u001b[0m\u001b[0;34m(\u001b[0m\u001b[0;34m)\u001b[0m\u001b[0;34m\u001b[0m\u001b[0;34m\u001b[0m\u001b[0m\n\u001b[0m\u001b[1;32m   1376\u001b[0m             \u001b[0;32mexcept\u001b[0m \u001b[0mConnectionError\u001b[0m\u001b[0;34m:\u001b[0m\u001b[0;34m\u001b[0m\u001b[0;34m\u001b[0m\u001b[0m\n\u001b[1;32m   1377\u001b[0m                 \u001b[0mself\u001b[0m\u001b[0;34m.\u001b[0m\u001b[0mclose\u001b[0m\u001b[0;34m(\u001b[0m\u001b[0;34m)\u001b[0m\u001b[0;34m\u001b[0m\u001b[0;34m\u001b[0m\u001b[0m\n",
            "\u001b[0;32m/usr/lib/python3.10/http/client.py\u001b[0m in \u001b[0;36mbegin\u001b[0;34m(self)\u001b[0m\n\u001b[1;32m    316\u001b[0m         \u001b[0;31m# read until we get a non-100 response\u001b[0m\u001b[0;34m\u001b[0m\u001b[0;34m\u001b[0m\u001b[0m\n\u001b[1;32m    317\u001b[0m         \u001b[0;32mwhile\u001b[0m \u001b[0;32mTrue\u001b[0m\u001b[0;34m:\u001b[0m\u001b[0;34m\u001b[0m\u001b[0;34m\u001b[0m\u001b[0m\n\u001b[0;32m--> 318\u001b[0;31m             \u001b[0mversion\u001b[0m\u001b[0;34m,\u001b[0m \u001b[0mstatus\u001b[0m\u001b[0;34m,\u001b[0m \u001b[0mreason\u001b[0m \u001b[0;34m=\u001b[0m \u001b[0mself\u001b[0m\u001b[0;34m.\u001b[0m\u001b[0m_read_status\u001b[0m\u001b[0;34m(\u001b[0m\u001b[0;34m)\u001b[0m\u001b[0;34m\u001b[0m\u001b[0;34m\u001b[0m\u001b[0m\n\u001b[0m\u001b[1;32m    319\u001b[0m             \u001b[0;32mif\u001b[0m \u001b[0mstatus\u001b[0m \u001b[0;34m!=\u001b[0m \u001b[0mCONTINUE\u001b[0m\u001b[0;34m:\u001b[0m\u001b[0;34m\u001b[0m\u001b[0;34m\u001b[0m\u001b[0m\n\u001b[1;32m    320\u001b[0m                 \u001b[0;32mbreak\u001b[0m\u001b[0;34m\u001b[0m\u001b[0;34m\u001b[0m\u001b[0m\n",
            "\u001b[0;32m/usr/lib/python3.10/http/client.py\u001b[0m in \u001b[0;36m_read_status\u001b[0;34m(self)\u001b[0m\n\u001b[1;32m    277\u001b[0m \u001b[0;34m\u001b[0m\u001b[0m\n\u001b[1;32m    278\u001b[0m     \u001b[0;32mdef\u001b[0m \u001b[0m_read_status\u001b[0m\u001b[0;34m(\u001b[0m\u001b[0mself\u001b[0m\u001b[0;34m)\u001b[0m\u001b[0;34m:\u001b[0m\u001b[0;34m\u001b[0m\u001b[0;34m\u001b[0m\u001b[0m\n\u001b[0;32m--> 279\u001b[0;31m         \u001b[0mline\u001b[0m \u001b[0;34m=\u001b[0m \u001b[0mstr\u001b[0m\u001b[0;34m(\u001b[0m\u001b[0mself\u001b[0m\u001b[0;34m.\u001b[0m\u001b[0mfp\u001b[0m\u001b[0;34m.\u001b[0m\u001b[0mreadline\u001b[0m\u001b[0;34m(\u001b[0m\u001b[0m_MAXLINE\u001b[0m \u001b[0;34m+\u001b[0m \u001b[0;36m1\u001b[0m\u001b[0;34m)\u001b[0m\u001b[0;34m,\u001b[0m \u001b[0;34m\"iso-8859-1\"\u001b[0m\u001b[0;34m)\u001b[0m\u001b[0;34m\u001b[0m\u001b[0;34m\u001b[0m\u001b[0m\n\u001b[0m\u001b[1;32m    280\u001b[0m         \u001b[0;32mif\u001b[0m \u001b[0mlen\u001b[0m\u001b[0;34m(\u001b[0m\u001b[0mline\u001b[0m\u001b[0;34m)\u001b[0m \u001b[0;34m>\u001b[0m \u001b[0m_MAXLINE\u001b[0m\u001b[0;34m:\u001b[0m\u001b[0;34m\u001b[0m\u001b[0;34m\u001b[0m\u001b[0m\n\u001b[1;32m    281\u001b[0m             \u001b[0;32mraise\u001b[0m \u001b[0mLineTooLong\u001b[0m\u001b[0;34m(\u001b[0m\u001b[0;34m\"status line\"\u001b[0m\u001b[0;34m)\u001b[0m\u001b[0;34m\u001b[0m\u001b[0;34m\u001b[0m\u001b[0m\n",
            "\u001b[0;32m/usr/lib/python3.10/socket.py\u001b[0m in \u001b[0;36mreadinto\u001b[0;34m(self, b)\u001b[0m\n\u001b[1;32m    703\u001b[0m         \u001b[0;32mwhile\u001b[0m \u001b[0;32mTrue\u001b[0m\u001b[0;34m:\u001b[0m\u001b[0;34m\u001b[0m\u001b[0;34m\u001b[0m\u001b[0m\n\u001b[1;32m    704\u001b[0m             \u001b[0;32mtry\u001b[0m\u001b[0;34m:\u001b[0m\u001b[0;34m\u001b[0m\u001b[0;34m\u001b[0m\u001b[0m\n\u001b[0;32m--> 705\u001b[0;31m                 \u001b[0;32mreturn\u001b[0m \u001b[0mself\u001b[0m\u001b[0;34m.\u001b[0m\u001b[0m_sock\u001b[0m\u001b[0;34m.\u001b[0m\u001b[0mrecv_into\u001b[0m\u001b[0;34m(\u001b[0m\u001b[0mb\u001b[0m\u001b[0;34m)\u001b[0m\u001b[0;34m\u001b[0m\u001b[0;34m\u001b[0m\u001b[0m\n\u001b[0m\u001b[1;32m    706\u001b[0m             \u001b[0;32mexcept\u001b[0m \u001b[0mtimeout\u001b[0m\u001b[0;34m:\u001b[0m\u001b[0;34m\u001b[0m\u001b[0;34m\u001b[0m\u001b[0m\n\u001b[1;32m    707\u001b[0m                 \u001b[0mself\u001b[0m\u001b[0;34m.\u001b[0m\u001b[0m_timeout_occurred\u001b[0m \u001b[0;34m=\u001b[0m \u001b[0;32mTrue\u001b[0m\u001b[0;34m\u001b[0m\u001b[0;34m\u001b[0m\u001b[0m\n",
            "\u001b[0;31mKeyboardInterrupt\u001b[0m: "
          ]
        }
      ]
    }
  ]
}