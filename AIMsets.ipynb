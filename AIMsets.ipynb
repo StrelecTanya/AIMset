{
  "cells": [
    {
      "cell_type": "code",
      "execution_count": null,
      "metadata": {
        "colab": {
          "base_uri": "https://localhost:8080/"
        },
        "id": "9owH2j-QuHU8",
        "outputId": "72c892e2-71a5-4bb9-a389-f46251f865bd"
      },
      "outputs": [
        {
          "output_type": "stream",
          "name": "stdout",
          "text": [
            "--2024-06-12 08:57:42--  https://ftp.1000genomes.ebi.ac.uk/vol1/ftp/release/20130502/integrated_call_samples_v3.20130502.ALL.panel\n",
            "Resolving ftp.1000genomes.ebi.ac.uk (ftp.1000genomes.ebi.ac.uk)... 193.62.193.167\n",
            "Connecting to ftp.1000genomes.ebi.ac.uk (ftp.1000genomes.ebi.ac.uk)|193.62.193.167|:443... connected.\n",
            "HTTP request sent, awaiting response... 200 OK\n",
            "Length: 55156 (54K)\n",
            "Saving to: ‘integrated_call_samples_v3.20130502.ALL.panel’\n",
            "\n",
            "integrated_call_sam 100%[===================>]  53.86K   301KB/s    in 0.2s    \n",
            "\n",
            "2024-06-12 08:57:43 (301 KB/s) - ‘integrated_call_samples_v3.20130502.ALL.panel’ saved [55156/55156]\n",
            "\n"
          ]
        }
      ],
      "source": [
        "!wget https://ftp.1000genomes.ebi.ac.uk/vol1/ftp/release/20130502/integrated_call_samples_v3.20130502.ALL.panel"
      ]
    },
    {
      "cell_type": "code",
      "execution_count": null,
      "metadata": {
        "colab": {
          "base_uri": "https://localhost:8080/"
        },
        "id": "_KisggDRAaUZ",
        "outputId": "76529f2b-a8fd-4821-8cfe-abd96a6bd5e9"
      },
      "outputs": [
        {
          "name": "stdout",
          "output_type": "stream",
          "text": [
            "--2024-06-10 13:34:55--  https://ftp.1000genomes.ebi.ac.uk/vol1/ftp/release/20130502/\n",
            "Resolving ftp.1000genomes.ebi.ac.uk (ftp.1000genomes.ebi.ac.uk)... 193.62.193.167\n",
            "Connecting to ftp.1000genomes.ebi.ac.uk (ftp.1000genomes.ebi.ac.uk)|193.62.193.167|:443... connected.\n",
            "HTTP request sent, awaiting response... 200 OK\n",
            "Length: unspecified [text/html]\n",
            "Saving to: ‘index.html.tmp’\n",
            "\n",
            "index.html.tmp          [ <=>                ]  19.90K  --.-KB/s    in 0.1s    \n",
            "\n",
            "2024-06-10 13:34:55 (208 KB/s) - ‘index.html.tmp’ saved [20382]\n",
            "\n",
            "Removing index.html.tmp since it should be rejected.\n",
            "\n",
            "--2024-06-10 13:34:55--  https://ftp.1000genomes.ebi.ac.uk/vol1/ftp/release/20130502/?C=N;O=D\n",
            "Reusing existing connection to ftp.1000genomes.ebi.ac.uk:443.\n",
            "HTTP request sent, awaiting response... 200 OK\n",
            "Length: unspecified [text/html]\n",
            "Saving to: ‘index.html?C=N;O=D.tmp’\n",
            "\n",
            "index.html?C=N;O=D.     [ <=>                ]  19.90K  --.-KB/s    in 0.03s   \n",
            "\n",
            "2024-06-10 13:34:55 (794 KB/s) - ‘index.html?C=N;O=D.tmp’ saved [20382]\n",
            "\n",
            "Removing index.html?C=N;O=D.tmp since it should be rejected.\n",
            "\n",
            "--2024-06-10 13:34:55--  https://ftp.1000genomes.ebi.ac.uk/vol1/ftp/release/20130502/?C=M;O=A\n",
            "Reusing existing connection to ftp.1000genomes.ebi.ac.uk:443.\n",
            "HTTP request sent, awaiting response... 200 OK\n",
            "Length: unspecified [text/html]\n",
            "Saving to: ‘index.html?C=M;O=A.tmp’\n",
            "\n",
            "index.html?C=M;O=A.     [ <=>                ]  19.90K  --.-KB/s    in 0.03s   \n",
            "\n",
            "2024-06-10 13:34:56 (655 KB/s) - ‘index.html?C=M;O=A.tmp’ saved [20382]\n",
            "\n",
            "Removing index.html?C=M;O=A.tmp since it should be rejected.\n",
            "\n",
            "--2024-06-10 13:34:56--  https://ftp.1000genomes.ebi.ac.uk/vol1/ftp/release/20130502/?C=S;O=A\n",
            "Reusing existing connection to ftp.1000genomes.ebi.ac.uk:443.\n",
            "HTTP request sent, awaiting response... 200 OK\n",
            "Length: unspecified [text/html]\n",
            "Saving to: ‘index.html?C=S;O=A.tmp’\n",
            "\n",
            "index.html?C=S;O=A.     [ <=>                ]  19.90K  --.-KB/s    in 0.03s   \n",
            "\n",
            "2024-06-10 13:34:56 (671 KB/s) - ‘index.html?C=S;O=A.tmp’ saved [20382]\n",
            "\n",
            "Removing index.html?C=S;O=A.tmp since it should be rejected.\n",
            "\n",
            "--2024-06-10 13:34:56--  https://ftp.1000genomes.ebi.ac.uk/vol1/ftp/release/20130502/?C=D;O=A\n",
            "Reusing existing connection to ftp.1000genomes.ebi.ac.uk:443.\n",
            "HTTP request sent, awaiting response... 200 OK\n",
            "Length: unspecified [text/html]\n",
            "Saving to: ‘index.html?C=D;O=A.tmp’\n",
            "\n",
            "index.html?C=D;O=A.     [ <=>                ]  19.90K  --.-KB/s    in 0.03s   \n",
            "\n",
            "2024-06-10 13:34:56 (686 KB/s) - ‘index.html?C=D;O=A.tmp’ saved [20382]\n",
            "\n",
            "Removing index.html?C=D;O=A.tmp since it should be rejected.\n",
            "\n",
            "--2024-06-10 13:34:56--  https://ftp.1000genomes.ebi.ac.uk/vol1/ftp/release/\n",
            "Reusing existing connection to ftp.1000genomes.ebi.ac.uk:443.\n",
            "HTTP request sent, awaiting response... 200 OK\n",
            "Length: 2665 (2.6K) [text/html]\n",
            "Saving to: ‘index.html.tmp’\n",
            "\n",
            "index.html.tmp      100%[===================>]   2.60K  --.-KB/s    in 0s      \n",
            "\n",
            "2024-06-10 13:34:56 (1.56 GB/s) - ‘index.html.tmp’ saved [2665/2665]\n",
            "\n",
            "Removing index.html.tmp since it should be rejected.\n",
            "\n",
            "--2024-06-10 13:34:56--  https://ftp.1000genomes.ebi.ac.uk/vol1/ftp/release/20130502/ALL.chr1.phase3_shapeit2_mvncall_integrated_v5b.20130502.genotypes.vcf.gz\n",
            "Reusing existing connection to ftp.1000genomes.ebi.ac.uk:443.\n",
            "HTTP request sent, awaiting response... 200 OK\n",
            "Length: 1165011543 (1.1G) [application/x-gzip]\n",
            "Saving to: ‘ALL.chr1.phase3_shapeit2_mvncall_integrated_v5b.20130502.genotypes.vcf.gz’\n",
            "\n",
            "ALL.chr1.phase3_sha 100%[===================>]   1.08G  36.6MB/s    in 31s     \n",
            "\n",
            "2024-06-10 13:35:28 (35.8 MB/s) - ‘ALL.chr1.phase3_shapeit2_mvncall_integrated_v5b.20130502.genotypes.vcf.gz’ saved [1165011543/1165011543]\n",
            "\n",
            "--2024-06-10 13:35:28--  https://ftp.1000genomes.ebi.ac.uk/vol1/ftp/release/20130502/ALL.chr1.phase3_shapeit2_mvncall_integrated_v5b.20130502.genotypes.vcf.gz.tbi\n",
            "Reusing existing connection to ftp.1000genomes.ebi.ac.uk:443.\n",
            "HTTP request sent, awaiting response... 200 OK\n",
            "Length: 224369 (219K) [application/x-gzip]\n",
            "Saving to: ‘ALL.chr1.phase3_shapeit2_mvncall_integrated_v5b.20130502.genotypes.vcf.gz.tbi’\n",
            "\n",
            "ALL.chr1.phase3_sha 100%[===================>] 219.11K  --.-KB/s    in 0.001s  \n",
            "\n",
            "2024-06-10 13:35:28 (206 MB/s) - ‘ALL.chr1.phase3_shapeit2_mvncall_integrated_v5b.20130502.genotypes.vcf.gz.tbi’ saved [224369/224369]\n",
            "\n",
            "--2024-06-10 13:35:28--  https://ftp.1000genomes.ebi.ac.uk/vol1/ftp/release/20130502/ALL.chr2.phase3_shapeit2_mvncall_integrated_v5b.20130502.genotypes.vcf.gz\n",
            "Reusing existing connection to ftp.1000genomes.ebi.ac.uk:443.\n",
            "HTTP request sent, awaiting response... 200 OK\n",
            "Length: 1255861869 (1.2G) [application/x-gzip]\n",
            "Saving to: ‘ALL.chr2.phase3_shapeit2_mvncall_integrated_v5b.20130502.genotypes.vcf.gz’\n",
            "\n",
            "ALL.chr2.phase3_sha 100%[===================>]   1.17G  39.0MB/s    in 31s     \n",
            "\n",
            "2024-06-10 13:36:00 (38.1 MB/s) - ‘ALL.chr2.phase3_shapeit2_mvncall_integrated_v5b.20130502.genotypes.vcf.gz’ saved [1255861869/1255861869]\n",
            "\n",
            "--2024-06-10 13:36:00--  https://ftp.1000genomes.ebi.ac.uk/vol1/ftp/release/20130502/ALL.chr2.phase3_shapeit2_mvncall_integrated_v5b.20130502.genotypes.vcf.gz.tbi\n",
            "Reusing existing connection to ftp.1000genomes.ebi.ac.uk:443.\n",
            "HTTP request sent, awaiting response... 200 OK\n",
            "Length: 237394 (232K) [application/x-gzip]\n",
            "Saving to: ‘ALL.chr2.phase3_shapeit2_mvncall_integrated_v5b.20130502.genotypes.vcf.gz.tbi’\n",
            "\n",
            "ALL.chr2.phase3_sha 100%[===================>] 231.83K  --.-KB/s    in 0.001s  \n",
            "\n",
            "2024-06-10 13:36:00 (295 MB/s) - ‘ALL.chr2.phase3_shapeit2_mvncall_integrated_v5b.20130502.genotypes.vcf.gz.tbi’ saved [237394/237394]\n",
            "\n",
            "--2024-06-10 13:36:00--  https://ftp.1000genomes.ebi.ac.uk/vol1/ftp/release/20130502/ALL.chr3.phase3_shapeit2_mvncall_integrated_v5b.20130502.genotypes.vcf.gz\n",
            "Reusing existing connection to ftp.1000genomes.ebi.ac.uk:443.\n",
            "HTTP request sent, awaiting response... 200 OK\n",
            "Length: 1058895733 (1010M) [application/x-gzip]\n",
            "Saving to: ‘ALL.chr3.phase3_shapeit2_mvncall_integrated_v5b.20130502.genotypes.vcf.gz’\n",
            "\n",
            "     ALL.chr3.phase   0%[                    ]   4.26M  3.06MB/s               ^C\n"
          ]
        }
      ],
      "source": [
        "#!wget -nH --cut-dirs=4 -r -p -e robots=off -A 'ALL.*' https://ftp.1000genomes.ebi.ac.uk/vol1/ftp/release/20130502/"
      ]
    },
    {
      "cell_type": "code",
      "execution_count": null,
      "metadata": {
        "colab": {
          "base_uri": "https://localhost:8080/"
        },
        "id": "k4yxxKmmRQXf",
        "outputId": "c9c87f68-a3a4-4656-d9de-a289c463d8f2"
      },
      "outputs": [
        {
          "output_type": "stream",
          "name": "stdout",
          "text": [
            "--2024-06-12 08:57:46--  https://ftp.1000genomes.ebi.ac.uk/vol1/ftp/release/20130502/ALL.chr1.phase3_shapeit2_mvncall_integrated_v5b.20130502.genotypes.vcf.gz\n",
            "Resolving ftp.1000genomes.ebi.ac.uk (ftp.1000genomes.ebi.ac.uk)... 193.62.193.167\n",
            "Connecting to ftp.1000genomes.ebi.ac.uk (ftp.1000genomes.ebi.ac.uk)|193.62.193.167|:443... connected.\n",
            "HTTP request sent, awaiting response... 200 OK\n",
            "Length: 1165011543 (1.1G) [application/x-gzip]\n",
            "Saving to: ‘ALL.chr1.phase3_shapeit2_mvncall_integrated_v5b.20130502.genotypes.vcf.gz’\n",
            "\n",
            "ALL.chr1.phase3_sha 100%[===================>]   1.08G  42.1MB/s    in 27s     \n",
            "\n",
            "2024-06-12 08:58:14 (40.8 MB/s) - ‘ALL.chr1.phase3_shapeit2_mvncall_integrated_v5b.20130502.genotypes.vcf.gz’ saved [1165011543/1165011543]\n",
            "\n"
          ]
        }
      ],
      "source": [
        "!wget https://ftp.1000genomes.ebi.ac.uk/vol1/ftp/release/20130502/ALL.chr1.phase3_shapeit2_mvncall_integrated_v5b.20130502.genotypes.vcf.gz"
      ]
    },
    {
      "cell_type": "markdown",
      "metadata": {
        "id": "wwmbfDmEJTaY"
      },
      "source": [
        "Практическая работа. Работа с библиотекой."
      ]
    },
    {
      "cell_type": "code",
      "execution_count": 7,
      "metadata": {
        "colab": {
          "base_uri": "https://localhost:8080/"
        },
        "id": "0MTUkqEhFUW_",
        "outputId": "c4ee7ca6-0854-4c59-903a-7ef65a44df42"
      },
      "outputs": [
        {
          "output_type": "stream",
          "name": "stdout",
          "text": [
            "Requirement already satisfied: hail in /usr/local/lib/python3.10/dist-packages (0.2.131)\n",
            "Requirement already satisfied: aiodns<3,>=2.0.0 in /usr/local/lib/python3.10/dist-packages (from hail) (2.0.0)\n",
            "Requirement already satisfied: aiohttp<4,>=3.9 in /usr/local/lib/python3.10/dist-packages (from hail) (3.9.5)\n",
            "Requirement already satisfied: azure-identity<2,>=1.6.0 in /usr/local/lib/python3.10/dist-packages (from hail) (1.16.1)\n",
            "Requirement already satisfied: azure-mgmt-storage==20.1.0 in /usr/local/lib/python3.10/dist-packages (from hail) (20.1.0)\n",
            "Requirement already satisfied: azure-storage-blob<13,>=12.11.0 in /usr/local/lib/python3.10/dist-packages (from hail) (12.20.0)\n",
            "Requirement already satisfied: boto3<2.0,>=1.17 in /usr/local/lib/python3.10/dist-packages (from hail) (1.34.124)\n",
            "Requirement already satisfied: botocore<2.0,>=1.20 in /usr/local/lib/python3.10/dist-packages (from hail) (1.34.124)\n",
            "Requirement already satisfied: dill<0.4,>=0.3.6 in /usr/local/lib/python3.10/dist-packages (from hail) (0.3.8)\n",
            "Requirement already satisfied: frozenlist<2,>=1.3.1 in /usr/local/lib/python3.10/dist-packages (from hail) (1.4.1)\n",
            "Requirement already satisfied: google-auth<3,>=2.14.1 in /usr/local/lib/python3.10/dist-packages (from hail) (2.27.0)\n",
            "Requirement already satisfied: google-auth-oauthlib<1,>=0.5.2 in /usr/local/lib/python3.10/dist-packages (from hail) (0.8.0)\n",
            "Requirement already satisfied: humanize<2,>=1.0.0 in /usr/local/lib/python3.10/dist-packages (from hail) (1.1.0)\n",
            "Requirement already satisfied: janus<1.1,>=0.6 in /usr/local/lib/python3.10/dist-packages (from hail) (1.0.0)\n",
            "Requirement already satisfied: nest-asyncio<2,>=1.5.8 in /usr/local/lib/python3.10/dist-packages (from hail) (1.6.0)\n",
            "Requirement already satisfied: orjson<4,>=3.9.15 in /usr/local/lib/python3.10/dist-packages (from hail) (3.10.4)\n",
            "Requirement already satisfied: rich<13,>=12.6.0 in /usr/local/lib/python3.10/dist-packages (from hail) (12.6.0)\n",
            "Requirement already satisfied: typer<1,>=0.9.0 in /usr/local/lib/python3.10/dist-packages (from hail) (0.9.4)\n",
            "Requirement already satisfied: python-json-logger<3,>=2.0.2 in /usr/local/lib/python3.10/dist-packages (from hail) (2.0.7)\n",
            "Requirement already satisfied: pyyaml<7.0,>=6.0 in /usr/local/lib/python3.10/dist-packages (from hail) (6.0.1)\n",
            "Requirement already satisfied: sortedcontainers<3,>=2.4.0 in /usr/local/lib/python3.10/dist-packages (from hail) (2.4.0)\n",
            "Requirement already satisfied: tabulate<1,>=0.8.9 in /usr/local/lib/python3.10/dist-packages (from hail) (0.9.0)\n",
            "Requirement already satisfied: jproperties<3,>=2.1.1 in /usr/local/lib/python3.10/dist-packages (from hail) (2.1.1)\n",
            "Requirement already satisfied: avro<1.12,>=1.10 in /usr/local/lib/python3.10/dist-packages (from hail) (1.11.3)\n",
            "Requirement already satisfied: bokeh<3.4,>=3 in /usr/local/lib/python3.10/dist-packages (from hail) (3.3.4)\n",
            "Requirement already satisfied: decorator<5 in /usr/local/lib/python3.10/dist-packages (from hail) (4.4.2)\n",
            "Requirement already satisfied: Deprecated<1.3,>=1.2.10 in /usr/local/lib/python3.10/dist-packages (from hail) (1.2.14)\n",
            "Requirement already satisfied: numpy<2 in /usr/local/lib/python3.10/dist-packages (from hail) (1.25.2)\n",
            "Requirement already satisfied: pandas<3,>=2 in /usr/local/lib/python3.10/dist-packages (from hail) (2.0.3)\n",
            "Requirement already satisfied: parsimonious<1 in /usr/local/lib/python3.10/dist-packages (from hail) (0.10.0)\n",
            "Requirement already satisfied: plotly<6,>=5.18.0 in /usr/local/lib/python3.10/dist-packages (from hail) (5.22.0)\n",
            "Requirement already satisfied: protobuf==3.20.2 in /usr/local/lib/python3.10/dist-packages (from hail) (3.20.2)\n",
            "Requirement already satisfied: pyspark<3.6,>=3.5.0 in /usr/local/lib/python3.10/dist-packages (from hail) (3.5.1)\n",
            "Requirement already satisfied: requests<3,>=2.31.0 in /usr/local/lib/python3.10/dist-packages (from hail) (2.31.0)\n",
            "Requirement already satisfied: scipy<1.12,>1.2 in /usr/local/lib/python3.10/dist-packages (from hail) (1.11.4)\n",
            "Requirement already satisfied: uvloop<1,>=0.19.0 in /usr/local/lib/python3.10/dist-packages (from hail) (0.19.0)\n",
            "Requirement already satisfied: msrest>=0.6.21 in /usr/local/lib/python3.10/dist-packages (from azure-mgmt-storage==20.1.0->hail) (0.7.1)\n",
            "Requirement already satisfied: azure-common~=1.1 in /usr/local/lib/python3.10/dist-packages (from azure-mgmt-storage==20.1.0->hail) (1.1.28)\n",
            "Requirement already satisfied: azure-mgmt-core<2.0.0,>=1.3.1 in /usr/local/lib/python3.10/dist-packages (from azure-mgmt-storage==20.1.0->hail) (1.4.0)\n",
            "Requirement already satisfied: pycares>=3.0.0 in /usr/local/lib/python3.10/dist-packages (from aiodns<3,>=2.0.0->hail) (4.4.0)\n",
            "Requirement already satisfied: aiosignal>=1.1.2 in /usr/local/lib/python3.10/dist-packages (from aiohttp<4,>=3.9->hail) (1.3.1)\n",
            "Requirement already satisfied: attrs>=17.3.0 in /usr/local/lib/python3.10/dist-packages (from aiohttp<4,>=3.9->hail) (23.2.0)\n",
            "Requirement already satisfied: multidict<7.0,>=4.5 in /usr/local/lib/python3.10/dist-packages (from aiohttp<4,>=3.9->hail) (6.0.5)\n",
            "Requirement already satisfied: yarl<2.0,>=1.0 in /usr/local/lib/python3.10/dist-packages (from aiohttp<4,>=3.9->hail) (1.9.4)\n",
            "Requirement already satisfied: async-timeout<5.0,>=4.0 in /usr/local/lib/python3.10/dist-packages (from aiohttp<4,>=3.9->hail) (4.0.3)\n",
            "Requirement already satisfied: azure-core>=1.23.0 in /usr/local/lib/python3.10/dist-packages (from azure-identity<2,>=1.6.0->hail) (1.30.2)\n",
            "Requirement already satisfied: cryptography>=2.5 in /usr/local/lib/python3.10/dist-packages (from azure-identity<2,>=1.6.0->hail) (42.0.7)\n",
            "Requirement already satisfied: msal>=1.24.0 in /usr/local/lib/python3.10/dist-packages (from azure-identity<2,>=1.6.0->hail) (1.28.1)\n",
            "Requirement already satisfied: msal-extensions>=0.3.0 in /usr/local/lib/python3.10/dist-packages (from azure-identity<2,>=1.6.0->hail) (1.1.0)\n",
            "Requirement already satisfied: typing-extensions>=4.6.0 in /usr/local/lib/python3.10/dist-packages (from azure-storage-blob<13,>=12.11.0->hail) (4.12.1)\n",
            "Requirement already satisfied: isodate>=0.6.1 in /usr/local/lib/python3.10/dist-packages (from azure-storage-blob<13,>=12.11.0->hail) (0.6.1)\n",
            "Requirement already satisfied: Jinja2>=2.9 in /usr/local/lib/python3.10/dist-packages (from bokeh<3.4,>=3->hail) (3.1.4)\n",
            "Requirement already satisfied: contourpy>=1 in /usr/local/lib/python3.10/dist-packages (from bokeh<3.4,>=3->hail) (1.2.1)\n",
            "Requirement already satisfied: packaging>=16.8 in /usr/local/lib/python3.10/dist-packages (from bokeh<3.4,>=3->hail) (24.0)\n",
            "Requirement already satisfied: pillow>=7.1.0 in /usr/local/lib/python3.10/dist-packages (from bokeh<3.4,>=3->hail) (9.4.0)\n",
            "Requirement already satisfied: tornado>=5.1 in /usr/local/lib/python3.10/dist-packages (from bokeh<3.4,>=3->hail) (6.3.3)\n",
            "Requirement already satisfied: xyzservices>=2021.09.1 in /usr/local/lib/python3.10/dist-packages (from bokeh<3.4,>=3->hail) (2024.4.0)\n",
            "Requirement already satisfied: jmespath<2.0.0,>=0.7.1 in /usr/local/lib/python3.10/dist-packages (from boto3<2.0,>=1.17->hail) (1.0.1)\n",
            "Requirement already satisfied: s3transfer<0.11.0,>=0.10.0 in /usr/local/lib/python3.10/dist-packages (from boto3<2.0,>=1.17->hail) (0.10.1)\n",
            "Requirement already satisfied: python-dateutil<3.0.0,>=2.1 in /usr/local/lib/python3.10/dist-packages (from botocore<2.0,>=1.20->hail) (2.8.2)\n",
            "Requirement already satisfied: urllib3!=2.2.0,<3,>=1.25.4 in /usr/local/lib/python3.10/dist-packages (from botocore<2.0,>=1.20->hail) (2.0.7)\n",
            "Requirement already satisfied: wrapt<2,>=1.10 in /usr/local/lib/python3.10/dist-packages (from Deprecated<1.3,>=1.2.10->hail) (1.14.1)\n",
            "Requirement already satisfied: cachetools<6.0,>=2.0.0 in /usr/local/lib/python3.10/dist-packages (from google-auth<3,>=2.14.1->hail) (5.3.3)\n",
            "Requirement already satisfied: pyasn1-modules>=0.2.1 in /usr/local/lib/python3.10/dist-packages (from google-auth<3,>=2.14.1->hail) (0.4.0)\n",
            "Requirement already satisfied: rsa<5,>=3.1.4 in /usr/local/lib/python3.10/dist-packages (from google-auth<3,>=2.14.1->hail) (4.9)\n",
            "Requirement already satisfied: requests-oauthlib>=0.7.0 in /usr/local/lib/python3.10/dist-packages (from google-auth-oauthlib<1,>=0.5.2->hail) (1.3.1)\n",
            "Requirement already satisfied: six~=1.13 in /usr/local/lib/python3.10/dist-packages (from jproperties<3,>=2.1.1->hail) (1.16.0)\n",
            "Requirement already satisfied: pytz>=2020.1 in /usr/local/lib/python3.10/dist-packages (from pandas<3,>=2->hail) (2023.4)\n",
            "Requirement already satisfied: tzdata>=2022.1 in /usr/local/lib/python3.10/dist-packages (from pandas<3,>=2->hail) (2024.1)\n",
            "Requirement already satisfied: regex>=2022.3.15 in /usr/local/lib/python3.10/dist-packages (from parsimonious<1->hail) (2024.5.15)\n",
            "Requirement already satisfied: tenacity>=6.2.0 in /usr/local/lib/python3.10/dist-packages (from plotly<6,>=5.18.0->hail) (8.3.0)\n",
            "Requirement already satisfied: py4j==0.10.9.7 in /usr/local/lib/python3.10/dist-packages (from pyspark<3.6,>=3.5.0->hail) (0.10.9.7)\n",
            "Requirement already satisfied: charset-normalizer<4,>=2 in /usr/local/lib/python3.10/dist-packages (from requests<3,>=2.31.0->hail) (3.3.2)\n",
            "Requirement already satisfied: idna<4,>=2.5 in /usr/local/lib/python3.10/dist-packages (from requests<3,>=2.31.0->hail) (3.7)\n",
            "Requirement already satisfied: certifi>=2017.4.17 in /usr/local/lib/python3.10/dist-packages (from requests<3,>=2.31.0->hail) (2024.6.2)\n",
            "Requirement already satisfied: commonmark<0.10.0,>=0.9.0 in /usr/local/lib/python3.10/dist-packages (from rich<13,>=12.6.0->hail) (0.9.1)\n",
            "Requirement already satisfied: pygments<3.0.0,>=2.6.0 in /usr/local/lib/python3.10/dist-packages (from rich<13,>=12.6.0->hail) (2.16.1)\n",
            "Requirement already satisfied: click<9.0.0,>=7.1.1 in /usr/local/lib/python3.10/dist-packages (from typer<1,>=0.9.0->hail) (8.1.7)\n",
            "Requirement already satisfied: cffi>=1.12 in /usr/local/lib/python3.10/dist-packages (from cryptography>=2.5->azure-identity<2,>=1.6.0->hail) (1.16.0)\n",
            "Requirement already satisfied: MarkupSafe>=2.0 in /usr/local/lib/python3.10/dist-packages (from Jinja2>=2.9->bokeh<3.4,>=3->hail) (2.1.5)\n",
            "Requirement already satisfied: PyJWT[crypto]<3,>=1.0.0 in /usr/lib/python3/dist-packages (from msal>=1.24.0->azure-identity<2,>=1.6.0->hail) (2.3.0)\n",
            "Requirement already satisfied: portalocker<3,>=1.0 in /usr/local/lib/python3.10/dist-packages (from msal-extensions>=0.3.0->azure-identity<2,>=1.6.0->hail) (2.8.2)\n",
            "Requirement already satisfied: pyasn1<0.7.0,>=0.4.6 in /usr/local/lib/python3.10/dist-packages (from pyasn1-modules>=0.2.1->google-auth<3,>=2.14.1->hail) (0.6.0)\n",
            "Requirement already satisfied: oauthlib>=3.0.0 in /usr/local/lib/python3.10/dist-packages (from requests-oauthlib>=0.7.0->google-auth-oauthlib<1,>=0.5.2->hail) (3.2.2)\n",
            "Requirement already satisfied: pycparser in /usr/local/lib/python3.10/dist-packages (from cffi>=1.12->cryptography>=2.5->azure-identity<2,>=1.6.0->hail) (2.22)\n"
          ]
        }
      ],
      "source": [
        "pip install hail"
      ]
    },
    {
      "cell_type": "code",
      "execution_count": 8,
      "metadata": {
        "id": "xpMZN3V9u5AY"
      },
      "outputs": [],
      "source": [
        "import hail as hl\n",
        "from hail.plot import show\n",
        "from pprint import pprint"
      ]
    },
    {
      "cell_type": "markdown",
      "metadata": {
        "id": "iUptTgbT58G0"
      },
      "source": [
        "Prepare - удаляем группу AMR (смешанные американцы) и создаем тестовую и обучающую выборки"
      ]
    },
    {
      "cell_type": "code",
      "execution_count": null,
      "metadata": {
        "id": "sCsCASnH6j-k"
      },
      "outputs": [],
      "source": [
        "!grep -E 'AFR|EUR|SAS|EAS' annotation.txt > annotation_noAMR.txt"
      ]
    },
    {
      "cell_type": "markdown",
      "metadata": {
        "id": "9gB7h3gBVaBk"
      },
      "source": [
        "STEP0 - отбираем только би-аллельные SNP и убирает инделы"
      ]
    },
    {
      "cell_type": "code",
      "execution_count": null,
      "metadata": {
        "id": "l4zrt36avAvQ",
        "colab": {
          "base_uri": "https://localhost:8080/"
        },
        "outputId": "d652f709-af4a-4928-acc4-c54ff64a0ff2"
      },
      "outputs": [
        {
          "output_type": "stream",
          "name": "stderr",
          "text": [
            "Initializing Hail with default parameters...\n",
            "Running on Apache Spark version 3.5.1\n",
            "SparkUI available at http://efa5b174b53a:4040\n",
            "Welcome to\n",
            "     __  __     <>__\n",
            "    / /_/ /__  __/ /\n",
            "   / __  / _ `/ / /\n",
            "  /_/ /_/\\_,_/_/_/   version 0.2.131-11d9b2ff89da\n",
            "LOGGING: writing to /content/hail-20240612-1506-0.2.131-11d9b2ff89da.log\n"
          ]
        }
      ],
      "source": [
        "chr1 = hl.import_vcf('chr1.vcf.gz', force_bgz=True)"
      ]
    },
    {
      "cell_type": "code",
      "execution_count": 9,
      "metadata": {
        "id": "zsEUeSECYQeV",
        "colab": {
          "base_uri": "https://localhost:8080/",
          "height": 383
        },
        "outputId": "a18c5132-d8e6-4937-fa49-c048ca36c5dd"
      },
      "outputs": [
        {
          "output_type": "display_data",
          "data": {
            "text/plain": [
              "+---------------+--------------------------------+--------------+--------------+--------------+\n",
              "| locus         | alleles                        | 'HG00096'.GT | 'HG00097'.GT | 'HG00099'.GT |\n",
              "+---------------+--------------------------------+--------------+--------------+--------------+\n",
              "| locus<GRCh37> | array<str>                     | call         | call         | call         |\n",
              "+---------------+--------------------------------+--------------+--------------+--------------+\n",
              "| 1:10177       | [\"A\",\"AC\"]                     | 1|0          | 0|1          | 0|1          |\n",
              "| 1:10235       | [\"T\",\"TA\"]                     | 0|0          | 0|0          | 0|0          |\n",
              "| 1:10352       | [\"T\",\"TA\"]                     | 1|0          | 1|0          | 0|1          |\n",
              "| 1:10505       | [\"A\",\"T\"]                      | 0|0          | 0|0          | 0|0          |\n",
              "| 1:10506       | [\"C\",\"G\"]                      | 0|0          | 0|0          | 0|0          |\n",
              "| 1:10511       | [\"G\",\"A\"]                      | 0|0          | 0|0          | 0|0          |\n",
              "| 1:10539       | [\"C\",\"A\"]                      | 0|0          | 0|0          | 0|0          |\n",
              "| 1:10542       | [\"C\",\"T\"]                      | 0|0          | 0|0          | 0|0          |\n",
              "| 1:10579       | [\"C\",\"A\"]                      | 0|0          | 0|0          | 0|0          |\n",
              "| 1:10616       | [\"CCGCCGTTGCAAAGGCGCGCCG\",\"C\"] | 1|1          | 1|1          | 1|1          |\n",
              "+---------------+--------------------------------+--------------+--------------+--------------+\n",
              "\n",
              "+--------------+--------------+\n",
              "| 'HG00100'.GT | 'HG00101'.GT |\n",
              "+--------------+--------------+\n",
              "| call         | call         |\n",
              "+--------------+--------------+\n",
              "| 1|0          | 0|0          |\n",
              "| 0|0          | 0|0          |\n",
              "| 0|1          | 1|0          |\n",
              "| 0|0          | 0|0          |\n",
              "| 0|0          | 0|0          |\n",
              "| 0|0          | 0|0          |\n",
              "| 0|0          | 0|0          |\n",
              "| 0|0          | 0|0          |\n",
              "| 0|0          | 0|0          |\n",
              "| 1|1          | 1|1          |\n",
              "+--------------+--------------+\n",
              "showing top 10 rows\n",
              "showing the first 5 of 2504 columns"
            ],
            "text/html": [
              "<table><thead><tr><td style=\"white-space: nowrap; max-width: 500px; overflow: hidden; text-overflow: ellipsis; \" colspan=\"1\"><div style=\"text-align: left;\"></div></td><td style=\"white-space: nowrap; max-width: 500px; overflow: hidden; text-overflow: ellipsis; \" colspan=\"1\"><div style=\"text-align: left;\"></div></td><td style=\"white-space: nowrap; max-width: 500px; overflow: hidden; text-overflow: ellipsis; \" colspan=\"1\"><div style=\"text-align: left;\"></div></td><td style=\"white-space: nowrap; max-width: 500px; overflow: hidden; text-overflow: ellipsis; \" colspan=\"1\"><div style=\"text-align: left;\"></div></td><td style=\"white-space: nowrap; max-width: 500px; overflow: hidden; text-overflow: ellipsis; \" colspan=\"1\"><div style=\"text-align: left;\"></div></td><td style=\"white-space: nowrap; max-width: 500px; overflow: hidden; text-overflow: ellipsis; \" colspan=\"1\"><div style=\"text-align: left;\"></div></td><td style=\"white-space: nowrap; max-width: 500px; overflow: hidden; text-overflow: ellipsis; \" colspan=\"1\"><div style=\"text-align: left;\"></div></td></tr><tr><td style=\"white-space: nowrap; max-width: 500px; overflow: hidden; text-overflow: ellipsis; \" colspan=\"1\"><div style=\"text-align: left;\"></div></td><td style=\"white-space: nowrap; max-width: 500px; overflow: hidden; text-overflow: ellipsis; \" colspan=\"1\"><div style=\"text-align: left;\"></div></td><td style=\"white-space: nowrap; max-width: 500px; overflow: hidden; text-overflow: ellipsis; \" colspan=\"1\"><div style=\"text-align: left;border-bottom: solid 2px #000; padding-bottom: 5px\">&#x27;HG00096&#x27;</div></td><td style=\"white-space: nowrap; max-width: 500px; overflow: hidden; text-overflow: ellipsis; \" colspan=\"1\"><div style=\"text-align: left;border-bottom: solid 2px #000; padding-bottom: 5px\">&#x27;HG00097&#x27;</div></td><td style=\"white-space: nowrap; max-width: 500px; overflow: hidden; text-overflow: ellipsis; \" colspan=\"1\"><div style=\"text-align: left;border-bottom: solid 2px #000; padding-bottom: 5px\">&#x27;HG00099&#x27;</div></td><td style=\"white-space: nowrap; max-width: 500px; overflow: hidden; text-overflow: ellipsis; \" colspan=\"1\"><div style=\"text-align: left;border-bottom: solid 2px #000; padding-bottom: 5px\">&#x27;HG00100&#x27;</div></td><td style=\"white-space: nowrap; max-width: 500px; overflow: hidden; text-overflow: ellipsis; \" colspan=\"1\"><div style=\"text-align: left;border-bottom: solid 2px #000; padding-bottom: 5px\">&#x27;HG00101&#x27;</div></td></tr><tr><td style=\"white-space: nowrap; max-width: 500px; overflow: hidden; text-overflow: ellipsis; \" colspan=\"1\"><div style=\"text-align: left;border-bottom: solid 2px #000; padding-bottom: 5px\">locus</div></td><td style=\"white-space: nowrap; max-width: 500px; overflow: hidden; text-overflow: ellipsis; \" colspan=\"1\"><div style=\"text-align: left;border-bottom: solid 2px #000; padding-bottom: 5px\">alleles</div></td><td style=\"white-space: nowrap; max-width: 500px; overflow: hidden; text-overflow: ellipsis; \" colspan=\"1\"><div style=\"text-align: left;border-bottom: solid 2px #000; padding-bottom: 5px\">GT</div></td><td style=\"white-space: nowrap; max-width: 500px; overflow: hidden; text-overflow: ellipsis; \" colspan=\"1\"><div style=\"text-align: left;border-bottom: solid 2px #000; padding-bottom: 5px\">GT</div></td><td style=\"white-space: nowrap; max-width: 500px; overflow: hidden; text-overflow: ellipsis; \" colspan=\"1\"><div style=\"text-align: left;border-bottom: solid 2px #000; padding-bottom: 5px\">GT</div></td><td style=\"white-space: nowrap; max-width: 500px; overflow: hidden; text-overflow: ellipsis; \" colspan=\"1\"><div style=\"text-align: left;border-bottom: solid 2px #000; padding-bottom: 5px\">GT</div></td><td style=\"white-space: nowrap; max-width: 500px; overflow: hidden; text-overflow: ellipsis; \" colspan=\"1\"><div style=\"text-align: left;border-bottom: solid 2px #000; padding-bottom: 5px\">GT</div></td></tr><tr><td style=\"white-space: nowrap; max-width: 500px; overflow: hidden; text-overflow: ellipsis; text-align: left;\">locus&lt;GRCh37&gt;</td><td style=\"white-space: nowrap; max-width: 500px; overflow: hidden; text-overflow: ellipsis; text-align: left;\">array&lt;str&gt;</td><td style=\"white-space: nowrap; max-width: 500px; overflow: hidden; text-overflow: ellipsis; text-align: left;\">call</td><td style=\"white-space: nowrap; max-width: 500px; overflow: hidden; text-overflow: ellipsis; text-align: left;\">call</td><td style=\"white-space: nowrap; max-width: 500px; overflow: hidden; text-overflow: ellipsis; text-align: left;\">call</td><td style=\"white-space: nowrap; max-width: 500px; overflow: hidden; text-overflow: ellipsis; text-align: left;\">call</td><td style=\"white-space: nowrap; max-width: 500px; overflow: hidden; text-overflow: ellipsis; text-align: left;\">call</td></tr>\n",
              "</thead><tbody><tr><td style=\"white-space: nowrap; max-width: 500px; overflow: hidden; text-overflow: ellipsis; \">1:10177</td><td style=\"white-space: nowrap; max-width: 500px; overflow: hidden; text-overflow: ellipsis; \">[&quot;A&quot;,&quot;AC&quot;]</td><td style=\"white-space: nowrap; max-width: 500px; overflow: hidden; text-overflow: ellipsis; \">1|0</td><td style=\"white-space: nowrap; max-width: 500px; overflow: hidden; text-overflow: ellipsis; \">0|1</td><td style=\"white-space: nowrap; max-width: 500px; overflow: hidden; text-overflow: ellipsis; \">0|1</td><td style=\"white-space: nowrap; max-width: 500px; overflow: hidden; text-overflow: ellipsis; \">1|0</td><td style=\"white-space: nowrap; max-width: 500px; overflow: hidden; text-overflow: ellipsis; \">0|0</td></tr>\n",
              "<tr><td style=\"white-space: nowrap; max-width: 500px; overflow: hidden; text-overflow: ellipsis; \">1:10235</td><td style=\"white-space: nowrap; max-width: 500px; overflow: hidden; text-overflow: ellipsis; \">[&quot;T&quot;,&quot;TA&quot;]</td><td style=\"white-space: nowrap; max-width: 500px; overflow: hidden; text-overflow: ellipsis; \">0|0</td><td style=\"white-space: nowrap; max-width: 500px; overflow: hidden; text-overflow: ellipsis; \">0|0</td><td style=\"white-space: nowrap; max-width: 500px; overflow: hidden; text-overflow: ellipsis; \">0|0</td><td style=\"white-space: nowrap; max-width: 500px; overflow: hidden; text-overflow: ellipsis; \">0|0</td><td style=\"white-space: nowrap; max-width: 500px; overflow: hidden; text-overflow: ellipsis; \">0|0</td></tr>\n",
              "<tr><td style=\"white-space: nowrap; max-width: 500px; overflow: hidden; text-overflow: ellipsis; \">1:10352</td><td style=\"white-space: nowrap; max-width: 500px; overflow: hidden; text-overflow: ellipsis; \">[&quot;T&quot;,&quot;TA&quot;]</td><td style=\"white-space: nowrap; max-width: 500px; overflow: hidden; text-overflow: ellipsis; \">1|0</td><td style=\"white-space: nowrap; max-width: 500px; overflow: hidden; text-overflow: ellipsis; \">1|0</td><td style=\"white-space: nowrap; max-width: 500px; overflow: hidden; text-overflow: ellipsis; \">0|1</td><td style=\"white-space: nowrap; max-width: 500px; overflow: hidden; text-overflow: ellipsis; \">0|1</td><td style=\"white-space: nowrap; max-width: 500px; overflow: hidden; text-overflow: ellipsis; \">1|0</td></tr>\n",
              "<tr><td style=\"white-space: nowrap; max-width: 500px; overflow: hidden; text-overflow: ellipsis; \">1:10505</td><td style=\"white-space: nowrap; max-width: 500px; overflow: hidden; text-overflow: ellipsis; \">[&quot;A&quot;,&quot;T&quot;]</td><td style=\"white-space: nowrap; max-width: 500px; overflow: hidden; text-overflow: ellipsis; \">0|0</td><td style=\"white-space: nowrap; max-width: 500px; overflow: hidden; text-overflow: ellipsis; \">0|0</td><td style=\"white-space: nowrap; max-width: 500px; overflow: hidden; text-overflow: ellipsis; \">0|0</td><td style=\"white-space: nowrap; max-width: 500px; overflow: hidden; text-overflow: ellipsis; \">0|0</td><td style=\"white-space: nowrap; max-width: 500px; overflow: hidden; text-overflow: ellipsis; \">0|0</td></tr>\n",
              "<tr><td style=\"white-space: nowrap; max-width: 500px; overflow: hidden; text-overflow: ellipsis; \">1:10506</td><td style=\"white-space: nowrap; max-width: 500px; overflow: hidden; text-overflow: ellipsis; \">[&quot;C&quot;,&quot;G&quot;]</td><td style=\"white-space: nowrap; max-width: 500px; overflow: hidden; text-overflow: ellipsis; \">0|0</td><td style=\"white-space: nowrap; max-width: 500px; overflow: hidden; text-overflow: ellipsis; \">0|0</td><td style=\"white-space: nowrap; max-width: 500px; overflow: hidden; text-overflow: ellipsis; \">0|0</td><td style=\"white-space: nowrap; max-width: 500px; overflow: hidden; text-overflow: ellipsis; \">0|0</td><td style=\"white-space: nowrap; max-width: 500px; overflow: hidden; text-overflow: ellipsis; \">0|0</td></tr>\n",
              "<tr><td style=\"white-space: nowrap; max-width: 500px; overflow: hidden; text-overflow: ellipsis; \">1:10511</td><td style=\"white-space: nowrap; max-width: 500px; overflow: hidden; text-overflow: ellipsis; \">[&quot;G&quot;,&quot;A&quot;]</td><td style=\"white-space: nowrap; max-width: 500px; overflow: hidden; text-overflow: ellipsis; \">0|0</td><td style=\"white-space: nowrap; max-width: 500px; overflow: hidden; text-overflow: ellipsis; \">0|0</td><td style=\"white-space: nowrap; max-width: 500px; overflow: hidden; text-overflow: ellipsis; \">0|0</td><td style=\"white-space: nowrap; max-width: 500px; overflow: hidden; text-overflow: ellipsis; \">0|0</td><td style=\"white-space: nowrap; max-width: 500px; overflow: hidden; text-overflow: ellipsis; \">0|0</td></tr>\n",
              "<tr><td style=\"white-space: nowrap; max-width: 500px; overflow: hidden; text-overflow: ellipsis; \">1:10539</td><td style=\"white-space: nowrap; max-width: 500px; overflow: hidden; text-overflow: ellipsis; \">[&quot;C&quot;,&quot;A&quot;]</td><td style=\"white-space: nowrap; max-width: 500px; overflow: hidden; text-overflow: ellipsis; \">0|0</td><td style=\"white-space: nowrap; max-width: 500px; overflow: hidden; text-overflow: ellipsis; \">0|0</td><td style=\"white-space: nowrap; max-width: 500px; overflow: hidden; text-overflow: ellipsis; \">0|0</td><td style=\"white-space: nowrap; max-width: 500px; overflow: hidden; text-overflow: ellipsis; \">0|0</td><td style=\"white-space: nowrap; max-width: 500px; overflow: hidden; text-overflow: ellipsis; \">0|0</td></tr>\n",
              "<tr><td style=\"white-space: nowrap; max-width: 500px; overflow: hidden; text-overflow: ellipsis; \">1:10542</td><td style=\"white-space: nowrap; max-width: 500px; overflow: hidden; text-overflow: ellipsis; \">[&quot;C&quot;,&quot;T&quot;]</td><td style=\"white-space: nowrap; max-width: 500px; overflow: hidden; text-overflow: ellipsis; \">0|0</td><td style=\"white-space: nowrap; max-width: 500px; overflow: hidden; text-overflow: ellipsis; \">0|0</td><td style=\"white-space: nowrap; max-width: 500px; overflow: hidden; text-overflow: ellipsis; \">0|0</td><td style=\"white-space: nowrap; max-width: 500px; overflow: hidden; text-overflow: ellipsis; \">0|0</td><td style=\"white-space: nowrap; max-width: 500px; overflow: hidden; text-overflow: ellipsis; \">0|0</td></tr>\n",
              "<tr><td style=\"white-space: nowrap; max-width: 500px; overflow: hidden; text-overflow: ellipsis; \">1:10579</td><td style=\"white-space: nowrap; max-width: 500px; overflow: hidden; text-overflow: ellipsis; \">[&quot;C&quot;,&quot;A&quot;]</td><td style=\"white-space: nowrap; max-width: 500px; overflow: hidden; text-overflow: ellipsis; \">0|0</td><td style=\"white-space: nowrap; max-width: 500px; overflow: hidden; text-overflow: ellipsis; \">0|0</td><td style=\"white-space: nowrap; max-width: 500px; overflow: hidden; text-overflow: ellipsis; \">0|0</td><td style=\"white-space: nowrap; max-width: 500px; overflow: hidden; text-overflow: ellipsis; \">0|0</td><td style=\"white-space: nowrap; max-width: 500px; overflow: hidden; text-overflow: ellipsis; \">0|0</td></tr>\n",
              "<tr><td style=\"white-space: nowrap; max-width: 500px; overflow: hidden; text-overflow: ellipsis; \">1:10616</td><td style=\"white-space: nowrap; max-width: 500px; overflow: hidden; text-overflow: ellipsis; \">[&quot;CCGCCGTTGCAAAGGCGCGCCG&quot;,&quot;C&quot;]</td><td style=\"white-space: nowrap; max-width: 500px; overflow: hidden; text-overflow: ellipsis; \">1|1</td><td style=\"white-space: nowrap; max-width: 500px; overflow: hidden; text-overflow: ellipsis; \">1|1</td><td style=\"white-space: nowrap; max-width: 500px; overflow: hidden; text-overflow: ellipsis; \">1|1</td><td style=\"white-space: nowrap; max-width: 500px; overflow: hidden; text-overflow: ellipsis; \">1|1</td><td style=\"white-space: nowrap; max-width: 500px; overflow: hidden; text-overflow: ellipsis; \">1|1</td></tr>\n",
              "</tbody></table><p style=\"background: #fdd; padding: 0.4em;\">showing top 10 rows</p>\n",
              "<p style=\"background: #fdd; padding: 0.4em;\">showing the first 5 of 2504 columns</p>\n"
            ]
          },
          "metadata": {}
        }
      ],
      "source": [
        "chr1.show()"
      ]
    },
    {
      "cell_type": "code",
      "execution_count": 10,
      "metadata": {
        "id": "GNwD5WLzEBZ_"
      },
      "outputs": [],
      "source": [
        "#only bi-allelic SNP\n",
        "chr1 = chr1.filter_rows(hl.len(chr1.alleles) == 2)\n",
        "#remove indels\n",
        "chr1 = chr1.filter_rows(hl.is_snp(chr1.alleles[0], chr1.alleles[1]))"
      ]
    },
    {
      "cell_type": "markdown",
      "metadata": {
        "id": "s4MBw12RVne6"
      },
      "source": [
        "STEP1 - считаем частоты SNP"
      ]
    },
    {
      "cell_type": "code",
      "source": [
        "table = hl.import_table(\"annotation.txt\").key_by(\"sample\")\n",
        "mt = chr1\n",
        "\n",
        "# объединяем данные из аннотации с данными из vcf файла\n",
        "mt = mt.annotate_cols(pheno=table[mt.s])\n",
        "\n",
        "#Список популяций в файле\n",
        "pops = list(table.aggregate(hl.agg.collect_as_set(table.super_pop)))\n",
        "\n",
        "# Инициализация таблицы первой популяцией\n",
        "mt_pop = mt.filter_cols(mt.pheno.super_pop == pops[0])\n",
        "mt_pop = hl.variant_qc(mt_pop)\n",
        "mt_pop = mt_pop.annotate_rows(ref = mt_pop.variant_qc.AF[0], alt = mt_pop.variant_qc.AF[1])\n",
        "freq_table = mt_pop.rows().select('ref', 'alt').annotate(population = pops[0])\n",
        "\n",
        "\n",
        "# Цикл по оставшимся популяциям\n",
        "for pop in pops[1:]:\n",
        "  mt_pop = mt.filter_cols(mt.pheno.super_pop == pop)\n",
        "  mt_pop = hl.variant_qc(mt_pop)\n",
        "  mt_pop = mt_pop.annotate_rows(ref = mt_pop.variant_qc.AF[0], alt = mt_pop.variant_qc.AF[1])\n",
        "  pop_freq = mt_pop.rows().select('ref', 'alt').annotate(population = pop)\n",
        "\n",
        "  # Объединяем таблицы\n",
        "  freq_table = freq_table.union(pop_freq)\n"
      ],
      "metadata": {
        "colab": {
          "base_uri": "https://localhost:8080/"
        },
        "id": "KADRlzs080St",
        "outputId": "9891b259-31bc-49be-a3e0-2aaf911a2756"
      },
      "execution_count": 38,
      "outputs": [
        {
          "output_type": "stream",
          "name": "stderr",
          "text": [
            "2024-06-12 15:40:31.630 Hail: INFO: Reading table without type imputation\n",
            "  Loading field 'sample' as type str (not specified)\n",
            "  Loading field 'pop' as type str (not specified)\n",
            "  Loading field 'super_pop' as type str (not specified)\n",
            "  Loading field 'gender' as type str (not specified)\n"
          ]
        }
      ]
    },
    {
      "cell_type": "code",
      "execution_count": null,
      "metadata": {
        "colab": {
          "base_uri": "https://localhost:8080/"
        },
        "id": "3mRV3vQ-fm6-",
        "outputId": "2209e5d7-1857-4f70-c720-d6d7e2b8c285"
      },
      "outputs": [
        {
          "name": "stdout",
          "output_type": "stream",
          "text": [
            "{'AFR': 661, 'EAS': 504, 'EUR': 503, 'SAS': 489}\n"
          ]
        }
      ],
      "source": [
        "pprint(table.aggregate(hl.agg.counter(table.super_pop)))"
      ]
    },
    {
      "cell_type": "code",
      "source": [
        "freq_table.show()"
      ],
      "metadata": {
        "colab": {
          "base_uri": "https://localhost:8080/",
          "height": 321
        },
        "id": "EIOAB7e6G-5F",
        "outputId": "2207f620-b6b2-45a4-90d5-16adcabb7e1b"
      },
      "execution_count": 56,
      "outputs": [
        {
          "output_type": "display_data",
          "data": {
            "text/plain": [
              "+---------------+------------+----------+----------+------------+\n",
              "| locus         | alleles    |      ref |      alt | population |\n",
              "+---------------+------------+----------+----------+------------+\n",
              "| locus<GRCh37> | array<str> |  float64 |  float64 | str        |\n",
              "+---------------+------------+----------+----------+------------+\n",
              "| 1:10505       | [\"A\",\"T\"]  | 1.00e+00 | 0.00e+00 | \"AMR\"      |\n",
              "| 1:10505       | [\"A\",\"T\"]  | 1.00e+00 | 0.00e+00 | \"EUR\"      |\n",
              "| 1:10505       | [\"A\",\"T\"]  | 1.00e+00 | 0.00e+00 | \"SAS\"      |\n",
              "| 1:10505       | [\"A\",\"T\"]  | 1.00e+00 | 0.00e+00 | \"EAS\"      |\n",
              "| 1:10505       | [\"A\",\"T\"]  | 9.99e-01 | 7.56e-04 | \"AFR\"      |\n",
              "| 1:10506       | [\"C\",\"G\"]  | 1.00e+00 | 0.00e+00 | \"AMR\"      |\n",
              "| 1:10506       | [\"C\",\"G\"]  | 1.00e+00 | 0.00e+00 | \"EUR\"      |\n",
              "| 1:10506       | [\"C\",\"G\"]  | 1.00e+00 | 0.00e+00 | \"SAS\"      |\n",
              "| 1:10506       | [\"C\",\"G\"]  | 1.00e+00 | 0.00e+00 | \"EAS\"      |\n",
              "| 1:10506       | [\"C\",\"G\"]  | 9.99e-01 | 7.56e-04 | \"AFR\"      |\n",
              "+---------------+------------+----------+----------+------------+\n",
              "showing top 10 rows"
            ],
            "text/html": [
              "<table><thead><tr><td style=\"white-space: nowrap; max-width: 500px; overflow: hidden; text-overflow: ellipsis; \" colspan=\"1\"><div style=\"text-align: left;\"></div></td><td style=\"white-space: nowrap; max-width: 500px; overflow: hidden; text-overflow: ellipsis; \" colspan=\"1\"><div style=\"text-align: left;\"></div></td><td style=\"white-space: nowrap; max-width: 500px; overflow: hidden; text-overflow: ellipsis; \" colspan=\"1\"><div style=\"text-align: left;\"></div></td><td style=\"white-space: nowrap; max-width: 500px; overflow: hidden; text-overflow: ellipsis; \" colspan=\"1\"><div style=\"text-align: left;\"></div></td><td style=\"white-space: nowrap; max-width: 500px; overflow: hidden; text-overflow: ellipsis; \" colspan=\"1\"><div style=\"text-align: left;\"></div></td></tr><tr><td style=\"white-space: nowrap; max-width: 500px; overflow: hidden; text-overflow: ellipsis; \" colspan=\"1\"><div style=\"text-align: left;border-bottom: solid 2px #000; padding-bottom: 5px\">locus</div></td><td style=\"white-space: nowrap; max-width: 500px; overflow: hidden; text-overflow: ellipsis; \" colspan=\"1\"><div style=\"text-align: left;border-bottom: solid 2px #000; padding-bottom: 5px\">alleles</div></td><td style=\"white-space: nowrap; max-width: 500px; overflow: hidden; text-overflow: ellipsis; \" colspan=\"1\"><div style=\"text-align: left;border-bottom: solid 2px #000; padding-bottom: 5px\">ref</div></td><td style=\"white-space: nowrap; max-width: 500px; overflow: hidden; text-overflow: ellipsis; \" colspan=\"1\"><div style=\"text-align: left;border-bottom: solid 2px #000; padding-bottom: 5px\">alt</div></td><td style=\"white-space: nowrap; max-width: 500px; overflow: hidden; text-overflow: ellipsis; \" colspan=\"1\"><div style=\"text-align: left;border-bottom: solid 2px #000; padding-bottom: 5px\">population</div></td></tr><tr><td style=\"white-space: nowrap; max-width: 500px; overflow: hidden; text-overflow: ellipsis; text-align: left;\">locus&lt;GRCh37&gt;</td><td style=\"white-space: nowrap; max-width: 500px; overflow: hidden; text-overflow: ellipsis; text-align: left;\">array&lt;str&gt;</td><td style=\"white-space: nowrap; max-width: 500px; overflow: hidden; text-overflow: ellipsis; text-align: left;\">float64</td><td style=\"white-space: nowrap; max-width: 500px; overflow: hidden; text-overflow: ellipsis; text-align: left;\">float64</td><td style=\"white-space: nowrap; max-width: 500px; overflow: hidden; text-overflow: ellipsis; text-align: left;\">str</td></tr>\n",
              "</thead><tbody><tr><td style=\"white-space: nowrap; max-width: 500px; overflow: hidden; text-overflow: ellipsis; \">1:10505</td><td style=\"white-space: nowrap; max-width: 500px; overflow: hidden; text-overflow: ellipsis; \">[&quot;A&quot;,&quot;T&quot;]</td><td style=\"white-space: nowrap; max-width: 500px; overflow: hidden; text-overflow: ellipsis; \">1.00e+00</td><td style=\"white-space: nowrap; max-width: 500px; overflow: hidden; text-overflow: ellipsis; \">0.00e+00</td><td style=\"white-space: nowrap; max-width: 500px; overflow: hidden; text-overflow: ellipsis; \">&quot;AMR&quot;</td></tr>\n",
              "<tr><td style=\"white-space: nowrap; max-width: 500px; overflow: hidden; text-overflow: ellipsis; \">1:10505</td><td style=\"white-space: nowrap; max-width: 500px; overflow: hidden; text-overflow: ellipsis; \">[&quot;A&quot;,&quot;T&quot;]</td><td style=\"white-space: nowrap; max-width: 500px; overflow: hidden; text-overflow: ellipsis; \">1.00e+00</td><td style=\"white-space: nowrap; max-width: 500px; overflow: hidden; text-overflow: ellipsis; \">0.00e+00</td><td style=\"white-space: nowrap; max-width: 500px; overflow: hidden; text-overflow: ellipsis; \">&quot;EUR&quot;</td></tr>\n",
              "<tr><td style=\"white-space: nowrap; max-width: 500px; overflow: hidden; text-overflow: ellipsis; \">1:10505</td><td style=\"white-space: nowrap; max-width: 500px; overflow: hidden; text-overflow: ellipsis; \">[&quot;A&quot;,&quot;T&quot;]</td><td style=\"white-space: nowrap; max-width: 500px; overflow: hidden; text-overflow: ellipsis; \">1.00e+00</td><td style=\"white-space: nowrap; max-width: 500px; overflow: hidden; text-overflow: ellipsis; \">0.00e+00</td><td style=\"white-space: nowrap; max-width: 500px; overflow: hidden; text-overflow: ellipsis; \">&quot;SAS&quot;</td></tr>\n",
              "<tr><td style=\"white-space: nowrap; max-width: 500px; overflow: hidden; text-overflow: ellipsis; \">1:10505</td><td style=\"white-space: nowrap; max-width: 500px; overflow: hidden; text-overflow: ellipsis; \">[&quot;A&quot;,&quot;T&quot;]</td><td style=\"white-space: nowrap; max-width: 500px; overflow: hidden; text-overflow: ellipsis; \">1.00e+00</td><td style=\"white-space: nowrap; max-width: 500px; overflow: hidden; text-overflow: ellipsis; \">0.00e+00</td><td style=\"white-space: nowrap; max-width: 500px; overflow: hidden; text-overflow: ellipsis; \">&quot;EAS&quot;</td></tr>\n",
              "<tr><td style=\"white-space: nowrap; max-width: 500px; overflow: hidden; text-overflow: ellipsis; \">1:10505</td><td style=\"white-space: nowrap; max-width: 500px; overflow: hidden; text-overflow: ellipsis; \">[&quot;A&quot;,&quot;T&quot;]</td><td style=\"white-space: nowrap; max-width: 500px; overflow: hidden; text-overflow: ellipsis; \">9.99e-01</td><td style=\"white-space: nowrap; max-width: 500px; overflow: hidden; text-overflow: ellipsis; \">7.56e-04</td><td style=\"white-space: nowrap; max-width: 500px; overflow: hidden; text-overflow: ellipsis; \">&quot;AFR&quot;</td></tr>\n",
              "<tr><td style=\"white-space: nowrap; max-width: 500px; overflow: hidden; text-overflow: ellipsis; \">1:10506</td><td style=\"white-space: nowrap; max-width: 500px; overflow: hidden; text-overflow: ellipsis; \">[&quot;C&quot;,&quot;G&quot;]</td><td style=\"white-space: nowrap; max-width: 500px; overflow: hidden; text-overflow: ellipsis; \">1.00e+00</td><td style=\"white-space: nowrap; max-width: 500px; overflow: hidden; text-overflow: ellipsis; \">0.00e+00</td><td style=\"white-space: nowrap; max-width: 500px; overflow: hidden; text-overflow: ellipsis; \">&quot;AMR&quot;</td></tr>\n",
              "<tr><td style=\"white-space: nowrap; max-width: 500px; overflow: hidden; text-overflow: ellipsis; \">1:10506</td><td style=\"white-space: nowrap; max-width: 500px; overflow: hidden; text-overflow: ellipsis; \">[&quot;C&quot;,&quot;G&quot;]</td><td style=\"white-space: nowrap; max-width: 500px; overflow: hidden; text-overflow: ellipsis; \">1.00e+00</td><td style=\"white-space: nowrap; max-width: 500px; overflow: hidden; text-overflow: ellipsis; \">0.00e+00</td><td style=\"white-space: nowrap; max-width: 500px; overflow: hidden; text-overflow: ellipsis; \">&quot;EUR&quot;</td></tr>\n",
              "<tr><td style=\"white-space: nowrap; max-width: 500px; overflow: hidden; text-overflow: ellipsis; \">1:10506</td><td style=\"white-space: nowrap; max-width: 500px; overflow: hidden; text-overflow: ellipsis; \">[&quot;C&quot;,&quot;G&quot;]</td><td style=\"white-space: nowrap; max-width: 500px; overflow: hidden; text-overflow: ellipsis; \">1.00e+00</td><td style=\"white-space: nowrap; max-width: 500px; overflow: hidden; text-overflow: ellipsis; \">0.00e+00</td><td style=\"white-space: nowrap; max-width: 500px; overflow: hidden; text-overflow: ellipsis; \">&quot;SAS&quot;</td></tr>\n",
              "<tr><td style=\"white-space: nowrap; max-width: 500px; overflow: hidden; text-overflow: ellipsis; \">1:10506</td><td style=\"white-space: nowrap; max-width: 500px; overflow: hidden; text-overflow: ellipsis; \">[&quot;C&quot;,&quot;G&quot;]</td><td style=\"white-space: nowrap; max-width: 500px; overflow: hidden; text-overflow: ellipsis; \">1.00e+00</td><td style=\"white-space: nowrap; max-width: 500px; overflow: hidden; text-overflow: ellipsis; \">0.00e+00</td><td style=\"white-space: nowrap; max-width: 500px; overflow: hidden; text-overflow: ellipsis; \">&quot;EAS&quot;</td></tr>\n",
              "<tr><td style=\"white-space: nowrap; max-width: 500px; overflow: hidden; text-overflow: ellipsis; \">1:10506</td><td style=\"white-space: nowrap; max-width: 500px; overflow: hidden; text-overflow: ellipsis; \">[&quot;C&quot;,&quot;G&quot;]</td><td style=\"white-space: nowrap; max-width: 500px; overflow: hidden; text-overflow: ellipsis; \">9.99e-01</td><td style=\"white-space: nowrap; max-width: 500px; overflow: hidden; text-overflow: ellipsis; \">7.56e-04</td><td style=\"white-space: nowrap; max-width: 500px; overflow: hidden; text-overflow: ellipsis; \">&quot;AFR&quot;</td></tr>\n",
              "</tbody></table><p style=\"background: #fdd; padding: 0.4em;\">showing top 10 rows</p>\n"
            ]
          },
          "metadata": {}
        }
      ]
    },
    {
      "cell_type": "markdown",
      "source": [
        "STEP2 - фильтуем SNP по информативности"
      ],
      "metadata": {
        "id": "Gso4atPPK3Bz"
      }
    },
    {
      "cell_type": "code",
      "source": [
        "#Задаем уровень информативности, при котором мы оставляем SNP\n",
        "informativenessBound = 0.9"
      ],
      "metadata": {
        "id": "lRrrL8M-QkTY"
      },
      "execution_count": 57,
      "outputs": []
    }
  ],
  "metadata": {
    "colab": {
      "provenance": []
    },
    "kernelspec": {
      "display_name": "Python 3",
      "name": "python3"
    },
    "language_info": {
      "name": "python"
    }
  },
  "nbformat": 4,
  "nbformat_minor": 0
}